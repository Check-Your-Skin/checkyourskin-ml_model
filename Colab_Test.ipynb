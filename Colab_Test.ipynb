{
  "nbformat": 4,
  "nbformat_minor": 0,
  "metadata": {
    "colab": {
      "provenance": [],
      "toc_visible": true,
      "include_colab_link": true
    },
    "kernelspec": {
      "name": "python3",
      "display_name": "Python 3"
    },
    "language_info": {
      "name": "python"
    }
  },
  "cells": [
    {
      "cell_type": "markdown",
      "metadata": {
        "id": "view-in-github",
        "colab_type": "text"
      },
      "source": [
        "<a href=\"https://colab.research.google.com/github/Check-Your-Skin/checkyourskin-ml_model/blob/data-understanding/Colab_Test.ipynb\" target=\"_parent\"><img src=\"https://colab.research.google.com/assets/colab-badge.svg\" alt=\"Open In Colab\"/></a>"
      ]
    },
    {
      "cell_type": "markdown",
      "source": [],
      "metadata": {
        "id": "pki5uOOB_qtV"
      }
    },
    {
      "cell_type": "markdown",
      "source": [
        "# Import"
      ],
      "metadata": {
        "id": "_vOmV_l6aHpf"
      }
    },
    {
      "cell_type": "code",
      "source": [
        "from google.colab import drive\n",
        "import pandas as pd\n",
        "import tensorflow as tf\n",
        "import datetime, os\n",
        "import seaborn\n",
        "import matplotlib.pyplot as plt"
      ],
      "metadata": {
        "id": "UgKx7Tw_aSFO"
      },
      "execution_count": 7,
      "outputs": []
    },
    {
      "cell_type": "markdown",
      "source": [
        "\n",
        "# Mount Drive"
      ],
      "metadata": {
        "id": "7SiHlzrHaMR1"
      }
    },
    {
      "cell_type": "code",
      "source": [
        "drive.mount('/content/drive')"
      ],
      "metadata": {
        "id": "KExVnx6QAutG",
        "outputId": "3d0fd0ea-c5e6-43d8-ff32-c1ed3836498f",
        "colab": {
          "base_uri": "https://localhost:8080/"
        }
      },
      "execution_count": 8,
      "outputs": [
        {
          "output_type": "stream",
          "name": "stdout",
          "text": [
            "Mounted at /content/drive\n"
          ]
        }
      ]
    },
    {
      "cell_type": "markdown",
      "source": [
        "# Data Understanding\n"
      ],
      "metadata": {
        "id": "GD7bePYibdpH"
      }
    },
    {
      "cell_type": "code",
      "source": [
        "file_path = '/content/drive/My Drive/archive/HAM10000_metadata.csv'\n",
        "df = pd.read_csv(file_path)\n",
        "df"
      ],
      "metadata": {
        "id": "yVtp94QVbiP1",
        "outputId": "99dbe74c-fbe4-4845-ef48-a211e59a5604",
        "colab": {
          "base_uri": "https://localhost:8080/",
          "height": 424
        }
      },
      "execution_count": 16,
      "outputs": [
        {
          "output_type": "execute_result",
          "data": {
            "text/plain": [
              "         lesion_id      image_id     dx dx_type   age     sex localization\n",
              "0      HAM_0000118  ISIC_0027419    bkl   histo  80.0    male        scalp\n",
              "1      HAM_0000118  ISIC_0025030    bkl   histo  80.0    male        scalp\n",
              "2      HAM_0002730  ISIC_0026769    bkl   histo  80.0    male        scalp\n",
              "3      HAM_0002730  ISIC_0025661    bkl   histo  80.0    male        scalp\n",
              "4      HAM_0001466  ISIC_0031633    bkl   histo  75.0    male          ear\n",
              "...            ...           ...    ...     ...   ...     ...          ...\n",
              "10010  HAM_0002867  ISIC_0033084  akiec   histo  40.0    male      abdomen\n",
              "10011  HAM_0002867  ISIC_0033550  akiec   histo  40.0    male      abdomen\n",
              "10012  HAM_0002867  ISIC_0033536  akiec   histo  40.0    male      abdomen\n",
              "10013  HAM_0000239  ISIC_0032854  akiec   histo  80.0    male         face\n",
              "10014  HAM_0003521  ISIC_0032258    mel   histo  70.0  female         back\n",
              "\n",
              "[10015 rows x 7 columns]"
            ],
            "text/html": [
              "\n",
              "  <div id=\"df-959da16c-cb98-440d-a83c-defca857c998\" class=\"colab-df-container\">\n",
              "    <div>\n",
              "<style scoped>\n",
              "    .dataframe tbody tr th:only-of-type {\n",
              "        vertical-align: middle;\n",
              "    }\n",
              "\n",
              "    .dataframe tbody tr th {\n",
              "        vertical-align: top;\n",
              "    }\n",
              "\n",
              "    .dataframe thead th {\n",
              "        text-align: right;\n",
              "    }\n",
              "</style>\n",
              "<table border=\"1\" class=\"dataframe\">\n",
              "  <thead>\n",
              "    <tr style=\"text-align: right;\">\n",
              "      <th></th>\n",
              "      <th>lesion_id</th>\n",
              "      <th>image_id</th>\n",
              "      <th>dx</th>\n",
              "      <th>dx_type</th>\n",
              "      <th>age</th>\n",
              "      <th>sex</th>\n",
              "      <th>localization</th>\n",
              "    </tr>\n",
              "  </thead>\n",
              "  <tbody>\n",
              "    <tr>\n",
              "      <th>0</th>\n",
              "      <td>HAM_0000118</td>\n",
              "      <td>ISIC_0027419</td>\n",
              "      <td>bkl</td>\n",
              "      <td>histo</td>\n",
              "      <td>80.0</td>\n",
              "      <td>male</td>\n",
              "      <td>scalp</td>\n",
              "    </tr>\n",
              "    <tr>\n",
              "      <th>1</th>\n",
              "      <td>HAM_0000118</td>\n",
              "      <td>ISIC_0025030</td>\n",
              "      <td>bkl</td>\n",
              "      <td>histo</td>\n",
              "      <td>80.0</td>\n",
              "      <td>male</td>\n",
              "      <td>scalp</td>\n",
              "    </tr>\n",
              "    <tr>\n",
              "      <th>2</th>\n",
              "      <td>HAM_0002730</td>\n",
              "      <td>ISIC_0026769</td>\n",
              "      <td>bkl</td>\n",
              "      <td>histo</td>\n",
              "      <td>80.0</td>\n",
              "      <td>male</td>\n",
              "      <td>scalp</td>\n",
              "    </tr>\n",
              "    <tr>\n",
              "      <th>3</th>\n",
              "      <td>HAM_0002730</td>\n",
              "      <td>ISIC_0025661</td>\n",
              "      <td>bkl</td>\n",
              "      <td>histo</td>\n",
              "      <td>80.0</td>\n",
              "      <td>male</td>\n",
              "      <td>scalp</td>\n",
              "    </tr>\n",
              "    <tr>\n",
              "      <th>4</th>\n",
              "      <td>HAM_0001466</td>\n",
              "      <td>ISIC_0031633</td>\n",
              "      <td>bkl</td>\n",
              "      <td>histo</td>\n",
              "      <td>75.0</td>\n",
              "      <td>male</td>\n",
              "      <td>ear</td>\n",
              "    </tr>\n",
              "    <tr>\n",
              "      <th>...</th>\n",
              "      <td>...</td>\n",
              "      <td>...</td>\n",
              "      <td>...</td>\n",
              "      <td>...</td>\n",
              "      <td>...</td>\n",
              "      <td>...</td>\n",
              "      <td>...</td>\n",
              "    </tr>\n",
              "    <tr>\n",
              "      <th>10010</th>\n",
              "      <td>HAM_0002867</td>\n",
              "      <td>ISIC_0033084</td>\n",
              "      <td>akiec</td>\n",
              "      <td>histo</td>\n",
              "      <td>40.0</td>\n",
              "      <td>male</td>\n",
              "      <td>abdomen</td>\n",
              "    </tr>\n",
              "    <tr>\n",
              "      <th>10011</th>\n",
              "      <td>HAM_0002867</td>\n",
              "      <td>ISIC_0033550</td>\n",
              "      <td>akiec</td>\n",
              "      <td>histo</td>\n",
              "      <td>40.0</td>\n",
              "      <td>male</td>\n",
              "      <td>abdomen</td>\n",
              "    </tr>\n",
              "    <tr>\n",
              "      <th>10012</th>\n",
              "      <td>HAM_0002867</td>\n",
              "      <td>ISIC_0033536</td>\n",
              "      <td>akiec</td>\n",
              "      <td>histo</td>\n",
              "      <td>40.0</td>\n",
              "      <td>male</td>\n",
              "      <td>abdomen</td>\n",
              "    </tr>\n",
              "    <tr>\n",
              "      <th>10013</th>\n",
              "      <td>HAM_0000239</td>\n",
              "      <td>ISIC_0032854</td>\n",
              "      <td>akiec</td>\n",
              "      <td>histo</td>\n",
              "      <td>80.0</td>\n",
              "      <td>male</td>\n",
              "      <td>face</td>\n",
              "    </tr>\n",
              "    <tr>\n",
              "      <th>10014</th>\n",
              "      <td>HAM_0003521</td>\n",
              "      <td>ISIC_0032258</td>\n",
              "      <td>mel</td>\n",
              "      <td>histo</td>\n",
              "      <td>70.0</td>\n",
              "      <td>female</td>\n",
              "      <td>back</td>\n",
              "    </tr>\n",
              "  </tbody>\n",
              "</table>\n",
              "<p>10015 rows × 7 columns</p>\n",
              "</div>\n",
              "    <div class=\"colab-df-buttons\">\n",
              "\n",
              "  <div class=\"colab-df-container\">\n",
              "    <button class=\"colab-df-convert\" onclick=\"convertToInteractive('df-959da16c-cb98-440d-a83c-defca857c998')\"\n",
              "            title=\"Convert this dataframe to an interactive table.\"\n",
              "            style=\"display:none;\">\n",
              "\n",
              "  <svg xmlns=\"http://www.w3.org/2000/svg\" height=\"24px\" viewBox=\"0 -960 960 960\">\n",
              "    <path d=\"M120-120v-720h720v720H120Zm60-500h600v-160H180v160Zm220 220h160v-160H400v160Zm0 220h160v-160H400v160ZM180-400h160v-160H180v160Zm440 0h160v-160H620v160ZM180-180h160v-160H180v160Zm440 0h160v-160H620v160Z\"/>\n",
              "  </svg>\n",
              "    </button>\n",
              "\n",
              "  <style>\n",
              "    .colab-df-container {\n",
              "      display:flex;\n",
              "      gap: 12px;\n",
              "    }\n",
              "\n",
              "    .colab-df-convert {\n",
              "      background-color: #E8F0FE;\n",
              "      border: none;\n",
              "      border-radius: 50%;\n",
              "      cursor: pointer;\n",
              "      display: none;\n",
              "      fill: #1967D2;\n",
              "      height: 32px;\n",
              "      padding: 0 0 0 0;\n",
              "      width: 32px;\n",
              "    }\n",
              "\n",
              "    .colab-df-convert:hover {\n",
              "      background-color: #E2EBFA;\n",
              "      box-shadow: 0px 1px 2px rgba(60, 64, 67, 0.3), 0px 1px 3px 1px rgba(60, 64, 67, 0.15);\n",
              "      fill: #174EA6;\n",
              "    }\n",
              "\n",
              "    .colab-df-buttons div {\n",
              "      margin-bottom: 4px;\n",
              "    }\n",
              "\n",
              "    [theme=dark] .colab-df-convert {\n",
              "      background-color: #3B4455;\n",
              "      fill: #D2E3FC;\n",
              "    }\n",
              "\n",
              "    [theme=dark] .colab-df-convert:hover {\n",
              "      background-color: #434B5C;\n",
              "      box-shadow: 0px 1px 3px 1px rgba(0, 0, 0, 0.15);\n",
              "      filter: drop-shadow(0px 1px 2px rgba(0, 0, 0, 0.3));\n",
              "      fill: #FFFFFF;\n",
              "    }\n",
              "  </style>\n",
              "\n",
              "    <script>\n",
              "      const buttonEl =\n",
              "        document.querySelector('#df-959da16c-cb98-440d-a83c-defca857c998 button.colab-df-convert');\n",
              "      buttonEl.style.display =\n",
              "        google.colab.kernel.accessAllowed ? 'block' : 'none';\n",
              "\n",
              "      async function convertToInteractive(key) {\n",
              "        const element = document.querySelector('#df-959da16c-cb98-440d-a83c-defca857c998');\n",
              "        const dataTable =\n",
              "          await google.colab.kernel.invokeFunction('convertToInteractive',\n",
              "                                                    [key], {});\n",
              "        if (!dataTable) return;\n",
              "\n",
              "        const docLinkHtml = 'Like what you see? Visit the ' +\n",
              "          '<a target=\"_blank\" href=https://colab.research.google.com/notebooks/data_table.ipynb>data table notebook</a>'\n",
              "          + ' to learn more about interactive tables.';\n",
              "        element.innerHTML = '';\n",
              "        dataTable['output_type'] = 'display_data';\n",
              "        await google.colab.output.renderOutput(dataTable, element);\n",
              "        const docLink = document.createElement('div');\n",
              "        docLink.innerHTML = docLinkHtml;\n",
              "        element.appendChild(docLink);\n",
              "      }\n",
              "    </script>\n",
              "  </div>\n",
              "\n",
              "\n",
              "<div id=\"df-365b39aa-7213-4ba8-bf5d-34661f6654bd\">\n",
              "  <button class=\"colab-df-quickchart\" onclick=\"quickchart('df-365b39aa-7213-4ba8-bf5d-34661f6654bd')\"\n",
              "            title=\"Suggest charts.\"\n",
              "            style=\"display:none;\">\n",
              "\n",
              "<svg xmlns=\"http://www.w3.org/2000/svg\" height=\"24px\"viewBox=\"0 0 24 24\"\n",
              "     width=\"24px\">\n",
              "    <g>\n",
              "        <path d=\"M19 3H5c-1.1 0-2 .9-2 2v14c0 1.1.9 2 2 2h14c1.1 0 2-.9 2-2V5c0-1.1-.9-2-2-2zM9 17H7v-7h2v7zm4 0h-2V7h2v10zm4 0h-2v-4h2v4z\"/>\n",
              "    </g>\n",
              "</svg>\n",
              "  </button>\n",
              "\n",
              "<style>\n",
              "  .colab-df-quickchart {\n",
              "      --bg-color: #E8F0FE;\n",
              "      --fill-color: #1967D2;\n",
              "      --hover-bg-color: #E2EBFA;\n",
              "      --hover-fill-color: #174EA6;\n",
              "      --disabled-fill-color: #AAA;\n",
              "      --disabled-bg-color: #DDD;\n",
              "  }\n",
              "\n",
              "  [theme=dark] .colab-df-quickchart {\n",
              "      --bg-color: #3B4455;\n",
              "      --fill-color: #D2E3FC;\n",
              "      --hover-bg-color: #434B5C;\n",
              "      --hover-fill-color: #FFFFFF;\n",
              "      --disabled-bg-color: #3B4455;\n",
              "      --disabled-fill-color: #666;\n",
              "  }\n",
              "\n",
              "  .colab-df-quickchart {\n",
              "    background-color: var(--bg-color);\n",
              "    border: none;\n",
              "    border-radius: 50%;\n",
              "    cursor: pointer;\n",
              "    display: none;\n",
              "    fill: var(--fill-color);\n",
              "    height: 32px;\n",
              "    padding: 0;\n",
              "    width: 32px;\n",
              "  }\n",
              "\n",
              "  .colab-df-quickchart:hover {\n",
              "    background-color: var(--hover-bg-color);\n",
              "    box-shadow: 0 1px 2px rgba(60, 64, 67, 0.3), 0 1px 3px 1px rgba(60, 64, 67, 0.15);\n",
              "    fill: var(--button-hover-fill-color);\n",
              "  }\n",
              "\n",
              "  .colab-df-quickchart-complete:disabled,\n",
              "  .colab-df-quickchart-complete:disabled:hover {\n",
              "    background-color: var(--disabled-bg-color);\n",
              "    fill: var(--disabled-fill-color);\n",
              "    box-shadow: none;\n",
              "  }\n",
              "\n",
              "  .colab-df-spinner {\n",
              "    border: 2px solid var(--fill-color);\n",
              "    border-color: transparent;\n",
              "    border-bottom-color: var(--fill-color);\n",
              "    animation:\n",
              "      spin 1s steps(1) infinite;\n",
              "  }\n",
              "\n",
              "  @keyframes spin {\n",
              "    0% {\n",
              "      border-color: transparent;\n",
              "      border-bottom-color: var(--fill-color);\n",
              "      border-left-color: var(--fill-color);\n",
              "    }\n",
              "    20% {\n",
              "      border-color: transparent;\n",
              "      border-left-color: var(--fill-color);\n",
              "      border-top-color: var(--fill-color);\n",
              "    }\n",
              "    30% {\n",
              "      border-color: transparent;\n",
              "      border-left-color: var(--fill-color);\n",
              "      border-top-color: var(--fill-color);\n",
              "      border-right-color: var(--fill-color);\n",
              "    }\n",
              "    40% {\n",
              "      border-color: transparent;\n",
              "      border-right-color: var(--fill-color);\n",
              "      border-top-color: var(--fill-color);\n",
              "    }\n",
              "    60% {\n",
              "      border-color: transparent;\n",
              "      border-right-color: var(--fill-color);\n",
              "    }\n",
              "    80% {\n",
              "      border-color: transparent;\n",
              "      border-right-color: var(--fill-color);\n",
              "      border-bottom-color: var(--fill-color);\n",
              "    }\n",
              "    90% {\n",
              "      border-color: transparent;\n",
              "      border-bottom-color: var(--fill-color);\n",
              "    }\n",
              "  }\n",
              "</style>\n",
              "\n",
              "  <script>\n",
              "    async function quickchart(key) {\n",
              "      const quickchartButtonEl =\n",
              "        document.querySelector('#' + key + ' button');\n",
              "      quickchartButtonEl.disabled = true;  // To prevent multiple clicks.\n",
              "      quickchartButtonEl.classList.add('colab-df-spinner');\n",
              "      try {\n",
              "        const charts = await google.colab.kernel.invokeFunction(\n",
              "            'suggestCharts', [key], {});\n",
              "      } catch (error) {\n",
              "        console.error('Error during call to suggestCharts:', error);\n",
              "      }\n",
              "      quickchartButtonEl.classList.remove('colab-df-spinner');\n",
              "      quickchartButtonEl.classList.add('colab-df-quickchart-complete');\n",
              "    }\n",
              "    (() => {\n",
              "      let quickchartButtonEl =\n",
              "        document.querySelector('#df-365b39aa-7213-4ba8-bf5d-34661f6654bd button');\n",
              "      quickchartButtonEl.style.display =\n",
              "        google.colab.kernel.accessAllowed ? 'block' : 'none';\n",
              "    })();\n",
              "  </script>\n",
              "</div>\n",
              "    </div>\n",
              "  </div>\n"
            ]
          },
          "metadata": {},
          "execution_count": 16
        }
      ]
    },
    {
      "cell_type": "code",
      "source": [
        "df.describe()"
      ],
      "metadata": {
        "id": "67uuY_y1cBy-",
        "outputId": "bac5a44b-2348-4129-c90a-41079bb8224f",
        "colab": {
          "base_uri": "https://localhost:8080/",
          "height": 622
        }
      },
      "execution_count": 43,
      "outputs": [
        {
          "output_type": "execute_result",
          "data": {
            "text/plain": [
              "               age\n",
              "count  9958.000000\n",
              "mean     51.863828\n",
              "std      16.968614\n",
              "min       0.000000\n",
              "25%      40.000000\n",
              "50%      50.000000\n",
              "75%      65.000000\n",
              "max      85.000000"
            ],
            "text/html": [
              "\n",
              "  <div id=\"df-49b589df-b745-404d-9d47-c5298f169a19\" class=\"colab-df-container\">\n",
              "    <div>\n",
              "<style scoped>\n",
              "    .dataframe tbody tr th:only-of-type {\n",
              "        vertical-align: middle;\n",
              "    }\n",
              "\n",
              "    .dataframe tbody tr th {\n",
              "        vertical-align: top;\n",
              "    }\n",
              "\n",
              "    .dataframe thead th {\n",
              "        text-align: right;\n",
              "    }\n",
              "</style>\n",
              "<table border=\"1\" class=\"dataframe\">\n",
              "  <thead>\n",
              "    <tr style=\"text-align: right;\">\n",
              "      <th></th>\n",
              "      <th>age</th>\n",
              "    </tr>\n",
              "  </thead>\n",
              "  <tbody>\n",
              "    <tr>\n",
              "      <th>count</th>\n",
              "      <td>9958.000000</td>\n",
              "    </tr>\n",
              "    <tr>\n",
              "      <th>mean</th>\n",
              "      <td>51.863828</td>\n",
              "    </tr>\n",
              "    <tr>\n",
              "      <th>std</th>\n",
              "      <td>16.968614</td>\n",
              "    </tr>\n",
              "    <tr>\n",
              "      <th>min</th>\n",
              "      <td>0.000000</td>\n",
              "    </tr>\n",
              "    <tr>\n",
              "      <th>25%</th>\n",
              "      <td>40.000000</td>\n",
              "    </tr>\n",
              "    <tr>\n",
              "      <th>50%</th>\n",
              "      <td>50.000000</td>\n",
              "    </tr>\n",
              "    <tr>\n",
              "      <th>75%</th>\n",
              "      <td>65.000000</td>\n",
              "    </tr>\n",
              "    <tr>\n",
              "      <th>max</th>\n",
              "      <td>85.000000</td>\n",
              "    </tr>\n",
              "  </tbody>\n",
              "</table>\n",
              "</div>\n",
              "    <div class=\"colab-df-buttons\">\n",
              "\n",
              "  <div class=\"colab-df-container\">\n",
              "    <button class=\"colab-df-convert\" onclick=\"convertToInteractive('df-49b589df-b745-404d-9d47-c5298f169a19')\"\n",
              "            title=\"Convert this dataframe to an interactive table.\"\n",
              "            style=\"display:none;\">\n",
              "\n",
              "  <svg xmlns=\"http://www.w3.org/2000/svg\" height=\"24px\" viewBox=\"0 -960 960 960\">\n",
              "    <path d=\"M120-120v-720h720v720H120Zm60-500h600v-160H180v160Zm220 220h160v-160H400v160Zm0 220h160v-160H400v160ZM180-400h160v-160H180v160Zm440 0h160v-160H620v160ZM180-180h160v-160H180v160Zm440 0h160v-160H620v160Z\"/>\n",
              "  </svg>\n",
              "    </button>\n",
              "\n",
              "  <style>\n",
              "    .colab-df-container {\n",
              "      display:flex;\n",
              "      gap: 12px;\n",
              "    }\n",
              "\n",
              "    .colab-df-convert {\n",
              "      background-color: #E8F0FE;\n",
              "      border: none;\n",
              "      border-radius: 50%;\n",
              "      cursor: pointer;\n",
              "      display: none;\n",
              "      fill: #1967D2;\n",
              "      height: 32px;\n",
              "      padding: 0 0 0 0;\n",
              "      width: 32px;\n",
              "    }\n",
              "\n",
              "    .colab-df-convert:hover {\n",
              "      background-color: #E2EBFA;\n",
              "      box-shadow: 0px 1px 2px rgba(60, 64, 67, 0.3), 0px 1px 3px 1px rgba(60, 64, 67, 0.15);\n",
              "      fill: #174EA6;\n",
              "    }\n",
              "\n",
              "    .colab-df-buttons div {\n",
              "      margin-bottom: 4px;\n",
              "    }\n",
              "\n",
              "    [theme=dark] .colab-df-convert {\n",
              "      background-color: #3B4455;\n",
              "      fill: #D2E3FC;\n",
              "    }\n",
              "\n",
              "    [theme=dark] .colab-df-convert:hover {\n",
              "      background-color: #434B5C;\n",
              "      box-shadow: 0px 1px 3px 1px rgba(0, 0, 0, 0.15);\n",
              "      filter: drop-shadow(0px 1px 2px rgba(0, 0, 0, 0.3));\n",
              "      fill: #FFFFFF;\n",
              "    }\n",
              "  </style>\n",
              "\n",
              "    <script>\n",
              "      const buttonEl =\n",
              "        document.querySelector('#df-49b589df-b745-404d-9d47-c5298f169a19 button.colab-df-convert');\n",
              "      buttonEl.style.display =\n",
              "        google.colab.kernel.accessAllowed ? 'block' : 'none';\n",
              "\n",
              "      async function convertToInteractive(key) {\n",
              "        const element = document.querySelector('#df-49b589df-b745-404d-9d47-c5298f169a19');\n",
              "        const dataTable =\n",
              "          await google.colab.kernel.invokeFunction('convertToInteractive',\n",
              "                                                    [key], {});\n",
              "        if (!dataTable) return;\n",
              "\n",
              "        const docLinkHtml = 'Like what you see? Visit the ' +\n",
              "          '<a target=\"_blank\" href=https://colab.research.google.com/notebooks/data_table.ipynb>data table notebook</a>'\n",
              "          + ' to learn more about interactive tables.';\n",
              "        element.innerHTML = '';\n",
              "        dataTable['output_type'] = 'display_data';\n",
              "        await google.colab.output.renderOutput(dataTable, element);\n",
              "        const docLink = document.createElement('div');\n",
              "        docLink.innerHTML = docLinkHtml;\n",
              "        element.appendChild(docLink);\n",
              "      }\n",
              "    </script>\n",
              "  </div>\n",
              "\n",
              "\n",
              "<div id=\"df-19ea07cd-17be-430b-a7cb-f8e8a9197985\">\n",
              "  <button class=\"colab-df-quickchart\" onclick=\"quickchart('df-19ea07cd-17be-430b-a7cb-f8e8a9197985')\"\n",
              "            title=\"Suggest charts.\"\n",
              "            style=\"display:none;\">\n",
              "\n",
              "<svg xmlns=\"http://www.w3.org/2000/svg\" height=\"24px\"viewBox=\"0 0 24 24\"\n",
              "     width=\"24px\">\n",
              "    <g>\n",
              "        <path d=\"M19 3H5c-1.1 0-2 .9-2 2v14c0 1.1.9 2 2 2h14c1.1 0 2-.9 2-2V5c0-1.1-.9-2-2-2zM9 17H7v-7h2v7zm4 0h-2V7h2v10zm4 0h-2v-4h2v4z\"/>\n",
              "    </g>\n",
              "</svg>\n",
              "  </button>\n",
              "\n",
              "<style>\n",
              "  .colab-df-quickchart {\n",
              "      --bg-color: #E8F0FE;\n",
              "      --fill-color: #1967D2;\n",
              "      --hover-bg-color: #E2EBFA;\n",
              "      --hover-fill-color: #174EA6;\n",
              "      --disabled-fill-color: #AAA;\n",
              "      --disabled-bg-color: #DDD;\n",
              "  }\n",
              "\n",
              "  [theme=dark] .colab-df-quickchart {\n",
              "      --bg-color: #3B4455;\n",
              "      --fill-color: #D2E3FC;\n",
              "      --hover-bg-color: #434B5C;\n",
              "      --hover-fill-color: #FFFFFF;\n",
              "      --disabled-bg-color: #3B4455;\n",
              "      --disabled-fill-color: #666;\n",
              "  }\n",
              "\n",
              "  .colab-df-quickchart {\n",
              "    background-color: var(--bg-color);\n",
              "    border: none;\n",
              "    border-radius: 50%;\n",
              "    cursor: pointer;\n",
              "    display: none;\n",
              "    fill: var(--fill-color);\n",
              "    height: 32px;\n",
              "    padding: 0;\n",
              "    width: 32px;\n",
              "  }\n",
              "\n",
              "  .colab-df-quickchart:hover {\n",
              "    background-color: var(--hover-bg-color);\n",
              "    box-shadow: 0 1px 2px rgba(60, 64, 67, 0.3), 0 1px 3px 1px rgba(60, 64, 67, 0.15);\n",
              "    fill: var(--button-hover-fill-color);\n",
              "  }\n",
              "\n",
              "  .colab-df-quickchart-complete:disabled,\n",
              "  .colab-df-quickchart-complete:disabled:hover {\n",
              "    background-color: var(--disabled-bg-color);\n",
              "    fill: var(--disabled-fill-color);\n",
              "    box-shadow: none;\n",
              "  }\n",
              "\n",
              "  .colab-df-spinner {\n",
              "    border: 2px solid var(--fill-color);\n",
              "    border-color: transparent;\n",
              "    border-bottom-color: var(--fill-color);\n",
              "    animation:\n",
              "      spin 1s steps(1) infinite;\n",
              "  }\n",
              "\n",
              "  @keyframes spin {\n",
              "    0% {\n",
              "      border-color: transparent;\n",
              "      border-bottom-color: var(--fill-color);\n",
              "      border-left-color: var(--fill-color);\n",
              "    }\n",
              "    20% {\n",
              "      border-color: transparent;\n",
              "      border-left-color: var(--fill-color);\n",
              "      border-top-color: var(--fill-color);\n",
              "    }\n",
              "    30% {\n",
              "      border-color: transparent;\n",
              "      border-left-color: var(--fill-color);\n",
              "      border-top-color: var(--fill-color);\n",
              "      border-right-color: var(--fill-color);\n",
              "    }\n",
              "    40% {\n",
              "      border-color: transparent;\n",
              "      border-right-color: var(--fill-color);\n",
              "      border-top-color: var(--fill-color);\n",
              "    }\n",
              "    60% {\n",
              "      border-color: transparent;\n",
              "      border-right-color: var(--fill-color);\n",
              "    }\n",
              "    80% {\n",
              "      border-color: transparent;\n",
              "      border-right-color: var(--fill-color);\n",
              "      border-bottom-color: var(--fill-color);\n",
              "    }\n",
              "    90% {\n",
              "      border-color: transparent;\n",
              "      border-bottom-color: var(--fill-color);\n",
              "    }\n",
              "  }\n",
              "</style>\n",
              "\n",
              "  <script>\n",
              "    async function quickchart(key) {\n",
              "      const quickchartButtonEl =\n",
              "        document.querySelector('#' + key + ' button');\n",
              "      quickchartButtonEl.disabled = true;  // To prevent multiple clicks.\n",
              "      quickchartButtonEl.classList.add('colab-df-spinner');\n",
              "      try {\n",
              "        const charts = await google.colab.kernel.invokeFunction(\n",
              "            'suggestCharts', [key], {});\n",
              "      } catch (error) {\n",
              "        console.error('Error during call to suggestCharts:', error);\n",
              "      }\n",
              "      quickchartButtonEl.classList.remove('colab-df-spinner');\n",
              "      quickchartButtonEl.classList.add('colab-df-quickchart-complete');\n",
              "    }\n",
              "    (() => {\n",
              "      let quickchartButtonEl =\n",
              "        document.querySelector('#df-19ea07cd-17be-430b-a7cb-f8e8a9197985 button');\n",
              "      quickchartButtonEl.style.display =\n",
              "        google.colab.kernel.accessAllowed ? 'block' : 'none';\n",
              "    })();\n",
              "  </script>\n",
              "</div>\n",
              "    </div>\n",
              "  </div>\n"
            ]
          },
          "metadata": {},
          "execution_count": 43
        },
        {
          "output_type": "display_data",
          "data": {
            "text/plain": [
              "<google.colab._quickchart_helpers.SectionTitle at 0x7c1cda75f760>"
            ],
            "text/html": [
              "<h4 class=\"colab-quickchart-section-title\">Distributions</h4>\n",
              "<style>\n",
              "  .colab-quickchart-section-title {\n",
              "      clear: both;\n",
              "  }\n",
              "</style>"
            ]
          },
          "metadata": {}
        },
        {
          "output_type": "display_data",
          "data": {
            "text/plain": [
              "from matplotlib import pyplot as plt\n",
              "_df_0['age'].plot(kind='hist', bins=20, title='age')\n",
              "plt.gca().spines[['top', 'right',]].set_visible(False)"
            ],
            "text/html": [
              "      <div class=\"colab-quickchart-chart-with-code\" id=\"chart-f8ca7c5f-8372-4630-94f0-d91d02cfc4da\">\n",
              "        <img style=\"width: 180px;\" src=\"data:image/png;base64,iVBORw0KGgoAAAANSUhEUgAAAiAAAAGrCAYAAAD5FiyaAAAAOXRFWHRTb2Z0d2FyZQBNYXRwbG90\n",
              "bGliIHZlcnNpb24zLjcuMSwgaHR0cHM6Ly9tYXRwbG90bGliLm9yZy/bCgiHAAAACXBIWXMAAA9h\n",
              "AAAPYQGoP6dpAAAbvUlEQVR4nO3deYzU9f348dew2PHiENCCICByqAUB0Q1F61FDW20jFDWNJ1oN\n",
              "RKvWYFK7sY14hLWJXyuaGo8QW7W1WF1tKh6plqqtCqKCV+QQuVTAoiweMMrs5/cH6f5cBeus+3mv\n",
              "u/t4JJO4n89nP58Xn3w6fWbmszOFLMuyAABIqFNrDwAAdDwCBABIToAAAMkJEAAgOQECACQnQACA\n",
              "5AQIAJCcAAEAkhMgAEByAgQASE6AAADJCRAAIDkBArSI3/3udzF8+PDo2rVr9O7dO04//fT4z3/+\n",
              "ExERn3zySVx88cXRu3fv2HPPPaOmpiYOP/zwmD59euPvv/nmm3HKKadE3759Y6+99oqTTz453nnn\n",
              "nVb61wB5EyBAi+jdu3fU1dXFxo0bY968ebFkyZK44IILIiKitrY27r///nj88cdjzZo1USwWY968\n",
              "eY2/WyqV4phjjom99947lixZEsuXL4/OnTvHKaec0lr/HCBnhSzLstYeAmh/7rvvvjjnnHNiw4YN\n",
              "MXjw4Jg2bVqcd955ERFRLpdj7733jnPPPTemT58edXV1ccEFF8SaNWuiUChExLZXRPr16xerV6+O\n",
              "fv36teY/BchB59YeAGgf6urq4pprrolly5bFli1boqGhIT788MMol8vx5ptvxoABAxq3raqqin32\n",
              "2afx56VLl8a6detijz32aLLPYrEYq1atEiDQDnkLBvjK1qxZEyeddFJccMEFsWrVqti0aVPccccd\n",
              "ERGRZVn07ds3Vq5c2bh9Q0NDrFmzpvHn3r17x4ABA2Ljxo1NHlu2bIlx48Yl//cA+RMgwFf2wQcf\n",
              "RENDQ/Tq1St23nnnWLp0adTW1jauP/300+O3v/1tLFmyJD7++OO46qqrYsOGDY3rJ02aFJ988kn8\n",
              "+te/jvr6+oiIWL9+fcyePTv5vwVIQ4AAX9n+++8ftbW1ccYZZ0SXLl1i8uTJcdpppzWur6mpiR/+\n",
              "8Ifxne98J/r27RubN2+O0aNHx8477xwREV26dImnn346Vq1aFSNGjIiuXbvGuHHj4oknnmitfxKQ\n",
              "MzehAslt3bo1+vTpE9dff32cfPLJrT0O0Aq8AgLk7v3334+//e1v8fHHH8cHH3wQl1xySTQ0NMSx\n",
              "xx7b2qMBrUSAALlraGiIK6+8Mnr16hV9+/aN+fPnx4MPPhjdu3dv7dGAVuItGAAgOa+AAADJCRAA\n",
              "IDkBAgAkJ0AAgOS+tgEyc+bM1h4BAMjJ1zZAPv29EQBA+/K1DRAAoP0SIABAcgIEAEhOgAAAyQkQ\n",
              "ACA5AQIAJCdAAIDkBAgAkJwAAQCSEyAAQHICBABIToAAAMl1zmvHGzZsiGOOOabx548++iiWL18e\n",
              "69evjx49euR1WACgDcgtQHr27BkLFy5s/Pmaa66Jxx9/XHwAAPkFyGfNmjUramtrt7uuVCpFqVRq\n",
              "sqxcLqcYCwBoBUkC5Kmnnor33nsvfvSjH213fW1tbVx++eVNlo0dOza3eQb+ck4u+11x9Q9z2S8A\n",
              "tDdJbkKdNWtWnHHGGdG58/Z7p6amJurr65s8qqurU4wGALSC3F8B+eCDD+Luu++OZ599dofbFIvF\n",
              "KBaLTZZVVVXlPRoA0EpyfwVk9uzZMXLkyNh///3zPhQA0EbkHiCzZs2Ks88+O+/DAABtSO5vwTz1\n",
              "1FN5HwIAaGN8EioAkJwAAQCSEyAAQHICBABIToAAAMkJEAAgOQECACQnQACA5AQIAJCcAAEAkhMg\n",
              "AEByAgQASE6AAADJCRAAIDkBAgAkJ0AAgOQECACQnAABAJITIABAcgIEAEhOgAAAyQkQACA5AQIA\n",
              "JCdAAIDkBAgAkJwAAQCSEyAAQHICBABIToAAAMkJEAAgOQECACQnQACA5AQIAJCcAAEAkhMgAEBy\n",
              "AgQASE6AAADJCRAAIDkBAgAkJ0AAgOQECACQXK4BUiqV4vzzz48hQ4bEiBEj4rTTTsvzcABAG9E5\n",
              "z53/8pe/jEKhEEuWLIlCoRBr167N83AAQBuRW4B8+OGHMWvWrFizZk0UCoWIiOjdu3dehwMA2pDc\n",
              "3oJ5/fXXo0ePHjFjxow45JBD4jvf+U489thj2922VCrFpk2bmjzK5XJeowEArSy3ANm6dWusXLky\n",
              "DjzwwFiwYEFcf/318ZOf/CTWrVv3uW1ra2ujW7duTR7z58/PazQAoJXlFiD9+/ePTp06xamnnhoR\n",
              "EaNHj4599903Xnrppc9tW1NTE/X19U0e1dXVeY0GALSy3AKkV69eccwxx8QjjzwSERFvvPFGvPHG\n",
              "G3HAAQd8bttisRhdu3Zt8qiqqsprNACgleX6VzA33XRTnH322XHJJZdEp06d4uabb46+ffvmeUgA\n",
              "oA3INUAGDRoUc+fOzfMQAEAb5JNQAYDkBAgAkJwAAQCSEyAAQHICBABIToAAAMkJEAAgOQECACQn\n",
              "QACA5AQIAJCcAAEAkhMgAEByAgQASE6AAADJCRAAIDkBAgAkJ0AAgOQECACQnAABAJITIABAcgIE\n",
              "AEhOgAAAyQkQACA5AQIAJCdAAIDkBAgAkJwAAQCSEyAAQHICBABIToAAAMkJEAAgOQECACQnQACA\n",
              "5AQIAJCcAAEAkhMgAEByAgQASE6AAADJCRAAIDkBAgAkJ0AAgOQECACQXK4BMnDgwBg2bFiMGjUq\n",
              "Ro0aFbNnz87zcABAG9E57wPMnj07Ro0alfdhAIA2JPcA+TJKpVKUSqUmy8rlcitNAwDkLfd7QM44\n",
              "44wYMWJEnH322fHOO+9sd5va2tro1q1bk8f8+fPzHg0AaCW5BsgTTzwRL774Yjz//PPRq1evmDx5\n",
              "8na3q6mpifr6+iaP6urqPEcDAFpRrm/B9O/fPyIidtppp7joooti6NCh292uWCxGsVhssqyqqirP\n",
              "0QCAVpTbKyAffvhhbNy4sfHnu+66K0aPHp3X4QCANiS3V0DWrVsXJ5xwQpTL5ciyLAYNGhS33357\n",
              "XocDANqQ3AJk0KBB8cILL+S1ewCgDfNJqABAcgIEAEhOgAAAyQkQACA5AQIAJCdAAIDkBAgAkJwA\n",
              "AQCSEyAAQHICBABIToAAAMkJEAAgOQECACQnQACA5AQIAJCcAAEAkhMgAEByAgQASE6AAADJCRAA\n",
              "IDkBAgAkJ0AAgOQECACQnAABAJITIABAcgIEAEhOgAAAyQkQACA5AQIAJCdAAIDkBAgAkJwAAQCS\n",
              "EyAAQHICBABIToAAAMlVHCCPPPJIHnMAAB1IxQFyxRVXxLBhw2LmzJmxadOmPGYCANq5igPk3//+\n",
              "d/z5z3+Ol19+OYYOHRrnnXdevPrqq3nMBgC0U826B2T06NFx6623xsMPPxwPPPBAHHTQQTF+/Ph4\n",
              "6aWXWno+AKAdalaAPProozFhwoSYNGlS/OxnP4u1a9fG1KlT48c//nFLzwcAtEOdK/2FAw44IHr1\n",
              "6hUXXnhhTJo0KaqqqiIi4sQTT4xZs2a1+IAAQPtT8Ssgd955Zzz55JNx0kknNcbHfz300EPb/Z3b\n",
              "brstCoVC3H///c0aEgBoXyoOkOeeey7efffdxp83bNgQt9566w63X7FiRdx6660xduzY5k0IALQ7\n",
              "FQfIjTfeGD169Gj8uWfPnnHjjTdud9uGhoY455xz4oYbbohisbjDfZZKpdi0aVOTR7lcrnQ0AKCN\n",
              "qDhAsiz73LIdxcK1114bhx12WIwZM+YL91lbWxvdunVr8pg/f36lowEAbUTFAdKnT5+4++67G3+e\n",
              "PXt29OnT53Pbvfzyy3HvvffGr371q/+5z5qamqivr2/yqK6urnQ0AKCNqPivYK677rqYMGFC/OIX\n",
              "v4iIiF133TX++te/fm67J598MlasWBFDhgyJiIi1a9fGlClT4u23345zzz23ybbFYvFzb9F89gZX\n",
              "AKD9qDhA9t9//3j11Vdj8eLFERExbNiw7cbCueee2yQ0jjrqqLjoooti4sSJzZ8WAGgXKg6QiIhC\n",
              "oRDdu3ePrVu3xptvvhkREf3792/RwQCA9qviAPn9738fF154Yey0007RqdO2W0gKhUKsX7/+C3/v\n",
              "n//8Z7MGBADan4oD5Morr4xnn302hg0blsc8AEAHUPFfwfTq1Ut8AABfScUBMnHixLjuuuti/fr1\n",
              "TT44DADgy6r4LZhLL700IiKmTZsWhUIhsiyLQqHgk0sBgC+t4gBpaGjIYw4AoAOp+C2YiG1fSHfH\n",
              "HXdERMTGjRvj7bffbtGhAID2rVlfRvfTn/40pk+fHhHbvg33lFNOaem5AIB2rOIAueWWW+KZZ56J\n",
              "rl27RkTEfvvtF++8806LDwYAtF8VB0ixWIxddtmlybLOnZv1gaoAQAdVcYDsueeesWTJkigUChGx\n",
              "7ZNRfQw7AFCJZn0b7sknnxyvvfZa7LPPPtG1a9d44IEH8pgNAGinKg6QwYMHx7x582Lx4sWRZdkO\n",
              "vw0XAGBHKg6QVatWRUTEbrvtFhHh23ABgIpVHCBjxoxp/ATULVu2xEcffRQ9e/b8n9+GCwDwXxUH\n",
              "yGf/5Lauri4WLVrUYgMBAO1fsz4J9dMmTZoUc+bMaYlZAIAOouJXQD79zbflcjnmzZvn23ABgIpU\n",
              "HCDdu3dvvAekqqoqhgwZEtdff30eswEA7ZRvwwUAkvvK94AAAFSq4ldAOnXq1Pgx7J+WZVkUCoUo\n",
              "l8stMhgA0H5VHCBXXHFFbN68Oc4999yIiLjppptil112iYsuuqilZwMA2qmKA+S+++6L5557rvHn\n",
              "q666KsaMGROXXnppiw4GALRfFd8D8v777zf51NP169fH+++/36JDAQDtW8WvgFx88cUxcuTIOO64\n",
              "4yIi4uGHH47p06e39FwAQDtWcYBMnTo1DjvssJg7d25EREybNi2+9a1vtfhgAED7VXGARET07Nkz\n",
              "RowYEUcddVRs3bo1Pv744/jGN77R0rMBAO1UxfeA3HPPPTF27Ng466yzIiLilVdeiYkTJ7b0XABA\n",
              "O1ZxgNTW1sbzzz8f3bt3j4iIkSNHxsqVK1t6LgCgHas4QKqqqqJnz55Nlnn7BQCoRMUB0qVLl1i3\n",
              "bl3jp6E+9thj0aNHjxYfDABovyq+CfU3v/lNHHvssbF8+fI4/PDD44033og5c+bkMRsA0E5VFCAN\n",
              "DQ1RLpdj7ty58dRTT0WWZTFu3LjG+0EAAL6MigKkU6dOMWXKlFi0aFEce+yxec0EALRzFd8DMmTI\n",
              "kFi2bFkeswAAHUTF94C8++67MWrUqBg3blzsvvvujcvr6upadDAAoP360gEyZcqUuOWWW2Ly5Mlx\n",
              "/PHHxx577JHnXABAO/alA2TBggURETF58uQ4+OCD4/nnn89tKACgfav4HpCIiCzLWnoOAKAD+dKv\n",
              "gGzevDleeumlyLIstmzZ0vjf/3XQQQflMiAA0P5UFCDHH39848+f/u9CoRDLly9v2ckAgHbrSwfI\n",
              "ihUrKt759773vVi7dm106tQpunTpEtdff32MHj264v0AAO1LxX+GW4m777678VNS77vvvjjzzDNj\n",
              "0aJFeR4SAGgDcg2QT39Ee319feMX2H1WqVSKUqnUZFm5XM5zNACgFeUaIBERZ5xxRsydOzciIh58\n",
              "8MHtblNbWxuXX355k2Vjx47NezQAoJU0689wK3H77bfH6tWr46qrropLLrlku9vU1NREfX19k0d1\n",
              "dXXeowEArST3APmvyZMnx9y5c2PDhg2fW1csFqNr165NHlVVValGAwASyy1ANm7cGG+99Vbjz/ff\n",
              "f3/07NkzevTokdchAYA2Ird7QOrr6+Okk06KzZs3R6dOnWLPPfeMBx54YIc3ogIAHUduATJgwICY\n",
              "P39+XrsHANqwZPeAAAD8lwABAJITIABAcgIEAEhOgAAAyQkQACA5AQIAJCdAAIDkBAgAkJwAAQCS\n",
              "EyAAQHICBABIToAAAMkJEAAgOQECACQnQACA5AQIAJCcAAEAkhMgAEByAgQASE6AAADJCRAAIDkB\n",
              "AgAkJ0AAgOQECACQnAABAJITIABAcgIEAEhOgAAAyQkQACA5AQIAJCdAAIDkBAgAkJwAAQCSEyAA\n",
              "QHICBABIToAAAMkJEAAgOQECACQnQACA5AQIAJBcbgGyZcuWmDhxYgwdOjRGjhwZ48ePj2XLluV1\n",
              "OACgDcn1FZApU6bE4sWLY9GiRTFhwoQ455xz8jwcANBG5BYgO++8cxx33HFRKBQiImLs2LGxYsWK\n",
              "vA4HALQhnVMdaObMmTFhwoTtriuVSlEqlZosK5fLKcYCAFpBkptQZ8yYEcuWLYva2trtrq+trY1u\n",
              "3bo1ecyfPz/FaABAK8g9QK655pqoq6uLhx56KHbdddftblNTUxP19fVNHtXV1XmPBgC0klzfgrn2\n",
              "2mvjrrvuikcffTS6d+++w+2KxWIUi8Umy6qqqvIcDQBoRbkFyJo1a+Liiy+OQYMGxdFHHx0R20Jj\n",
              "3rx5eR0SAGgjcguQfv36RZZlee0eAGjDfBIqAJCcAAEAkhMgAEByAgQASE6AAADJCRAAIDkBAgAk\n",
              "J0AAgOQECACQnAABAJITIABAcgIEAEhOgAAAyQkQACA5AQIAJCdAAIDkBAgAkJwAAQCSEyAAQHIC\n",
              "BABIToAAAMkJEAAgOQECACQnQACA5AQIAJCcAAEAkhMgAEByAgQASE6AAADJCRAAIDkBAgAkJ0AA\n",
              "gOQECACQnAABAJITIABAcgIEAEhOgAAAyQkQACA5AQIAJCdAAIDkBAgAkJwAAQCSyzVALrzwwhg4\n",
              "cGAUCoVYuHBhnocCANqQXAPkxBNPjH/9618xYMCAPA8DALQxnfPc+RFHHPGltiuVSlEqlZosK5fL\n",
              "eYwEAHwN5BogX1ZtbW1cfvnlTZaNHTu2laYBgK+Hgb+ck9u+V1z9w9z2/WV8LW5Crampifr6+iaP\n",
              "6urq1h4LAMjJ1+IVkGKxGMViscmyqqqqVpoGAMjb1+IVEACgY8k1QKZOnRr9+vWLNWvWxPe///0Y\n",
              "PHhwnocDANqIXN+Cufnmm/PcPQDQRnkLBgBIToAAAMkJEAAgOQECACQnQACA5AQIAJCcAAEAkhMg\n",
              "AEByAgQASE6AAADJCRAAIDkBAgAkJ0AAgOQECACQnAABAJITIABAcgIEAEhOgAAAyQkQACA5AQIA\n",
              "JCdAAIDkBAgAkJwAAQCSEyAAQHICBABIToAAAMkJEAAgOQECACQnQACA5AQIAJCcAAEAkhMgAEBy\n",
              "AgQASE6AAADJCRAAIDkBAgAkJ0AAgOQECACQnAABAJITIABAcgIEAEgu1wBZunRpjBs3LoYOHRqH\n",
              "HnpovPLKK3keDgBoI3INkKlTp8aUKVNiyZIlcckll8SZZ56Z5+EAgDYitwBZv359LFiwIE477bSI\n",
              "iDjhhBNi9erVsWzZss9tWyqVYtOmTU0e5XI5r9EAgFbWOa8dr169Ovr06ROdO287RKFQiP79+8eq\n",
              "Vati8ODBTbatra2Nyy+/vMmy/fffP6ZNm9bic5XL5egzf35UV1dHVVVVi+572rTHWnR/bVm5XI75\n",
              "OZ1nmnKu03Ce03Gu/79JOe572rTHcjnXAwYMiJ///Of/c7tClmVZixzxM5577rk45ZRTYvHixY3L\n",
              "qqur4+qrr47vfve7TbYtlUpRKpWaLCsWi1EsFlt8rk2bNkW3bt2ivr4+unbt2uL7ZxvnOR3nOg3n\n",
              "OR3nOp3WPNe5vQKyzz77xNtvvx1bt26Nzp07R5ZlsWrVqujfv//nts0rNgCAr6fc7gHZa6+94uCD\n",
              "D44777wzIiLuvffe6Nev3+fefgEAOp7cXgGJiLj55pvjzDPPjBkzZkTXrl3jtttuy/NwAEAbkWuA\n",
              "DBs2LJ5++uk8D1GxYrEYl112mbd8cuY8p+Ncp+E8p+Ncp9Oa5zq3m1ABAHbER7EDAMkJEAAgOQEC\n",
              "ACQnQACA5DpUgPh23ubbsmVLTJw4MYYOHRojR46M8ePHN36vz/r16+MHP/hBDBkyJIYPHx5PPPFE\n",
              "4+81dx0Rt912WxQKhbj//vsjwnnOQ6lUivPPPz+GDBkSI0aMaPzuqi96rmjuuo7uwQcfjIMPPjhG\n",
              "jRoVw4cPjz/84Q8R4br+qi688MIYOHBgFAqFWLhwYePyPK7hFr++sw7k6KOPzm677bYsy7LsL3/5\n",
              "S3bIIYe07kBtyObNm7M5c+ZkDQ0NWZZl2Q033JAdeeSRWZZl2VlnnZVddtllWZZl2fz587O+fftm\n",
              "H3/88Vda19G98cYb2be//e1s7Nix2X333ZdlmfOch4suuig7//zzG6/rt99+O8uyL36uaO66jqyh\n",
              "oSHbY489skWLFmVZtu36LhaL2aZNm1zXX9Hjjz+erV69OhswYED2wgsvNC7P4xpu6eu7wwTIunXr\n",
              "si5dumSffPJJlmXb/gfxzW9+M1u6dGkrT9Y2Pfvss9mAAQOyLMuy3XbbrfGJO8uy7NBDD83+/ve/\n",
              "f6V1HVm5XM6OOeaYbMGCBdmRRx7ZGCDOc8v64IMPsi5dumT19fVNln/Rc0Vz13V0DQ0NWY8ePbLH\n",
              "H388y7IsW7RoUbb33ntnpVLJdd1CPh0geVzDeVzfuX4Q2ddJJd/Oy/82c+bMmDBhQmzYsCE++eST\n",
              "6N27d+O6gQMHxqpVq5q9rqO79tpr47DDDosxY8Y0LnOeW97rr78ePXr0iBkzZsSjjz4au+yyS0yf\n",
              "Pj26d+++w+eKbt26NWtdR3+OKRQKMXv27Jg0aVLstttu8d5770VdXV28//77ruscfNH/3zX3Gs7j\n",
              "+u4wAULLmTFjRixbtiwee+yx2Lx5c2uP0668/PLLce+993bY97NT2rp1a6xcuTIOPPDAuPrqq+OF\n",
              "F16I8ePHx5w5c1p7tHZn69atcdVVV0VdXV0cccQR8eyzz8bxxx/f5J4FOp4OcxPqp7+dNyK+8Nt5\n",
              "2bFrrrkm6urq4qGHHopdd901evbsGZ07d461a9c2brNixYro379/s9d1ZE8++WSsWLEihgwZEgMH\n",
              "DoxnnnkmpkyZEnfffbfz3ML69+8fnTp1ilNPPTUiIkaPHh377rtvrFy5cofPFV/0POI5ZscWLlwY\n",
              "b731VhxxxBEREXHooYdGv3794sUXX3Rd56C512ny67vZb960QUceeWSTG2jGjBnTugO1Mf/3f/+X\n",
              "HXzwwdm7777bZPnkyZOb3Ay29957N94M1tx1bPPpe0Cc55Y3fvz4bM6cOVmWZdny5cuznj17ZmvW\n",
              "rPnC54rmruvI1q5dm+2+++7Zq6++mmVZli1dujTbY489spUrV7quW8hnb0LN4xpu6eu7QwXIa6+9\n",
              "lo0dOzYbMmRINmbMmOzFF19s7ZHajNWrV2cRkQ0aNCgbOXJkNnLkyKy6ujrLsm1PLuPHj88GDx6c\n",
              "HXjggdk//vGPxt9r7jq2+XSAOM8t7/XXX8+OOuqobPjw4dlBBx2U3XPPPVmWffFzRXPXdXR/+tOf\n",
              "Gs/z8OHDsz/+8Y9Zlrmuv6opU6Zkffv2zaqqqrK99tor22+//bIsy+cabunr25fRAQDJdZh7QACA\n",
              "rw8BAgAkJ0AAgOQECACQnAABAJITIABAcgIEAEhOgAAAyQkQACA5AQIAJPf/AP7T6NaGb8SYAAAA\n",
              "AElFTkSuQmCC\n",
              "\">\n",
              "      </div>\n",
              "      <script type=\"text/javascript\">\n",
              "        (() => {\n",
              "          const chartElement = document.getElementById(\"chart-f8ca7c5f-8372-4630-94f0-d91d02cfc4da\");\n",
              "          async function getCodeForChartHandler(event) {\n",
              "            const chartCodeResponse =  await google.colab.kernel.invokeFunction(\n",
              "                'getCodeForChart', [\"chart-f8ca7c5f-8372-4630-94f0-d91d02cfc4da\"], {});\n",
              "            const responseJson = chartCodeResponse.data['application/json'];\n",
              "            await google.colab.notebook.addCell(responseJson.code, 'code');\n",
              "          }\n",
              "          chartElement.onclick = getCodeForChartHandler;\n",
              "        })();\n",
              "      </script>\n",
              "      <style>\n",
              "        .colab-quickchart-chart-with-code  {\n",
              "            display: block;\n",
              "            float: left;\n",
              "            border: 1px solid transparent;\n",
              "        }\n",
              "\n",
              "        .colab-quickchart-chart-with-code:hover {\n",
              "            cursor: pointer;\n",
              "            border: 1px solid #aaa;\n",
              "        }\n",
              "      </style>"
            ]
          },
          "metadata": {}
        },
        {
          "output_type": "display_data",
          "data": {
            "text/plain": [
              "<google.colab._quickchart_helpers.SectionTitle at 0x7c1cda75f070>"
            ],
            "text/html": [
              "<h4 class=\"colab-quickchart-section-title\">Values</h4>\n",
              "<style>\n",
              "  .colab-quickchart-section-title {\n",
              "      clear: both;\n",
              "  }\n",
              "</style>"
            ]
          },
          "metadata": {}
        },
        {
          "output_type": "display_data",
          "data": {
            "text/plain": [
              "from matplotlib import pyplot as plt\n",
              "_df_1['age'].plot(kind='line', figsize=(8, 4), title='age')\n",
              "plt.gca().spines[['top', 'right']].set_visible(False)"
            ],
            "text/html": [
              "      <div class=\"colab-quickchart-chart-with-code\" id=\"chart-29e572b2-dfa7-4fb6-8cc0-a91b84333123\">\n",
              "        <img style=\"width: 180px;\" src=\"data:image/png;base64,iVBORw0KGgoAAAANSUhEUgAAAqwAAAFuCAYAAABECkoSAAAAOXRFWHRTb2Z0d2FyZQBNYXRwbG90\n",
              "bGliIHZlcnNpb24zLjcuMSwgaHR0cHM6Ly9tYXRwbG90bGliLm9yZy/bCgiHAAAACXBIWXMAAA9h\n",
              "AAAPYQGoP6dpAAAx10lEQVR4nO3de3iU9Z3//9c9MzkYYBJIgHBICJgAlUAiAk1RDllr1bpbXTyw\n",
              "slJZq0Gthy52F/l17dpazeVeXKh1e63tbi/cLauFrZR2d62uVk5SFfi2HDyQAxBCEMgBSEJIJsnM\n",
              "5/dHMkMmBAzJZO6ZzPNxXXMlmfv0vodJ8uLOe95jGWOMAAAAgAjlsLsAAAAA4FIIrAAAAIhoBFYA\n",
              "AABENAIrAAAAIhqBFQAAABGNwAoAAICIRmAFAABARCOwAgAAIKIRWAEAABDRCKwAAACIaARWAAAA\n",
              "RDQCKwAAACIagRUAbPaTn/xEubm5crvdSk9P19KlS1VbWytJamtr0xNPPKH09HSNHDlSq1at0nXX\n",
              "Xaenn346sP2xY8e0ZMkSjRs3TqNGjdLdd9+tmpoam84GAEKPwAoANktPT9fGjRt15swZffTRRyot\n",
              "LdWjjz4qSSouLtamTZu0detWVVVVKSEhQR999FFgW4/Ho+uvv15jx45VaWmpDh06JJfLpSVLlth1\n",
              "OgAQcpYxxthdBADgvF//+te6//77VVdXp+zsbK1YsUIPP/ywJMnr9Wrs2LF66KGH9PTTT2vjxo16\n",
              "9NFHVVVVJcuyJHVccR0/fryOHj2q8ePH23kqABASLrsLAIBYt3HjRq1evVrl5eVqaWmRz+dTU1OT\n",
              "vF6vjh07pgkTJgTWdTqdysjICHxdVlamkydPavjw4UH7TEhIUGVlJYEVwKBASwAA2Kiqqkp33nmn\n",
              "Hn30UVVWVqqhoUG/+MUvJEnGGI0bN05HjhwJrO/z+VRVVRX4Oj09XRMmTNCZM2eCbi0tLZo7d27Y\n",
              "zwcABgKBFQBsdPbsWfl8PqWlpSkxMVFlZWUqLi4OLF+6dKleeOEFlZaWqrW1VT/60Y9UV1cXWL5o\n",
              "0SK1tbXpqaeeUn19vSSpurpa69evD/u5AMBAIbACgI2mTp2q4uJiffOb39SwYcN077336p577gks\n",
              "X7VqlW655RbNmzdP48aNU3Nzs66++molJiZKkoYNG6YPPvhAlZWVmj59utxut+bOnatt27bZdUoA\n",
              "EHK86AoAokh7e7vGjBmjH//4x7r77rvtLgcAwoIrrAAQwRobG/Xf//3fam1t1dmzZ7Vy5Ur5fD7d\n",
              "fPPNdpcGAGFDYAWACObz+fTMM88oLS1N48aN086dO/Xmm28qJSXF7tIAIGxoCQAAAEBE4worAAAA\n",
              "IhqBFQAAABGNwAoAAICIRmAFAABARBvUgfWll16yuwQAAAD006AOrF3ffxsAAADRaVAHVgAAAEQ/\n",
              "AisAAAAiGoEVAAAAEY3ACgAAgIhGYAUAAEBEI7ACAAAgohFYAQAAENEuK7A+9thjysrKkmVZ2rNn\n",
              "T+D+srIyzZ07V5MnT9bs2bP1ySefDOgyAAAAxI7LCqx33HGH3n//fU2YMCHo/uXLl6uoqEilpaVa\n",
              "uXKlli1bNqDLAAAAEDssY4y53I2ysrK0adMm5efnq7q6WtnZ2Tp16pRcLpeMMRozZozef/99ud3u\n",
              "kC/Lzs7udZ0rVqzQmjVrLvf0AAAAEEFc/d3B0aNHNWbMGLlcHbuyLEuZmZmqrKxUcnJyyJddLLB6\n",
              "PB55PJ6g+7xeb39P77IYY2RZVliPCQAAMNgNmhddFRcXKzk5Oei2c+fOsBy77GSj7v/33Vq2dldY\n",
              "jgcAABBL+h1YMzIydPz4cbW3t0vquMpYWVmpzMzMAVl2MatWrVJ9fX3Qbc6cOf09vV65It6pdz87\n",
              "qe1lNao/1xaWYwIAAMSKfgfWUaNGaebMmVq3bp0k6Y033tD48eOVnZ09IMsuJiEhQW63O+jmdDr7\n",
              "e3q9Mn54kiaPHiqfkbaV1YTlmAAAALHisl50tXz5cv3v//6vTpw4odTUVA0bNkzl5eUqKSnRsmXL\n",
              "VFdXJ7fbrbVr12r69OmSNCDLeiucL7oqfvMz/XTbIS2aOU5r7soPyzEBAABiQZ+mBESLcAbWDw7W\n",
              "6e5//VCpQ+K163tflcPBi68AAABCYdC86Mpus7KGa2iCS3VNrdp/rN7ucgAAAAYNAmuIxDkdmpeT\n",
              "JknaXFJtczUAAACDB4E1hAqnjJIkbS7hhVcAAAChQmANoQVTRkqS9lWdUe1ZzxesDQAAgN4gsIbQ\n",
              "aHeipo11yxhpWylXWQEAAEKBwBpitAUAAACEFoE1xAqndrQFbCutUbvXZ3M1AAAA0Y/AGmL5GcOV\n",
              "khSn+uY27Tl6xu5yAAAAoh6BNcScDkvzczqusjLeCgAAoP8IrAPA3xaw+QB9rAAAAP1FYB0A83NG\n",
              "yrKkT4836ER9i93lAAAARDUC6wBIHZqgvPEpkqStpbQFAAAA9AeBdYAExlvRFgAAANAvBNYB4u9j\n",
              "fb+8Vq3tjLcCAADoKwLrAMkdm6y0ofE662nX7iOn7C4HAAAgahFYB4jDYWnB5I62gC286xUAAECf\n",
              "EVgH0PnxVrzwCgAAoK8IrANoXvZIOR2WyqrP6uipc3aXAwAAEJUIrAMoOSlO12QOlyRtKaUtAAAA\n",
              "oC8IrANsYWdbwBbaAgAAAPqEwDrA/PNYdxysVUub1+ZqAAAAog+BdYBNTR+mdHeiWtp8+ugw460A\n",
              "AAAuF4F1gFmWxbQAAACAfiCwhsHCKf55rARWAACAy0VgDYNrs9MU57RUUXdOh2ub7C4HAAAgqhBY\n",
              "w2BogktzJo6QRFsAAADA5SKwhol/WsBm2gIAAAAuC4E1TPx9rB8dOqVzre02VwMAABA9CKxhcuXI\n",
              "IcoYcYVavT79obzO7nIAAACiBoE1TCzLoi0AAACgDwisYVQYGG9VI2OMzdUAAABEBwJrGBVMSlWC\n",
              "y6FjZ5pVVn3W7nIAAACiAoE1jK6Id+orV6ZKYrwVAABAbxFYw4w+VgAAgMtDYA0zf2DdXXFaDS1t\n",
              "NlcDAAAQ+QisYZaZmqRJI4eo3We0o6zW7nIAAAAiHoHVBrQFAAAA9B6B1QbnAyvjrQAAAL4IgdUG\n",
              "sycOV1K8UzWNHn3yeYPd5QAAAEQ0AqsNElxOXZudJknaQlsAAADAJRFYbdK1LQAAAAAXR2C1ycIp\n",
              "IyVJf6o8rdNNrTZXAwAAELkIrDYZm3KFpqYPk89I28q4ygoAAHAxBFYbLexsC9hCWwAAAMBFEVht\n",
              "VNjZFrClpFpeH+OtAAAAekJgtdHMCcM1LNGl0+fatLfqjN3lAAAARCQCq43inA7Nz+m8ynqA8VYA\n",
              "AAA9CWlgffPNNzVz5kzl5+crNzdX//7v/y5Jqq6u1k033aScnBzl5uZq27ZtgW36umyw8E8LYLwV\n",
              "AABAz1yh2pExRvfcc4+2bNmiGTNmqKKiQlOnTtWiRYv05JNPqqCgQG+99ZZ27dqlv/zLv9Thw4cV\n",
              "FxfX52WDxYLOwLr/WL2qG1s0aliizRUBAABElpBeYbUsS2fOnJEkNTQ0KDU1VQkJCdqwYYMefPBB\n",
              "SdLs2bM1duxYbd26VZL6vGywGDUsUdPHJUuStnKVFQAA4AIhu8JqWZbWr1+vRYsWaciQITp9+rQ2\n",
              "btyoxsZGtbW1KT09PbBuVlaWKisrVVdX16dlPfF4PPJ4PEH3eb3eUJ3egCqcMlL7j9VrS0mN7pyV\n",
              "YXc5AAAAESVkV1jb29v1ox/9SBs3btSRI0f0+9//XkuXLlV7e3uoDnFJxcXFSk5ODrrt3LkzLMfu\n",
              "r4VTO+axbiurUZvXZ3M1AAAAkSVkgXXPnj36/PPPNX/+fEkdf8IfP3689u3bJ5fLpRMnTgTWraio\n",
              "UGZmplJTU/u0rCerVq1SfX190G3OnDmhOr0BlTc+RcOT4tTY0q4/HjltdzkAAAARJWSBNSMjQ8eP\n",
              "H9dnn30mSSovL9fBgwc1ZcoU3XnnnXrllVckSbt27dKxY8e0YMECSerzsu4SEhLkdruDbk6nM1Sn\n",
              "N6CcDksLJjMtAAAAoCch62EdPXq0fvazn+muu+6Sw+GQz+fTP//zPyszM1PPP/+8li5dqpycHMXH\n",
              "x2vdunWBV/r3ddlgUzh1lDbt+VxbSqr15M1T7S4HAAAgYljGmEH7nqArVqzQmjVr7C6jV043tWrm\n",
              "j96RMdIfnvwzjU25wu6SAAAAIgLvdBUhhg+J19UZKZKkLbQFAAAABBBYI0jhlI5pAZtLeJtWAAAA\n",
              "PwJrBCnsHG+1o7xWnvbomCELAAAw0AisEeSqMW6NHJagc61e7TrMeCsAAACJwBpRHA5LCwPjrWgL\n",
              "AAAAkAisEcffFkBgBQAA6EBgjTDX5aTJ6bB0qKZJR+qa7C4HAADAdgTWCONOjNOsCcMlMd4KAABA\n",
              "IrBGJNoCAAAAziOwRiD/PNYPDtapuZXxVgAAILYRWCPQ5NFDNTY5UZ52nz48VGd3OQAAALYisEYg\n",
              "y7K0kLYAAAAASQTWiOVvC3jvQLWMMTZXAwAAYB8Ca4Sae2Wq4p0OVZ1u1sEaxlsBAIDYRWCNUEMS\n",
              "XPrypBGSpC20BQAAgBhGYI1gC6fQxwoAAEBgjWCFU0ZKknYePqWznnabqwEAALAHgTWCTUwbogmp\n",
              "SWrzGu0or7W7HAAAAFsQWCOYZVmBaQH0sQIAgFhFYI1wCzvbAjYfqGG8FQAAiEkE1ghXMClViXEO\n",
              "nWho0YETjXaXAwAAEHYE1giXGOfU3CvTJDEtAAAAxCYCaxTwTwvYcqDG5koAAADCj8AaBfzzWP9f\n",
              "5WnVn2uzuRoAAIDwIrBGgYwRScoeNVRen9H2cq6yAgCA2EJgjRKFXaYFAAAAxBICa5Twz2PdWlot\n",
              "n4/xVgAAIHYQWKPErKwRGhLvVO3ZVn38eb3d5QAAAIQNgTVKxLscui6nc7wVbQEAACCGEFijiL8t\n",
              "gHmsAAAglhBYo4h/vNXeqjOqO+uxuRoAAIDwILBGkfTkRH1pjFvGSNvKaAsAAACxgcAaZRhvBQAA\n",
              "Yg2BNcoUTvWPt6qRl/FWAAAgBhBYo8zVGSlyJ7pU39ymPUdP210OAADAgCOwRhmX06H5k2kLAAAA\n",
              "sYPAGoUYbwUAAGIJgTUKLeh84dUnnzfoZEOLzdUAAAAMLAJrFEobmqC88cmSpK0ltAUAAIDBjcAa\n",
              "pRbSFgAAAGIEgTVK+cdbbS+rVZvXZ3M1AAAAA4fAGqVmjEtW6pB4nfW0a3cF460AAMDgRWCNUg6H\n",
              "pQWd46220BYAAAAGMQJrFFs4lT5WAAAw+BFYo9j8nDQ5LKn05FlVnT5ndzkAAAADgsAaxVKS4jUz\n",
              "c7gkaQvjrQAAwCBFYI1y/mkB9LECAIDBisAa5RZ2vuvVjvI6tbR5ba4GAAAg9EIaWD0ejx555BHl\n",
              "5ORo+vTpuueeeyRJZWVlmjt3riZPnqzZs2frk08+CWzT12XocNUYt0YNS1Bzm1c7D5+yuxwAAICQ\n",
              "C2lgffLJJ2VZlkpLS7V//36tXr1akrR8+XIVFRWptLRUK1eu1LJlywLb9HUZOliWpULe9QoAAAxi\n",
              "ljHGhGJHTU1NGjNmjKqqquR2uwP3V1dXKzs7W6dOnZLL5ZIxRmPGjNH7778vt9vdp2XZ2dm9qmnF\n",
              "ihVas2ZNKE4vor318XE9uO6Pmpg2RJu/u9DucgAAAELKFaodHTx4UCNGjNBzzz2nd999V1dccYWe\n",
              "fvpppaSkaMyYMXK5Og5lWZYyMzNVWVmp5OTkPi3rKbB6PB55PJ6g+7ze2OjpvDY7TS6HpcO1TTpc\n",
              "26SJaUPsLgkAACBkQtYS0N7eriNHjuiqq67S7t279eMf/1iLFy9We3t7qA5xScXFxUpOTg667dy5\n",
              "MyzHttuwxDjNzhohiWkBAABg8AlZYM3MzJTD4dBf//VfS5KuvvpqTZw4UUeOHNHx48cDwdUYo8rK\n",
              "SmVmZiojI6NPy3qyatUq1dfXB93mzJkTqtOLeIVTO6YFbGYeKwAAGGRCFljT0tJ0/fXX6+2335Yk\n",
              "HT58WIcPH9a1116rmTNnat26dZKkN954Q+PHj1d2drZGjRrVp2U9SUhIkNvtDro5nc5QnV7E87/w\n",
              "6sNDdTrXGp6r2gAAAOEQshddSdKhQ4f0rW99S7W1tXI4HPr+97+v22+/XSUlJVq2bJnq6urkdru1\n",
              "du1aTZ8+XZL6vKw3YuVFV1LHFejrnt+sY2ea9fN7Z+n6L422uyQAAICQCGlgjTSxFFgl6R827de6\n",
              "Dyt1T0GmfnRb74M9AABAJOOdrgaRwDzWAzUaxP8PAQAAMYbAOoh85cpUxbscOnamWeXVZ+0uBwAA\n",
              "ICQIrINIUrxLBZNSJfGuVwAAYPAgsA4yhVM6x1sdYLwVAAAYHAisg4y/j3VXxSk1trTZXA0AAED/\n",
              "EVgHmay0IZqYNkTtPqMd5bV2lwMAANBvBNZBaCFtAQAAYBAhsA5CgfFWJdWMtwIAAFGPwDoIzZk4\n",
              "QlfEOVXd6NGnxxvsLgcAAKBfCKyDUGKcU9dmd4y32lJCWwAAAIhuBNZBamHgXa+YxwoAAKIbgXWQ\n",
              "8r/w6o+Vp3XmXKvN1QAAAPQdgXWQGj88SZNHD5XPSNvKGG8FAACiF4F1EPNPC9hCWwAAAIhiBNZB\n",
              "zN/HuqW0Rj4f460AAEB0IrAOYrOyhmtogkunmlq171i93eUAAAD0CYF1EItzOjQvJ00S0wIAAED0\n",
              "IrAOcoE+1hICKwAAiE4E1kFuQed4q71V9app9NhcDQAAwOUjsA5yo92JmjbWLUnaVsq7XgEAgOhD\n",
              "YI0B/raAzbQFAACAKERgjQGFUzvaAraV1qjd67O5GgAAgMtDYI0B+RnDlZIUp4aWdv3p6Bm7ywEA\n",
              "ALgsBNYY4HRYmp/TcZWV8VYAACDaEFhjhL8tYHMJL7wCAADRhcAaI+bnjJRlSZ8db9CJ+ha7ywEA\n",
              "AOg1AmuMSB2aoLzxKZJ4EwEAABBdCKwxhPFWAAAgGhFYY4i/j/X9slq1tjPeCgAARAcCawzJHZus\n",
              "tKHxamr1anfFKbvLAQAA6BUCawxxOCwtmExbAAAAiC4E1hjDeCsAABBtCKwxZl72SDkdlsqrz+ro\n",
              "qXN2lwMAAPCFCKwxJjkpTtdkDpfEeCsAABAdCKwxaCFtAQAAIIoQWGOQfx7rHw7WqqXNa3M1AAAA\n",
              "l0ZgjUFT04cp3Z2oljafPjxUZ3c5AAAAl0RgjUGWZQWmBWyhLQAAAEQ4AmuMWtjZFvDegWoZY2yu\n",
              "BgAA4OIIrDHq2uw0xTktVZ46p8O1TXaXAwAAcFEE1hg1NMGlORNHSGJaAAAAiGwE1hjmnxbAPFYA\n",
              "ABDJCKwxzN/H+tGhU2rytNtcDQAAQM8IrDHsypFDlDHiCrV6ffrDQcZbAQCAyERgjWGWZQXaAjbT\n",
              "FgAAACIUgTXGBfpYGW8FAAAiFIE1xhVMSlWCy6HP61tUevKs3eUAAABcIOSBde3atbIsS5s2bZIk\n",
              "VVdX66abblJOTo5yc3O1bdu2wLp9XYbQuSLeqa9cmSqJtgAAABCZQhpYKyoq9K//+q8qKCgI3Pfk\n",
              "k0+qoKBAZWVlWrt2rZYsWaK2trZ+LUNoBfpYDxBYAQBA5AlZYPX5fLr//vv18ssvKyEhIXD/hg0b\n",
              "9OCDD0qSZs+erbFjx2rr1q39WobQ8gfW3UdOq6GF/xQAAIDIErLAumbNGl177bW65pprAvfV1dWp\n",
              "ra1N6enpgfuysrJUWVnZ52UX4/F41NDQEHTzer2hOr1BLTM1SZNGDpHXZ/R+Wa3d5QAAAAQJSWD9\n",
              "+OOP9cYbb+gf/uEfQrG7PikuLlZycnLQbefOnbbVE21oCwAAAJEqJIF1+/btqqioUE5OjrKysvTh\n",
              "hx+qqKhIGzZskMvl0okTJwLrVlRUKDMzU6mpqX1adjGrVq1SfX190G3OnDmhOL2YEBhvVVojn4/x\n",
              "VgAAIHKEJLA+9NBDOn78uCoqKlRRUaGCggL97Gc/00MPPaQ777xTr7zyiiRp165dOnbsmBYsWCBJ\n",
              "fV7Wk4SEBLnd7qCb0+kMxenFhNkThysp3qmaRo8+Pd5gdzkAAAABroE+wPPPP6+lS5cqJydH8fHx\n",
              "WrduneLi4vq1DKGX4HLq2uw0vfPpSW0+UK3cccl2lwQAACBJsswgfnujFStWaM2aNXaXETVe+6hS\n",
              "/9+v92tmZoo2Pnyt3eUAAABI4p2u0MXCKSMlSX86ekanmlptrgYAAKADgRUBY1Ou0NT0YTJG2l5W\n",
              "Y3c5AAAAkgis6GYh460AAECEIbAiSGFnW8DW0hp5GW8FAAAiAIEVQWZOGK5hiS6dPtemvVVn7C4H\n",
              "AACAwIpgcU6H5ud0XGXdQlsAAACIAARWXMA/LWBzCS+8AgAA9iOw4gILOgPr/mP1qm5ssbkaAAAQ\n",
              "6wisuMCoYYma3vlOV1u5ygoAAGxGYEWP/NMCthBYAQCAzQis6NHCqR3zWLeV1ajN67O5GgAAEMsI\n",
              "rOhR3vgUDU+KU2NLu/545LTd5QAAgBhGYEWPnA5LCyYzLQAAANiPwIqLKuxsC9hSwjxWAABgHwIr\n",
              "Lmp+zkhZlnTgRKM+P9NsdzkAACBGEVhxUcOHxOvqjBRJTAsAAAD2IbDikgqndLQFbKYtAAAA2ITA\n",
              "ikvy97HuKK+Vp91rczUAACAWEVhxSVeNcWvksASda/Vq12HGWwEAgPAjsOKSHA5LCwPjrWgLAAAA\n",
              "4UdgxRfytwUQWAEAgB0IrPhC1+WkyemwdKimSUfqmuwuBwAAxBgCK76QOzFOsyYMl8R4KwAAEH4E\n",
              "VvQKbQEAAMAuBFb0in8e6wcH69TcyngrAAAQPgRW9Mrk0UM1NjlRnnafPjxUZ3c5AAAghhBY0SuW\n",
              "ZWkhbQEAAMAGBFb0mr8t4L0D1TLG2FwNAACIFQRW9NrcK1MV73So6nSzDtYw3goAAIQHgRW9NiTB\n",
              "pS9PGiFJ2kJbAAAACBMCKy7Lwin0sQIAgPAisOKyFE4ZKUnaefiUznraba4GAADEAgIrLsvEtCGa\n",
              "kJqkNq/RjvJau8sBAAAxgMCKy2JZVmBaAH2sAAAgHAisuGwLO9sCNh+oYbwVAAAYcARWXLaCSalK\n",
              "jHPoREOLDpxotLscAAAwyBFYcdkS45yae2WaJKYFAACAgUdgRZ/4pwVsOVBjcyUAAGCwI7CiT/zz\n",
              "WP9f5WnVn2uzuRoAADCYEVjRJxkjkpQ9aqi8PqPt5VxlBQAAA4fAij4r7DItAAAAYKAQWNFn/nms\n",
              "W0ur5fMx3goAAAwMAiv6bFbWCA2Jd6r2bKs+/rze7nIAAMAgRWBFn8W7HLoup3O8FW0BAABggBBY\n",
              "0S/+tgDmsQIAgIFCYEW/+Mdb7a06o7qzHpurAQAAgxGBFf2SnpyoL41xyxhpWxltAQAAIPRCFlhb\n",
              "Wlp02223afLkycrLy9MNN9yg8vJySVJ1dbVuuukm5eTkKDc3V9u2bQts19dliByMtwIAAAMppFdY\n",
              "i4qKVFJSor179+rWW2/V/fffL0l68sknVVBQoLKyMq1du1ZLlixRW1tbv5YhchRO9Y+3qpGX8VYA\n",
              "ACDEQhZYExMT9fWvf12WZUmSCgoKVFFRIUnasGGDHnzwQUnS7NmzNXbsWG3durVfyxA5rs5IkTvR\n",
              "pfrmNu05etrucgAAwCAzYD2sL730km699VbV1dWpra1N6enpgWVZWVmqrKzs87KeeDweNTQ0BN28\n",
              "Xu9AnR66cDkdmj+ZtgAAADAwBiSwPvfccyovL1dxcfFA7L5HxcXFSk5ODrrt3LkzbMePdYy3AgAA\n",
              "AyXkgXX16tXauHGjfve73ykpKUmpqalyuVw6ceJEYJ2KigplZmb2eVlPVq1apfr6+qDbnDlzQn16\n",
              "uIgFnS+8+uTzBp1saLG5GgAAMJiENLCuWbNGr7/+ut555x2lpKQE7r/zzjv1yiuvSJJ27dqlY8eO\n",
              "acGCBf1a1l1CQoLcbnfQzel0hvL0cAlpQxOUNz5ZkrS1hLYAAAAQOq5Q7aiqqkpPPPGEJk2apMLC\n",
              "QkkdIfKjjz7S888/r6VLlyonJ0fx8fFat26d4uLiJKnPyxB5Fk4Zpb1V9dpcUq27ZmfYXQ4AABgk\n",
              "LGPMoJ1DtGLFCq1Zs8buMmLGnqNndNtPdmhogkt/+v4NinPyvhQAAKD/SBQImRnjkpU6JF5nPe3a\n",
              "XcF4KwAAEBoEVoSMw2FpQed4qy1MCwAAACFCYEVILZzKeCsAABBaBFaE1PycNDksqfTkWVWdPmd3\n",
              "OQAAYBAgsCKkUpLiNTNzuCRpC+OtAABACBBYEXKFnW0B9LECAIBQILAi5BZ2vuvVjvI6tbR5ba4G\n",
              "AABEOwIrQu6qMW6NGpag5javdh4+ZXc5AAAgyhFYEXKWZalwCtMCAABAaBBYMSAKp/rnsfLCKwAA\n",
              "0D8EVgyIa7PT5HJYOlzbpMO1TXaXAwAAohiBFQNiWGKcZmeNkMS0AAAA0D8EVgwYf1vAZtoCAABA\n",
              "PxBYMWD8L7z68FCdzrW221wNAACIVgRWDJjsUUM1LuUKtbb79MHBOrvLAQAAUYrAigFjWVaXtgD6\n",
              "WAEAQN8QWDGgAvNYD9TIGGNzNQAAIBoRWDGgvnJlquJdDh0706zy6rN2lwMAAKIQgRUDKinepYJJ\n",
              "qZJoCwAAAH1DYMWAK5zS2cd6gPFWAADg8hFYMeD8fay7Kk6psaXN5moAAEC0IbBiwGWlDdHEtCFq\n",
              "9xntKK+1uxwAABBlCKwIi4W0BQAAgD4isCIsAuOtSqoZbwUAAC4LgRVhMWfiCF0R51R1o0efHm+w\n",
              "uxwAABBFCKwIi8Q4p67N7hhvtaWEtgAAANB7BFaEzcLAu14xjxUAAPQegRVh43/h1R8rT+vMuVab\n",
              "qwEAANGCwIqwGT88SZNHD5XPSNvKGG8FAAB6h8CKsPJPC9hCWwAAAOglAivCyt/HuqW0Rj4f460A\n",
              "AMAXI7AirGZlDdfQBJdONbVq37F6u8sBAABRgMCKsIpzOjQvJ00S0wIAAEDvEFgRdoE+1hICKwAA\n",
              "+GIEVoTdgs7xVnur6lXT6LG5GgAAEOkIrAi70e5ETRvrliRtK+VdrwAAwKURWGELf1vAZtoCAADA\n",
              "FyCwwhaFUzvaAraV1qjd67O5GgAAEMkIrLBFfsZwpSTFqaGlXX86esbucgAAQAQjsMIWToel+Tkd\n",
              "V1kZbwUAAC6FwArb+NsCNpfwwisAAHBxBFbYZn7OSFmW9NnxBp2ob7G7HAAAEKEIrLBN6tAE5Y1P\n",
              "kcSbCAAAgIsjsMJWjLcCAABfhMAKW/n7WN8vq1VrO+OtAADAhQissFXu2GSlDY1XU6tXuytO2V0O\n",
              "AACIQARW2MrhsLRgMm0BAADg4lx2F/BFysrKdO+996q2tlbJycl69dVXNW3aNLvLQggVTh2pN/5Y\n",
              "pc0lNfreLXZXAwBA5DPGyBjJZ4x8RjIK/trXudx0+dpnjGQU9HXHOue/9hnJfYVLo4Yl2n2KQSI+\n",
              "sC5fvlxFRUVatmyZfvWrX2nZsmXatWuX3WUhhOZlj5TTYam8+qw2l1QrbUiCHI6ONxdwWlbHR4cl\n",
              "R0+fW5YcDsnlcHRs03m/ZVl2nxYAG/h/iRv/5+r4ZSyd/4Wuzvv8X/vX7Vinc/0elhsFbytzfv0e\n",
              "93WJY3Xdl4KWdazr83XZplsYCazX5fNA8Oi2jS9oveBwctH9BD2O/uNeuB9f0PF6qiV4P75u59Kr\n",
              "/VxQ40X2owuP6/NdOsypW0jrHgB9nf+Avi776nouF9vOdAmCQR+77Mt0qev8Nupxu4uFyoH0za9M\n",
              "0A9vzR3Yg1ymiA6s1dXV2r17t/7v//5PknT77bfrkUceUXl5ubKzs22uDqGSnBSnazKHa2fFKf3N\n",
              "2tD8Z8Sy1Blmz4dehyW5nI7OsNtleSD4dgvIDktOSz2GZZej27471+2+j56D9vljX7CfoP11rutw\n",
              "yOlQt5AefGxX57aOzhosSZZlybI6trPU+dHqeGwsdQR9Sx3bdNwfvJ6jM/T793fB9lbX+77gWJ3r\n",
              "+D8OZj6fkdcYeX0dt3afkc//0XR89Hr96/jk9UntPp98nR/923k79xO0fefHS63j32fQxwvW6eF2\n",
              "QW0X3tp9PnlNt3132d7rDQ4H58PixYNhILx9Qcg8v84lQiaAS/L/nHZ0+5nf/ed5YpzT7lIvENGB\n",
              "9ejRoxozZoxcro4yLctSZmamKisrLwisHo9HHo8n6D6v1xu2WtE/DxVeqdP/26rmNm/QL3f/L0Of\n",
              "0flfip33XYoxUrv/v+6IOB1BtlvgVXBYtnQ+SHcNvOoSsjt+0PqDdXA47n6MwHpdjxF07I7PLwya\n",
              "PvlMz6GypzBKcIoN/ueX1fW5qo47/V9LHfd1X1ddvu55Xxc+f4PuD/oeCV7usLocs0ttPe4naP89\n",
              "/4e2x/34a+7pP6hd6nJccDz/9163fV/qXLv/p/pS++ny7+B0+Gs4v27H5+frcjjOf939P9s9fey6\n",
              "L/++u9bm6LavwL4d3b7usq+u+77YvtRZa4/79v8M7HKOF993dF8siOjAejmKi4v1gx/8IOi+goIC\n",
              "m6rB5SqcMiowk7W3ul7J8ofbQKDo/LNLx8fzV4C6XmHyBW2rwOf+ENJ1m+5XnALbdNl/4OqZ7/w2\n",
              "57ft+FNOu7dLEO9Wm7dbXf5tAvv2Bu8zaN+dwcp/5an7n5W6/8nM13m5quuforr+KbX7n7HMBV/3\n",
              "79+763E67+nfDqNE4Mq71XFV3Om88Iq8/+a/au7qYZ2OFpgu63TZl/+qfdePgfaaHtbxX8F3Ohwd\n",
              "f1FwOs7X19Otcz+uHv6a4P8rgaSgYBH0uc6HOfUQ5rquG1irh0Di306XCIb+dQPrfMGxrC/aV5T/\n",
              "wgeimWVMf3/1DJzq6mplZ2fr1KlTcrlcMsZozJgxev/993t1hfWpp57SSy+9FM6SgZhwsXAr9RB2\n",
              "fRf2aXXtswv0dvkusn2XkN1Tb1+gx6v7upc6ljnfv9b9WE6HIzj0dYZGR7cQ19M658OoI9BbfT7I\n",
              "EXgAoK8i+grrqFGjNHPmTK1bt07Lli3TG2+8ofHjx/fYv5qQkKCEhISg+5zOyOvBAAYD/5/mJMkp\n",
              "QhgAYGBFdGCVpJ/+9KdatmyZnnvuObndbq1du9bukgAAABBGER9Yp0yZog8++MDuMgAAAGAT3ukK\n",
              "AAAAEY3ACgAAgIhGYAUAAEBEI7ACAAAgohFYAQAAENEIrAAAAIhoBFYAAABENAIrAAAAIhqBFQAA\n",
              "ABHNMsYYu4sYKIsWLVJWVlZYjuX1erVz507NmTNHTqczLMccTHj8+o/HsH94/PqPx7D/eAz7h8ev\n",
              "/+x4DCdMmKDHH3/8kusM6sAaTg0NDUpOTlZ9fb3cbrfd5UQdHr/+4zHsHx6//uMx7D8ew/7h8eu/\n",
              "SH0MaQkAAABARCOwAgAAIKIRWAEAABDRCKwhkpCQoH/8x39UQkKC3aVEJR6//uMx7B8ev/7jMew/\n",
              "HsP+4fHrv0h9DHnRFQAAACIaV1gBAAAQ0QisAAAAiGgEVgAAAEQ0AquNXnzxRZ04ccLuMhDlKioq\n",
              "9Morr1xynVmzZmnLli3hKSjKff7555o3b57dZUSMlpYW3XbbbZo8ebLy8vJ0ww03qLy8XJK0cOFC\n",
              "TZw4Ufn5+crPz9cLL7wQ2G758uWaPn26/uzP/kz19fWSJGOMbr75Zh08eNCWc7FTVlaWpkyZEnis\n",
              "1q9fL0kqKyvT3LlzNXnyZM2ePVuffPKJJKmtrU233Xab8vLytGjRIrW3t0vq+PeYP3++Tp8+bdu5\n",
              "2KGuri7w2OXn52vy5MlyuVw6deoUz8MYQWC1EYEVodCbwIreGzt2rLZv3253GRGlqKhIJSUl2rt3\n",
              "r2699Vbdf//9gWUvvPCC9uzZoz179uhv//ZvJUkff/yxysrKtH//fi1cuFC/+MUvJEn/9m//psLC\n",
              "Ql155ZW2nIfd1q9fH3isFi9eLKkjUBUVFam0tFQrV67UsmXLJElvv/22RowYob179yolJUVvvfWW\n",
              "JOmZZ57RI488ouHDh9t1GrZITU0NPHZ79uxRUVGRbr75Zo0YMUISz8NYQGDtwQcffKDrrrtOeXl5\n",
              "mjFjhn7zm99o9+7dmjt3rmbMmKE5c+Zox44dkjrCQkpKSmDbs2fPyrKswNeWZem5557TnDlzNHHi\n",
              "RK1du1aS9MMf/lCff/65Fi9erPz8fO3ZsyecpzigLMvSs88+qy9/+cvKysrSpk2bVFxcrFmzZikn\n",
              "JyfoSt/bb7+t6667Ttdcc43mzJmjzZs3S5JOnDihwsJCXXPNNZo2bZoeeeQR+Xw+SdKrr76qr371\n",
              "q7r77rs1ffp0zZo1S4cOHbLjVMOuublZixcv1lVXXaW8vDx97Wtf04MPPqiSkhLl5+frG9/4hiTp\n",
              "D3/4g/Lz85Wbm6u/+Zu/CVydiWW9fV52/56+2PdwrEhMTNTXv/71wM+1goICVVRUXHKbuLg4eTwe\n",
              "+Xw+NTU1KT4+XsePH9frr7+uFStWhKHq6FBdXa3du3frnnvukSTdfvvtOnr0qMrLyxUXF6dz585J\n",
              "ks6dO6f4+Hjt27dPBw4c0F133WVn2RHh5z//ub71rW9dch2eh+f19udfe3u7brzxRs2aNUvTpk3T\n",
              "kiVL1NTUJEn6z//8T82aNUsej0fGGP3FX/yFnn322fCdhEGQuro6M2rUKLNt2zZjjDFer9ecPHnS\n",
              "ZGRkmLfeessYY8z27dvN6NGjTWNjozl8+LBJTk4ObN/Y2Gi6PqySzOrVq40xxnz22Wdm6NChpq2t\n",
              "zRhjzIQJE8yf/vSn8JxYGEkyL774ojHGmHfffdcMGTLErF271hhjzIYNG8ysWbOMMcYcPHjQFBQU\n",
              "mPr6emOMMWVlZSY9Pd20tLSY5uZm09jYaIwxpr293dxyyy3m9ddfN8YYs3btWuN2u82hQ4eMMcas\n",
              "XLnSFBUVhfMUbbNx40bzta99LfB1XV2d2bx5s8nLywvc5/F4zPjx480777xjjDHm7bffNpLM5s2b\n",
              "w1xtZOnt87L79/Slvodj0T333GMee+wxY4wxCxYsMFOmTDG5ubnmrrvuMgcPHgys973vfc/k5eWZ\n",
              "O+64wzQ1NZnFixeb3bt321W27SZMmGCmT59ucnNzzX333Weqq6vN7t27zeTJk4PWmz17tvn9739v\n",
              "vF6vuf/++82MGTNMUVGRaWtrM9dff705evSoTWcQOXbs2GFGjx4d+D7kefjFevvzz+fzmdra2sDn\n",
              "Dz74oCkuLg7sp6ioyHz72982//RP/2Ruuukm4/P5wncOYTtSlPif//kfM2/evKD79u3bZyZMmBB0\n",
              "34wZM8z27dt7FViPHz8e+DolJSXwA2cwB1b/OZ85c8ZIMs3NzcYYYyoqKgKP109+8hOTlpZm8vLy\n",
              "ArexY8ea0tJS09TUZB5++GEzY8YMM336dDN69GizcuVKY0xHYL3xxhsDx9u0aZO5/vrrw3uSNjl4\n",
              "8KDJyMgwDz30kPnlL39pGhoaLgise/fuNVlZWUHbTZo0icDay+dlT4H1Yt/DsebZZ581BQUFpqmp\n",
              "yRhjTGVlpTGm4xfbyy+/bL70pS/1uN2mTZvMd7/7XVNbW2uWLVtmFi1aZH75y1+Gre5IcOTIEWOM\n",
              "Ma2trebv//7vzc0333zJwNrdCy+8YF5++WVz+PBhc/fdd5tFixb1uF4suO+++8zf/d3fBb7mefjF\n",
              "evvzz+v1mu9973smPz/f5ObmmoyMDLN48eLAfpqbm82MGTNMRkaGqampCes50BLQR/4/j7lcLnm9\n",
              "3sD9LS0tF6ybmJgY+NzpdMbEn2f95+x0Oi/42n/+xhjdcMMNQX1Jx44dU05OjtasWaPq6mp99NFH\n",
              "2rdvn5YsWRL02MbiYypJkyZN0qeffqqbbrpJO3bsUG5ubq9efNG1TSWW9eZ5eanterPuYLV69Wpt\n",
              "3LhRv/vd75SUlCRJysjIkNTx/HrkkUd06NAh1dXVBW3X0NCg1atX6wc/+IFefPFFLViwQOvXr9cP\n",
              "f/hDNTc3h/087JKZmSmp48/U3/nOd7R9+3ZlZGTo+PHjQT8TKysrA+v6HTlyRG+++aYefvhhPfXU\n",
              "UyoqKtKrr76qRx99NOznYbezZ89qw4YNuu+++wL38Tzsnd78/Hvttdf03nvvaevWrdq/f7+++93v\n",
              "Bv3ura6u1unTp+Xz+XTmzJmw1k9g7Wbu3LkqKysLvOjC5/Np9OjR8vl8eueddyR19AeeOHFC+fn5\n",
              "Sk9PlzFGn376qSTpP/7jP3p9LLfbHXjVYiy68cYb9e6772rfvn2B+3bu3ClJOn36tNLT05WYmKgT\n",
              "J07ov/7rv+wqM6JUVVXJsix94xvf0OrVq2WMUWpqatDzaOrUqWpvbw/0A7/77ru8Ghb9smbNGr3+\n",
              "+ut65513Av297e3tOnnyZGCdN954Q6NHj1ZqamrQtk8++aS+//3vKykpSU1NTbIsS5Zlqa2tTa2t\n",
              "reE8Dds0NTUF/XJ//fXXdfXVV2vUqFGaOXOm1q1bJ6njMRw/fryys7ODtn/88cf1wgsvyOFwBB5D\n",
              "/+exZv369crLy9PUqVMl8TwMtdOnTystLU1ut1uNjY169dVXA8va29v1V3/1V3rmmWe0Zs0a3XXX\n",
              "XfJ4PGGrzRW2I0WJ4cOH69e//rWeeOIJNTY2yuFw6JlnntHGjRv12GOP6YknnlBiYqJ+9atfaejQ\n",
              "oZKkl19+WX/+53+u1NRU3XHHHb0+1mOPPaYHHnhASUlJevXVV5Wfnz9AZxWZsrOz9dprr2n58uU6\n",
              "d+6cWltbdfXVV+u1117T448/rjvuuEPTpk3T2LFj9dWvftXuciPC/v37tWrVKhlj1N7erqVLl2ru\n",
              "3LmaNm2acnNzNWnSJP32t7/V+vXr9fDDD8vr9Wr27NnKy8uzu3REqaqqKj3xxBOaNGmSCgsLJXW8\n",
              "1/h7772nW265RR6PRw6HQ2lpafrtb38btO2OHTvU3NysG264QZL07W9/W3fffbeef/55LV26VMnJ\n",
              "yWE/HzucPHlSt99+u7xer4wxmjRpUuDixk9/+lMtW7ZMzz33nNxu9wUv6nvttdeUl5enadOmSeoI\n",
              "Xg888IBaW1v11FNPhf1c7Pbzn/9cDzzwQOBrj8fD8zCEvvnNb+o3v/mNpkyZopEjR2revHk6cuSI\n",
              "pI7n3pQpU3TvvfdKkrZu3arvfOc7+pd/+Zew1GYZY0xYjgQAAAD0AS0BAAAAiGgEVgAAAEQ0AisA\n",
              "AAAiGoEVAAAAEY3ACgAAgIhGYAUAAEBEI7ACAAAgohFYAQAAENEIrAAAAIhoBFYAAABENAIrAAAA\n",
              "Itr/Dynp2bQY0WsOAAAAAElFTkSuQmCC\n",
              "\">\n",
              "      </div>\n",
              "      <script type=\"text/javascript\">\n",
              "        (() => {\n",
              "          const chartElement = document.getElementById(\"chart-29e572b2-dfa7-4fb6-8cc0-a91b84333123\");\n",
              "          async function getCodeForChartHandler(event) {\n",
              "            const chartCodeResponse =  await google.colab.kernel.invokeFunction(\n",
              "                'getCodeForChart', [\"chart-29e572b2-dfa7-4fb6-8cc0-a91b84333123\"], {});\n",
              "            const responseJson = chartCodeResponse.data['application/json'];\n",
              "            await google.colab.notebook.addCell(responseJson.code, 'code');\n",
              "          }\n",
              "          chartElement.onclick = getCodeForChartHandler;\n",
              "        })();\n",
              "      </script>\n",
              "      <style>\n",
              "        .colab-quickchart-chart-with-code  {\n",
              "            display: block;\n",
              "            float: left;\n",
              "            border: 1px solid transparent;\n",
              "        }\n",
              "\n",
              "        .colab-quickchart-chart-with-code:hover {\n",
              "            cursor: pointer;\n",
              "            border: 1px solid #aaa;\n",
              "        }\n",
              "      </style>"
            ]
          },
          "metadata": {}
        }
      ]
    },
    {
      "cell_type": "code",
      "source": [
        "res = seaborn.countplot(x=df['dx'])\n",
        "plt.show()"
      ],
      "metadata": {
        "id": "-lR-lz9Pcrxz",
        "outputId": "e3c946f8-07f9-4b8a-a473-84c90d055976",
        "colab": {
          "base_uri": "https://localhost:8080/",
          "height": 453
        }
      },
      "execution_count": 29,
      "outputs": [
        {
          "output_type": "display_data",
          "data": {
            "text/plain": [
              "<Figure size 640x480 with 1 Axes>"
            ],
            "image/png": "[encoded data removed]"
          },
          "metadata": {}
        }
      ]
    },
    {
      "cell_type": "code",
      "source": [
        "df['dx'].value_counts()"
      ],
      "metadata": {
        "id": "DovRJsg5hYWo",
        "outputId": "11847616-dd50-4d18-ecee-28300311d6fe",
        "colab": {
          "base_uri": "https://localhost:8080/"
        }
      },
      "execution_count": 30,
      "outputs": [
        {
          "output_type": "execute_result",
          "data": {
            "text/plain": [
              "nv       6705\n",
              "mel      1113\n",
              "bkl      1099\n",
              "bcc       514\n",
              "akiec     327\n",
              "vasc      142\n",
              "df        115\n",
              "Name: dx, dtype: int64"
            ]
          },
          "metadata": {},
          "execution_count": 30
        }
      ]
    },
    {
      "cell_type": "code",
      "source": [
        "res = seaborn.countplot(x=df['localization'])\n",
        "plt.show()"
      ],
      "metadata": {
        "id": "xUaTku4gf7Yj",
        "outputId": "a9cba155-6f43-422f-8f2c-c0d05ae7836d",
        "colab": {
          "base_uri": "https://localhost:8080/",
          "height": 449
        }
      },
      "execution_count": 20,
      "outputs": [
        {
          "output_type": "display_data",
          "data": {
            "text/plain": [
              "<Figure size 640x480 with 1 Axes>"
            ],
            "image/png": "[encoded data removed]"
          },
          "metadata": {}
        }
      ]
    },
    {
      "cell_type": "code",
      "source": [
        "df['localization'].value_counts()"
      ],
      "metadata": {
        "id": "GJkCxPuxhjIs",
        "outputId": "8092c5de-03f4-4a66-e0f8-98bf1ac2dce4",
        "colab": {
          "base_uri": "https://localhost:8080/"
        }
      },
      "execution_count": 15,
      "outputs": [
        {
          "output_type": "execute_result",
          "data": {
            "text/plain": [
              "back               2192\n",
              "lower extremity    2077\n",
              "trunk              1404\n",
              "upper extremity    1118\n",
              "abdomen            1022\n",
              "face                745\n",
              "chest               407\n",
              "foot                319\n",
              "unknown             234\n",
              "neck                168\n",
              "scalp               128\n",
              "hand                 90\n",
              "ear                  56\n",
              "genital              48\n",
              "acral                 7\n",
              "Name: localization, dtype: int64"
            ]
          },
          "metadata": {},
          "execution_count": 15
        }
      ]
    },
    {
      "cell_type": "code",
      "source": [
        "res = seaborn.boxplot(y=df['age'])\n",
        "plt.show()"
      ],
      "metadata": {
        "id": "ILMPG_Q3R6sR",
        "outputId": "3a621f50-4869-4ce1-d7b0-684172b57229",
        "colab": {
          "base_uri": "https://localhost:8080/",
          "height": 411
        }
      },
      "execution_count": 34,
      "outputs": [
        {
          "output_type": "display_data",
          "data": {
            "text/plain": [
              "<Figure size 640x480 with 1 Axes>"
            ],
            "image/png": "[encoded data removed]"
          },
          "metadata": {}
        }
      ]
    },
    {
      "cell_type": "code",
      "source": [
        "print(\"Min: \", df['age'].min())\n",
        "print(\"Max: \", df['age'].max())\n",
        "\n",
        "q1 = df['age'].quantile(0.25)\n",
        "q3 = df['age'].quantile(0.75)\n",
        "\n",
        "iqa = q3 - q1 #interquartilsabstand\n",
        "outliers = df[(df['age']< q1-1.5*iqa) | (df['age']> q3+1.5*iqa)]\n",
        "print(\"Ausreißer: \", len(outliers))"
      ],
      "metadata": {
        "id": "8jv_6BXiY9Ff",
        "outputId": "26ef7700-317f-4a7b-f69b-2e9d00768d57",
        "colab": {
          "base_uri": "https://localhost:8080/"
        }
      },
      "execution_count": 42,
      "outputs": [
        {
          "output_type": "stream",
          "name": "stdout",
          "text": [
            "Min:  0.0\n",
            "Max:  85.0\n",
            "Ausreißer:  39\n"
          ]
        }
      ]
    },
    {
      "cell_type": "code",
      "source": [
        "missing_values_age = df['age'].isna()\n",
        "count_age = 0\n",
        "\n",
        "for value in missing_values_age:\n",
        "    if value:\n",
        "        count_age += 1\n",
        ""
      ],
      "metadata": {
        "id": "2gnj6KFfbGE8"
      },
      "execution_count": 58,
      "outputs": []
    },
    {
      "cell_type": "markdown",
      "source": [
        "# Visualisierungen\n"
      ],
      "metadata": {
        "id": "geDyAFgxfzm8"
      }
    },
    {
      "cell_type": "code",
      "source": [
        "sex_var = df['sex'].unique()\n",
        "print(sex_var)\n",
        "count_sex_unknown = 0\n",
        "\n",
        "for value in df['sex']:\n",
        "    if value == 'unknown':\n",
        "        count_sex_unknown += 1\n",
        ""
      ],
      "metadata": {
        "id": "2Fm-vUtg4FrB",
        "outputId": "99ecc31a-2b8f-4c1e-c51a-1d95ae578608",
        "colab": {
          "base_uri": "https://localhost:8080/"
        }
      },
      "execution_count": 65,
      "outputs": [
        {
          "output_type": "stream",
          "name": "stdout",
          "text": [
            "['male' 'female' 'unknown']\n",
            "['scalp' 'ear' 'face' 'back' 'trunk' 'chest' 'upper extremity' 'abdomen'\n",
            " 'unknown' 'lower extremity' 'genital' 'neck' 'hand' 'foot' 'acral']\n"
          ]
        }
      ]
    },
    {
      "cell_type": "code",
      "source": [
        "localization_var = df['localization'].unique()\n",
        "print(localization_var)\n",
        "count_local_unknown = 0\n",
        "\n",
        "for value in df['localization']:\n",
        "  if value == 'unknown':\n",
        "    count_local_unknown += 1"
      ],
      "metadata": {
        "id": "vEkxmY5653vk",
        "outputId": "5d814b7a-7a5f-4f47-f922-96dab4ea7164",
        "colab": {
          "base_uri": "https://localhost:8080/"
        }
      },
      "execution_count": 66,
      "outputs": [
        {
          "output_type": "stream",
          "name": "stdout",
          "text": [
            "['scalp' 'ear' 'face' 'back' 'trunk' 'chest' 'upper extremity' 'abdomen'\n",
            " 'unknown' 'lower extremity' 'genital' 'neck' 'hand' 'foot' 'acral']\n"
          ]
        }
      ]
    },
    {
      "cell_type": "code",
      "source": [
        "print(\"Anzahl fehlender Werte in der 'age'-Spalte:\", count_age)\n",
        "print(\"Anzahl unbekannter Geschlechter:\", count_sex_unknown)\n",
        "print(\"Anzahl unbekannter Regionen: \", count_local_unknown)"
      ],
      "metadata": {
        "id": "lleccw4wdN__",
        "outputId": "569f10ba-f94c-490f-f968-fb643eb34d12",
        "colab": {
          "base_uri": "https://localhost:8080/"
        }
      },
      "execution_count": 67,
      "outputs": [
        {
          "output_type": "stream",
          "name": "stdout",
          "text": [
            "Anzahl fehlender Werte in der 'age'-Spalte: 57\n",
            "Anzahl unbekannter Geschlechter: 57\n",
            "Anzahl unbekannter Regionen:  234\n"
          ]
        }
      ]
    },
    {
      "cell_type": "code",
      "source": [
        "plt.scatter(df['dx'], df['age'])"
      ],
      "metadata": {
        "id": "0L0eFqcS-Ah1",
        "outputId": "cf37e154-962c-4514-f631-582a72f22680",
        "colab": {
          "base_uri": "https://localhost:8080/",
          "height": 448
        }
      },
      "execution_count": 74,
      "outputs": [
        {
          "output_type": "execute_result",
          "data": {
            "text/plain": [
              "<matplotlib.collections.PathCollection at 0x7c1cd9d7e590>"
            ]
          },
          "metadata": {},
          "execution_count": 74
        },
        {
          "output_type": "display_data",
          "data": {
            "text/plain": [
              "<Figure size 640x480 with 1 Axes>"
            ],
            "image/png": "[encoded data removed]"
          },
          "metadata": {}
        }
      ]
    },
    {
      "cell_type": "code",
      "source": [
        "plt.scatter(df['dx'], df['localization'])"
      ],
      "metadata": {
        "id": "lsrsIEQW_NCZ",
        "outputId": "2543f626-e684-433f-b56a-ec4aaa67514d",
        "colab": {
          "base_uri": "https://localhost:8080/",
          "height": 448
        }
      },
      "execution_count": 75,
      "outputs": [
        {
          "output_type": "execute_result",
          "data": {
            "text/plain": [
              "<matplotlib.collections.PathCollection at 0x7c1cd9beed70>"
            ]
          },
          "metadata": {},
          "execution_count": 75
        },
        {
          "output_type": "display_data",
          "data": {
            "text/plain": [
              "<Figure size 640x480 with 1 Axes>"
            ],
            "image/png": "[encoded data removed]"
          },
          "metadata": {}
        }
      ]
    },
    {
      "cell_type": "code",
      "source": [
        "plt.scatter(df['dx'], df['sex'])"
      ],
      "metadata": {
        "id": "YXW2YZ2__TUM",
        "outputId": "bade663d-6d2c-4277-9d00-d0013baa48d5",
        "colab": {
          "base_uri": "https://localhost:8080/",
          "height": 448
        }
      },
      "execution_count": 76,
      "outputs": [
        {
          "output_type": "execute_result",
          "data": {
            "text/plain": [
              "<matplotlib.collections.PathCollection at 0x7c1cd9c87c40>"
            ]
          },
          "metadata": {},
          "execution_count": 76
        },
        {
          "output_type": "display_data",
          "data": {
            "text/plain": [
              "<Figure size 640x480 with 1 Axes>"
            ],
            "image/png": "[encoded data removed]"
          },
          "metadata": {}
        }
      ]
    },
    {
      "cell_type": "code",
      "source": [
        "one_hot_encoded_data = pd.get_dummies(df)\n",
        "one_hot_encoded_data.corr(method='pearson')"
      ],
      "metadata": {
        "id": "_xHUYogn_ayC"
      },
      "execution_count": null,
      "outputs": []
    },
    {
      "cell_type": "code",
      "source": [],
      "metadata": {
        "id": "84KJkurTAYwO"
      },
      "execution_count": null,
      "outputs": []
    }
  ]
}