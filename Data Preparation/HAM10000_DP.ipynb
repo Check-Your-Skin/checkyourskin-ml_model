{
  "nbformat": 4,
  "nbformat_minor": 0,
  "metadata": {
    "colab": {
      "provenance": [],
      "machine_shape": "hm",
      "gpuType": "V100",
      "authorship_tag": "ABX9TyOxdcBBXoE+P3aRVHdbYU3y",
      "include_colab_link": true
    },
    "kernelspec": {
      "name": "python3",
      "display_name": "Python 3"
    },
    "language_info": {
      "name": "python"
    },
    "accelerator": "GPU"
  },
  "cells": [
    {
      "cell_type": "markdown",
      "metadata": {
        "id": "view-in-github",
        "colab_type": "text"
      },
      "source": [
        "<a href=\"https://colab.research.google.com/github/Check-Your-Skin/checkyourskin-ml_model/blob/train-cnn-ham10000/Data%20Preparation/HAM10000_DP.ipynb\" target=\"_parent\"><img src=\"https://colab.research.google.com/assets/colab-badge.svg\" alt=\"Open In Colab\"/></a>"
      ]
    },
    {
      "cell_type": "markdown",
      "source": [
        "#**Import**"
      ],
      "metadata": {
        "id": "7qloLdjeNAzu"
      }
    },
    {
      "cell_type": "code",
      "execution_count": 1,
      "metadata": {
        "id": "AgrahV0gKDDl"
      },
      "outputs": [],
      "source": [
        "import os\n",
        "import io\n",
        "import shutil\n",
        "import zipfile\n",
        "import random\n",
        "\n",
        "import pandas as pd\n",
        "from glob import glob\n",
        "from PIL import Image\n",
        "from google.colab.patches import cv2_imshow\n",
        "from concurrent.futures import ThreadPoolExecutor\n",
        "import cv2\n",
        "\n",
        "from keras.utils import to_categorical\n",
        "from sklearn.model_selection import train_test_split\n",
        "from sklearn.preprocessing import LabelEncoder\n",
        "from keras.models import Sequential\n",
        "from keras.layers import Conv2D, MaxPooling2D, Dense, Flatten, Dropout\n",
        "from keras.layers import Dense, Conv2D, MaxPool2D , Flatten, BatchNormalization\n",
        "from keras import metrics\n",
        "from keras.metrics import Precision, Recall\n",
        "from keras.optimizers import Adam\n",
        "\n",
        "import matplotlib.pyplot as plt\n",
        "import matplotlib.image as pltimg\n",
        "import numpy as np"
      ]
    },
    {
      "cell_type": "code",
      "source": [
        "from google.colab import drive\n",
        "drive.mount('/content/drive')"
      ],
      "metadata": {
        "id": "_0CSFcFCNjYt",
        "outputId": "6f8b850f-e8ab-4109-c522-8bb5ab880d82",
        "colab": {
          "base_uri": "https://localhost:8080/"
        }
      },
      "execution_count": 2,
      "outputs": [
        {
          "output_type": "stream",
          "name": "stdout",
          "text": [
            "Mounted at /content/drive\n"
          ]
        }
      ]
    },
    {
      "cell_type": "code",
      "source": [
        "import zipfile\n",
        "with zipfile.ZipFile('/content/drive/My Drive/archive.zip', 'r') as zip_ref:\n",
        "    zip_ref.extractall('/content/HAM10000/')"
      ],
      "metadata": {
        "id": "wOAXLXN0OpdY"
      },
      "execution_count": 3,
      "outputs": []
    },
    {
      "cell_type": "code",
      "source": [
        "shutil.rmtree('/content/HAM10000/ham10000_images_part_1')\n",
        "shutil.rmtree('/content/HAM10000/ham10000_images_part_2')"
      ],
      "metadata": {
        "id": "GUcnFgeYefAj"
      },
      "execution_count": 4,
      "outputs": []
    },
    {
      "cell_type": "markdown",
      "source": [
        "#Data Preparation"
      ],
      "metadata": {
        "id": "sQmmb_N5pHpL"
      }
    },
    {
      "cell_type": "markdown",
      "source": [
        "###Check Image Size"
      ],
      "metadata": {
        "id": "lTA7SW7QR-F5"
      }
    },
    {
      "cell_type": "code",
      "source": [
        "width = 600\n",
        "height = 450\n",
        "wrong_size = 0\n",
        "data = glob('/content/HAM10000/*')\n",
        "for dir in data:\n",
        "  if os.path.isdir(dir):\n",
        "    images = glob(f'{dir}/*')\n",
        "    for image in images:\n",
        "      img = Image.open(image)\n",
        "      w, h = img.size\n",
        "      if (w != width or h != height):\n",
        "        wrong_size =+ 1\n",
        "        print(f'Path: {image}\\nHeight: {h}\\nWidth: {w}')\n",
        "print(wrong_size)"
      ],
      "metadata": {
        "id": "e1iirA03PX95",
        "outputId": "bb5f6c27-e9cb-49f3-cbfa-1698ae1820e3",
        "colab": {
          "base_uri": "https://localhost:8080/"
        }
      },
      "execution_count": 5,
      "outputs": [
        {
          "output_type": "stream",
          "name": "stdout",
          "text": [
            "0\n"
          ]
        }
      ]
    },
    {
      "cell_type": "markdown",
      "source": [
        "###Resize Images\n",
        "\n",
        "\n",
        "\n"
      ],
      "metadata": {
        "id": "SUzHWGYvSKYa"
      }
    },
    {
      "cell_type": "code",
      "source": [
        "def resize_image(image):\n",
        "  img = Image.open(image)\n",
        "  width, height = img.size\n",
        "  global new_height\n",
        "  global new_width\n",
        "  new_height = 250\n",
        "  new_width  = int(new_height * width / height)\n",
        "  img = img.resize((new_width, new_height), Image.Resampling.LANCZOS)\n",
        "  img_name = os.path.basename(image)\n",
        "  img.save(resize_dest_dir + img_name)"
      ],
      "metadata": {
        "id": "wMGGdalTbXK1"
      },
      "execution_count": 7,
      "outputs": []
    },
    {
      "cell_type": "code",
      "source": [
        "size = 128\n",
        "resize_dest_dir = '/content/HAM10000/HAM10000_images/'\n",
        "try:\n",
        "  os.mkdir(resize_dest_dir)\n",
        "except:\n",
        "  pass\n",
        "data = glob('/content/HAM10000/*')\n",
        "for dir in data:\n",
        "  if os.path.isdir(dir):\n",
        "    images = glob(f'{dir}/*')\n",
        "    with ThreadPoolExecutor() as executor:\n",
        "      executor.map(resize_image, images)"
      ],
      "metadata": {
        "id": "C9aJ-Q1BbdAo"
      },
      "execution_count": 8,
      "outputs": []
    },
    {
      "cell_type": "code",
      "source": [
        "resize_dest_dir = '/content/HAM10000/HAM10000_images/'\n",
        "try:\n",
        "  os.mkdir(resize_dest_dir)\n",
        "except:\n",
        "  pass\n",
        "data = glob('/content/HAM10000/*')\n",
        "for dir in data:\n",
        "  if os.path.isdir(dir):\n",
        "    images = glob(f'{dir}/*')\n",
        "    for image in images:\n",
        "      shutil.copy(image, resize_dest_dir)"
      ],
      "metadata": {
        "id": "5Vi2TdyYjCd1"
      },
      "execution_count": 5,
      "outputs": []
    },
    {
      "cell_type": "code",
      "source": [
        "print(len(glob('/content/HAM10000/HAM10000_images/*')))"
      ],
      "metadata": {
        "id": "7CrGYlsr2ytc",
        "outputId": "ba34c282-8f3c-4033-9c33-13fa093d936c",
        "colab": {
          "base_uri": "https://localhost:8080/"
        }
      },
      "execution_count": 7,
      "outputs": [
        {
          "output_type": "stream",
          "name": "stdout",
          "text": [
            "10015\n"
          ]
        }
      ]
    },
    {
      "cell_type": "code",
      "source": [
        "shutil.rmtree('/content/HAM10000/HAM10000_images_part_1')\n",
        "shutil.rmtree('/content/HAM10000/HAM10000_images_part_2')"
      ],
      "metadata": {
        "id": "d2P03mKonKvR"
      },
      "execution_count": 8,
      "outputs": []
    },
    {
      "cell_type": "code",
      "source": [
        "#Dictionary to match the Image_id with the Path of the Image\n",
        "imgPath = {}\n",
        "for x in glob(os.path.join('/content/HAM10000/HAM10000_images/*.jpg')):\n",
        "    imgPath[os.path.splitext(os.path.basename(x))[0]] = x"
      ],
      "metadata": {
        "id": "L3-uad_LL1My"
      },
      "execution_count": 9,
      "outputs": []
    },
    {
      "cell_type": "code",
      "source": [
        "#Add Resized Image data to DataFrame\n",
        "file_path = '/content/HAM10000/HAM10000_metadata.csv'\n",
        "df = pd.read_csv(file_path)\n",
        "\n",
        "\n",
        "size = (128,128)\n",
        "df['image'] = df['image_id'].map(imgPath.get).map(lambda x: np.asarray(Image.open(x).resize(size)))"
      ],
      "metadata": {
        "id": "qgEf4ge0WxWL"
      },
      "execution_count": 10,
      "outputs": []
    },
    {
      "cell_type": "code",
      "source": [
        "#Adding numerical lable for one-hot encoding\n",
        "numerical_label = LabelEncoder().fit(df['dx']).transform(df['dx'])\n",
        "df['label'] = numerical_label"
      ],
      "metadata": {
        "id": "nJuVIn9ihl-E"
      },
      "execution_count": 11,
      "outputs": []
    },
    {
      "cell_type": "code",
      "source": [
        "x = np.asarray(df['image'].to_list())\n",
        "x = x / 255\n",
        "y = df['label']\n",
        "y = to_categorical(y, num_classes=7)\n",
        "x_train, x_sum, y_train, y_sum = train_test_split(x, y, train_size=0.7, shuffle=True)\n",
        "x_valid, x_test, y_valid, y_test = train_test_split(x_sum, y_sum, test_size=0.5)"
      ],
      "metadata": {
        "id": "O1u4dqRI_isR"
      },
      "execution_count": 12,
      "outputs": []
    },
    {
      "cell_type": "code",
      "source": [
        "print('Train: ',len(x_train))\n",
        "print('Test: ',len(x_test))\n",
        "print('Validation: ',len(x_valid))"
      ],
      "metadata": {
        "id": "TxzDtlqlD4RG",
        "outputId": "ee111b39-a122-427e-a084-befd8a16d1be",
        "colab": {
          "base_uri": "https://localhost:8080/"
        }
      },
      "execution_count": 13,
      "outputs": [
        {
          "output_type": "stream",
          "name": "stdout",
          "text": [
            "Train:  7010\n",
            "Test:  1503\n",
            "Validation:  1502\n"
          ]
        }
      ]
    },
    {
      "cell_type": "markdown",
      "source": [
        "#Build Model"
      ],
      "metadata": {
        "id": "jZ7qIdTvjVsn"
      }
    },
    {
      "cell_type": "code",
      "source": [
        "model = Sequential()\n",
        "\n",
        "# Convolutional Block 1\n",
        "model.add(Conv2D(input_shape=(128,128,3), filters=32, kernel_size=(3,3), padding=\"same\", activation=\"relu\"))\n",
        "model.add(Conv2D(filters=32, kernel_size=(3,3), padding=\"same\", activation=\"relu\"))\n",
        "model.add(MaxPooling2D(pool_size=(2,2), strides=(2,2)))\n",
        "model.add(BatchNormalization())\n",
        "\n",
        "# Convolutional Block 2\n",
        "model.add(Conv2D(filters=64, kernel_size=(3,3), padding=\"same\", activation=\"relu\"))\n",
        "model.add(Conv2D(filters=64, kernel_size=(3,3), padding=\"same\", activation=\"relu\"))\n",
        "model.add(MaxPooling2D(pool_size=(2,2), strides=(2,2)))\n",
        "model.add(BatchNormalization())\n",
        "\n",
        "# Convolutional Block 3\n",
        "model.add(Conv2D(filters=128, kernel_size=(3,3), padding=\"same\", activation=\"relu\"))\n",
        "model.add(Conv2D(filters=128, kernel_size=(3,3), padding=\"same\", activation=\"relu\"))\n",
        "model.add(MaxPooling2D(pool_size=(2,2), strides=(2,2)))\n",
        "model.add(BatchNormalization())\n",
        "\n",
        "model.add(Flatten())\n",
        "model.add(Dense(units=512, activation=\"relu\"))\n",
        "model.add(Dense(units=256, activation=\"relu\"))\n",
        "model.add(Dense(units=32, activation=\"relu\"))\n",
        "model.add(BatchNormalization())\n",
        "\n",
        "model.add(Dense(units=7, activation='softmax', kernel_initializer='glorot_uniform', name='classifier'))"
      ],
      "metadata": {
        "id": "WX1djxIrjQ0E"
      },
      "execution_count": 14,
      "outputs": []
    },
    {
      "cell_type": "code",
      "source": [
        "model.summary()"
      ],
      "metadata": {
        "id": "pfNVjWbsjkyu",
        "outputId": "0b37dabc-1e96-4486-92de-65294c47b5c8",
        "colab": {
          "base_uri": "https://localhost:8080/"
        }
      },
      "execution_count": 15,
      "outputs": [
        {
          "output_type": "stream",
          "name": "stdout",
          "text": [
            "Model: \"sequential\"\n",
            "_________________________________________________________________\n",
            " Layer (type)                Output Shape              Param #   \n",
            "=================================================================\n",
            " conv2d (Conv2D)             (None, 128, 128, 32)      896       \n",
            "                                                                 \n",
            " conv2d_1 (Conv2D)           (None, 128, 128, 32)      9248      \n",
            "                                                                 \n",
            " max_pooling2d (MaxPooling2  (None, 64, 64, 32)        0         \n",
            " D)                                                              \n",
            "                                                                 \n",
            " batch_normalization (Batch  (None, 64, 64, 32)        128       \n",
            " Normalization)                                                  \n",
            "                                                                 \n",
            " conv2d_2 (Conv2D)           (None, 64, 64, 64)        18496     \n",
            "                                                                 \n",
            " conv2d_3 (Conv2D)           (None, 64, 64, 64)        36928     \n",
            "                                                                 \n",
            " max_pooling2d_1 (MaxPoolin  (None, 32, 32, 64)        0         \n",
            " g2D)                                                            \n",
            "                                                                 \n",
            " batch_normalization_1 (Bat  (None, 32, 32, 64)        256       \n",
            " chNormalization)                                                \n",
            "                                                                 \n",
            " conv2d_4 (Conv2D)           (None, 32, 32, 128)       73856     \n",
            "                                                                 \n",
            " conv2d_5 (Conv2D)           (None, 32, 32, 128)       147584    \n",
            "                                                                 \n",
            " max_pooling2d_2 (MaxPoolin  (None, 16, 16, 128)       0         \n",
            " g2D)                                                            \n",
            "                                                                 \n",
            " batch_normalization_2 (Bat  (None, 16, 16, 128)       512       \n",
            " chNormalization)                                                \n",
            "                                                                 \n",
            " flatten (Flatten)           (None, 32768)             0         \n",
            "                                                                 \n",
            " dense (Dense)               (None, 512)               16777728  \n",
            "                                                                 \n",
            " dense_1 (Dense)             (None, 256)               131328    \n",
            "                                                                 \n",
            " dense_2 (Dense)             (None, 32)                8224      \n",
            "                                                                 \n",
            " batch_normalization_3 (Bat  (None, 32)                128       \n",
            " chNormalization)                                                \n",
            "                                                                 \n",
            " classifier (Dense)          (None, 7)                 231       \n",
            "                                                                 \n",
            "=================================================================\n",
            "Total params: 17205543 (65.63 MB)\n",
            "Trainable params: 17205031 (65.63 MB)\n",
            "Non-trainable params: 512 (2.00 KB)\n",
            "_________________________________________________________________\n"
          ]
        }
      ]
    },
    {
      "cell_type": "code",
      "source": [
        "learning_rate = 0.0005\n",
        "\n",
        "optimizer = Adam(learning_rate=learning_rate)\n",
        "\n",
        "optimizer_name = 'Adam'\n",
        "\n",
        "loss_name = 'categorical_crossentropy'\n",
        "\n",
        "model.compile(optimizer=optimizer,\n",
        "              loss=loss_name,\n",
        "              metrics = ['accuracy'])"
      ],
      "metadata": {
        "id": "C__IcaDckNj1"
      },
      "execution_count": 16,
      "outputs": []
    },
    {
      "cell_type": "code",
      "source": [
        "hist = model.fit(x_train, y_train, epochs=30, validation_data=(x_valid, y_valid), batch_size=16)"
      ],
      "metadata": {
        "id": "cvYBIVAzmVK2",
        "outputId": "08338a27-a3bd-4249-e508-1fe2133b7651",
        "colab": {
          "base_uri": "https://localhost:8080/"
        }
      },
      "execution_count": 17,
      "outputs": [
        {
          "output_type": "stream",
          "name": "stdout",
          "text": [
            "Epoch 1/30\n",
            "439/439 [==============================] - 15s 16ms/step - loss: 1.2729 - accuracy: 0.6126 - val_loss: 1.1816 - val_accuracy: 0.6265\n",
            "Epoch 2/30\n",
            "439/439 [==============================] - 5s 12ms/step - loss: 0.8705 - accuracy: 0.7041 - val_loss: 0.8309 - val_accuracy: 0.7077\n",
            "Epoch 3/30\n",
            "439/439 [==============================] - 5s 12ms/step - loss: 0.7869 - accuracy: 0.7248 - val_loss: 0.8749 - val_accuracy: 0.7091\n",
            "Epoch 4/30\n",
            "439/439 [==============================] - 5s 12ms/step - loss: 0.7361 - accuracy: 0.7378 - val_loss: 0.8879 - val_accuracy: 0.6591\n",
            "Epoch 5/30\n",
            "439/439 [==============================] - 5s 12ms/step - loss: 0.6861 - accuracy: 0.7586 - val_loss: 0.9067 - val_accuracy: 0.6964\n",
            "Epoch 6/30\n",
            "439/439 [==============================] - 5s 13ms/step - loss: 0.6439 - accuracy: 0.7653 - val_loss: 0.9560 - val_accuracy: 0.6997\n",
            "Epoch 7/30\n",
            "439/439 [==============================] - 5s 12ms/step - loss: 0.5912 - accuracy: 0.7890 - val_loss: 0.8103 - val_accuracy: 0.7477\n",
            "Epoch 8/30\n",
            "439/439 [==============================] - 5s 12ms/step - loss: 0.5830 - accuracy: 0.7927 - val_loss: 1.2052 - val_accuracy: 0.6884\n",
            "Epoch 9/30\n",
            "439/439 [==============================] - 5s 12ms/step - loss: 0.7054 - accuracy: 0.7448 - val_loss: 0.7615 - val_accuracy: 0.7264\n",
            "Epoch 10/30\n",
            "439/439 [==============================] - 5s 12ms/step - loss: 0.4933 - accuracy: 0.8261 - val_loss: 1.0645 - val_accuracy: 0.7130\n",
            "Epoch 11/30\n",
            "439/439 [==============================] - 5s 12ms/step - loss: 0.3811 - accuracy: 0.8692 - val_loss: 1.2074 - val_accuracy: 0.7197\n",
            "Epoch 12/30\n",
            "439/439 [==============================] - 5s 12ms/step - loss: 0.2882 - accuracy: 0.9003 - val_loss: 0.8164 - val_accuracy: 0.7543\n",
            "Epoch 13/30\n",
            "439/439 [==============================] - 5s 12ms/step - loss: 0.2094 - accuracy: 0.9281 - val_loss: 0.8858 - val_accuracy: 0.7463\n",
            "Epoch 14/30\n",
            "439/439 [==============================] - 5s 12ms/step - loss: 0.1683 - accuracy: 0.9458 - val_loss: 1.0502 - val_accuracy: 0.6971\n",
            "Epoch 15/30\n",
            "439/439 [==============================] - 5s 12ms/step - loss: 0.1377 - accuracy: 0.9544 - val_loss: 0.9920 - val_accuracy: 0.7430\n",
            "Epoch 16/30\n",
            "439/439 [==============================] - 5s 12ms/step - loss: 0.1083 - accuracy: 0.9686 - val_loss: 1.4191 - val_accuracy: 0.7257\n",
            "Epoch 17/30\n",
            "439/439 [==============================] - 6s 13ms/step - loss: 0.0879 - accuracy: 0.9740 - val_loss: 1.1199 - val_accuracy: 0.7390\n",
            "Epoch 18/30\n",
            "439/439 [==============================] - 6s 13ms/step - loss: 0.0737 - accuracy: 0.9770 - val_loss: 1.1761 - val_accuracy: 0.7304\n",
            "Epoch 19/30\n",
            "439/439 [==============================] - 5s 12ms/step - loss: 0.0773 - accuracy: 0.9759 - val_loss: 1.1851 - val_accuracy: 0.7337\n",
            "Epoch 20/30\n",
            "439/439 [==============================] - 6s 13ms/step - loss: 0.0673 - accuracy: 0.9810 - val_loss: 1.1038 - val_accuracy: 0.7470\n",
            "Epoch 21/30\n",
            "439/439 [==============================] - 6s 13ms/step - loss: 0.0486 - accuracy: 0.9836 - val_loss: 1.1509 - val_accuracy: 0.7210\n",
            "Epoch 22/30\n",
            "439/439 [==============================] - 5s 12ms/step - loss: 0.0595 - accuracy: 0.9807 - val_loss: 1.5840 - val_accuracy: 0.7024\n",
            "Epoch 23/30\n",
            "439/439 [==============================] - 5s 12ms/step - loss: 0.0525 - accuracy: 0.9852 - val_loss: 1.3717 - val_accuracy: 0.7377\n",
            "Epoch 24/30\n",
            "439/439 [==============================] - 5s 12ms/step - loss: 0.0543 - accuracy: 0.9822 - val_loss: 1.3452 - val_accuracy: 0.7310\n",
            "Epoch 25/30\n",
            "439/439 [==============================] - 5s 12ms/step - loss: 0.0314 - accuracy: 0.9916 - val_loss: 1.2887 - val_accuracy: 0.7397\n",
            "Epoch 26/30\n",
            "439/439 [==============================] - 5s 12ms/step - loss: 0.0320 - accuracy: 0.9904 - val_loss: 1.3454 - val_accuracy: 0.7177\n",
            "Epoch 27/30\n",
            "439/439 [==============================] - 5s 12ms/step - loss: 0.2971 - accuracy: 0.9103 - val_loss: 1.1298 - val_accuracy: 0.7177\n",
            "Epoch 28/30\n",
            "439/439 [==============================] - 5s 12ms/step - loss: 0.0482 - accuracy: 0.9864 - val_loss: 1.3108 - val_accuracy: 0.7097\n",
            "Epoch 29/30\n",
            "439/439 [==============================] - 6s 13ms/step - loss: 0.0275 - accuracy: 0.9922 - val_loss: 1.2147 - val_accuracy: 0.7157\n",
            "Epoch 30/30\n",
            "439/439 [==============================] - 5s 12ms/step - loss: 0.0223 - accuracy: 0.9953 - val_loss: 1.2226 - val_accuracy: 0.7290\n"
          ]
        }
      ]
    },
    {
      "cell_type": "markdown",
      "source": [
        "#Evaluation"
      ],
      "metadata": {
        "id": "pqZ7IE1MtDQe"
      }
    },
    {
      "cell_type": "code",
      "source": [
        "test_loss, test_accuracy = model.evaluate(x_test, y_test)\n",
        "print('Accuracy: ', test_accuracy)\n",
        "print('Loss: ', test_loss)"
      ],
      "metadata": {
        "colab": {
          "base_uri": "https://localhost:8080/"
        },
        "id": "R4lUJ5vsunT4",
        "outputId": "451eff5b-f975-402d-bd61-362269ad251c"
      },
      "execution_count": 19,
      "outputs": [
        {
          "output_type": "stream",
          "name": "stdout",
          "text": [
            "47/47 [==============================] - 1s 13ms/step - loss: 1.2076 - accuracy: 0.7418\n",
            "Accuracy:  0.7418496608734131\n",
            "Loss:  1.2076317071914673\n"
          ]
        }
      ]
    },
    {
      "cell_type": "code",
      "source": [
        "fig = plt.figure()\n",
        "plt.plot(hist.history['loss'], color='teal', label='Loss')\n",
        "plt.plot(hist.history['val_loss'], color='orange', label='Val Loss')\n",
        "fig.suptitle('Loss')\n",
        "plt.legend(loc='upper left')\n",
        "plt.show()"
      ],
      "metadata": {
        "id": "yCWM7gCutA13",
        "outputId": "20326f25-fb9c-4c6a-da66-954059644092",
        "colab": {
          "base_uri": "https://localhost:8080/",
          "height": 478
        }
      },
      "execution_count": 18,
      "outputs": [
        {
          "output_type": "display_data",
          "data": {
            "text/plain": [
              "<Figure size 640x480 with 1 Axes>"
            ],
            "image/png": "[encoded data removed]"
          },
          "metadata": {}
        }
      ]
    },
    {
      "cell_type": "code",
      "source": [
        "fig = plt.figure()\n",
        "plt.plot(hist.history['accuracy'], color='teal', label='Accuracy')\n",
        "plt.plot(hist.history['val_accuracy'], color='orange', label='Val Accuracy')\n",
        "fig.suptitle('Accuracy')\n",
        "plt.legend(loc='upper left')\n",
        "plt.show()"
      ],
      "metadata": {
        "id": "sTKSygaV5xgN",
        "outputId": "41fa249e-69fc-45a3-aba7-4d0a52158e88",
        "colab": {
          "base_uri": "https://localhost:8080/",
          "height": 478
        }
      },
      "execution_count": 21,
      "outputs": [
        {
          "output_type": "display_data",
          "data": {
            "text/plain": [
              "<Figure size 640x480 with 1 Axes>"
            ],
            "image/png": "[encoded data removed]"
          },
          "metadata": {}
        }
      ]
    },
    {
      "cell_type": "markdown",
      "source": [
        "#Save Model"
      ],
      "metadata": {
        "id": "RFaqKLQG3xRy"
      }
    },
    {
      "cell_type": "code",
      "source": [
        "model.save('/content/drive/My Drive/ML-Models/')"
      ],
      "metadata": {
        "id": "ROkOhCYW3wlw"
      },
      "execution_count": 20,
      "outputs": []
    }
  ]
}