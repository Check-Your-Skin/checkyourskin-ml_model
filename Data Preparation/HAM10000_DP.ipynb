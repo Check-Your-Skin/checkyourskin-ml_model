{
  "nbformat": 4,
  "nbformat_minor": 0,
  "metadata": {
    "colab": {
      "provenance": [],
      "machine_shape": "hm",
      "gpuType": "V100",
      "authorship_tag": "ABX9TyMZovdAOdmSnxfDFAyF0BBF",
      "include_colab_link": true
    },
    "kernelspec": {
      "name": "python3",
      "display_name": "Python 3"
    },
    "language_info": {
      "name": "python"
    },
    "accelerator": "GPU"
  },
  "cells": [
    {
      "cell_type": "markdown",
      "metadata": {
        "id": "view-in-github",
        "colab_type": "text"
      },
      "source": [
        "<a href=\"https://colab.research.google.com/github/Check-Your-Skin/checkyourskin-ml_model/blob/train-cnn-ham10000/Data%20Preparation/HAM10000_DP.ipynb\" target=\"_parent\"><img src=\"https://colab.research.google.com/assets/colab-badge.svg\" alt=\"Open In Colab\"/></a>"
      ]
    },
    {
      "cell_type": "markdown",
      "source": [
        "#**Import**"
      ],
      "metadata": {
        "id": "7qloLdjeNAzu"
      }
    },
    {
      "cell_type": "code",
      "execution_count": 1,
      "metadata": {
        "id": "AgrahV0gKDDl"
      },
      "outputs": [],
      "source": [
        "import os\n",
        "import io\n",
        "import shutil\n",
        "import zipfile\n",
        "import random\n",
        "\n",
        "import pandas as pd\n",
        "from glob import glob\n",
        "from PIL import Image\n",
        "from google.colab.patches import cv2_imshow\n",
        "from concurrent.futures import ThreadPoolExecutor\n",
        "import cv2\n",
        "\n",
        "from keras.utils import to_categorical\n",
        "from sklearn.model_selection import train_test_split\n",
        "from sklearn.preprocessing import LabelEncoder\n",
        "from sklearn.metrics import ConfusionMatrixDisplay, classification_report\n",
        "from sklearn.utils import class_weight\n",
        "from keras.models import Sequential, load_model\n",
        "from keras.layers import Conv2D, MaxPooling2D, Dense, Flatten, Dropout\n",
        "from keras.layers import Dense, Conv2D, MaxPool2D , Flatten, BatchNormalization\n",
        "from keras import metrics\n",
        "from keras.metrics import Precision, Recall\n",
        "from keras.optimizers import Adam\n",
        "\n",
        "import matplotlib.pyplot as plt\n",
        "import matplotlib.image as pltimg\n",
        "import numpy as np"
      ]
    },
    {
      "cell_type": "code",
      "source": [
        "from google.colab import drive\n",
        "drive.mount('/content/drive')"
      ],
      "metadata": {
        "id": "_0CSFcFCNjYt",
        "outputId": "c116aca8-f148-4631-db5c-6c2b8e0a60b3",
        "colab": {
          "base_uri": "https://localhost:8080/"
        }
      },
      "execution_count": 2,
      "outputs": [
        {
          "output_type": "stream",
          "name": "stdout",
          "text": [
            "Mounted at /content/drive\n"
          ]
        }
      ]
    },
    {
      "cell_type": "code",
      "source": [
        "import zipfile\n",
        "with zipfile.ZipFile('/content/drive/My Drive/archive.zip', 'r') as zip_ref:\n",
        "    zip_ref.extractall('/content/HAM10000/')"
      ],
      "metadata": {
        "id": "wOAXLXN0OpdY"
      },
      "execution_count": 3,
      "outputs": []
    },
    {
      "cell_type": "code",
      "source": [
        "shutil.rmtree('/content/HAM10000/ham10000_images_part_1')\n",
        "shutil.rmtree('/content/HAM10000/ham10000_images_part_2')"
      ],
      "metadata": {
        "id": "GUcnFgeYefAj"
      },
      "execution_count": 4,
      "outputs": []
    },
    {
      "cell_type": "markdown",
      "source": [
        "#Data Preparation"
      ],
      "metadata": {
        "id": "sQmmb_N5pHpL"
      }
    },
    {
      "cell_type": "markdown",
      "source": [
        "###Check Image Size"
      ],
      "metadata": {
        "id": "lTA7SW7QR-F5"
      }
    },
    {
      "cell_type": "code",
      "source": [
        "width = 600\n",
        "height = 450\n",
        "wrong_size = 0\n",
        "data = glob('/content/HAM10000/*')\n",
        "for dir in data:\n",
        "  if os.path.isdir(dir):\n",
        "    images = glob(f'{dir}/*')\n",
        "    for image in images:\n",
        "      img = Image.open(image)\n",
        "      w, h = img.size\n",
        "      if (w != width or h != height):\n",
        "        wrong_size =+ 1\n",
        "        print(f'Path: {image}\\nHeight: {h}\\nWidth: {w}')\n",
        "print(wrong_size)"
      ],
      "metadata": {
        "id": "e1iirA03PX95",
        "outputId": "bb5f6c27-e9cb-49f3-cbfa-1698ae1820e3",
        "colab": {
          "base_uri": "https://localhost:8080/"
        }
      },
      "execution_count": null,
      "outputs": [
        {
          "output_type": "stream",
          "name": "stdout",
          "text": [
            "0\n"
          ]
        }
      ]
    },
    {
      "cell_type": "markdown",
      "source": [
        "###Resize Images\n",
        "\n",
        "\n",
        "\n"
      ],
      "metadata": {
        "id": "SUzHWGYvSKYa"
      }
    },
    {
      "cell_type": "code",
      "source": [
        "def resize_image(image):\n",
        "  img = Image.open(image)\n",
        "  width, height = img.size\n",
        "  global new_height\n",
        "  global new_width\n",
        "  new_height = 250\n",
        "  new_width  = int(new_height * width / height)\n",
        "  img = img.resize((new_width, new_height), Image.Resampling.LANCZOS)\n",
        "  img_name = os.path.basename(image)\n",
        "  img.save(resize_dest_dir + img_name)"
      ],
      "metadata": {
        "id": "wMGGdalTbXK1"
      },
      "execution_count": null,
      "outputs": []
    },
    {
      "cell_type": "code",
      "source": [
        "size = 128\n",
        "resize_dest_dir = '/content/HAM10000/HAM10000_images/'\n",
        "try:\n",
        "  os.mkdir(resize_dest_dir)\n",
        "except:\n",
        "  pass\n",
        "data = glob('/content/HAM10000/*')\n",
        "for dir in data:\n",
        "  if os.path.isdir(dir):\n",
        "    images = glob(f'{dir}/*')\n",
        "    with ThreadPoolExecutor() as executor:\n",
        "      executor.map(resize_image, images)"
      ],
      "metadata": {
        "id": "C9aJ-Q1BbdAo"
      },
      "execution_count": null,
      "outputs": []
    },
    {
      "cell_type": "code",
      "source": [
        "resize_dest_dir = '/content/HAM10000/HAM10000_images/'\n",
        "data = glob('/content/HAM10000/*')\n",
        "try:\n",
        "  os.mkdir(resize_dest_dir)\n",
        "except:\n",
        "  pass\n",
        "for dir in data:\n",
        "  if os.path.isdir(dir):\n",
        "    images = glob(f'{dir}/*')\n",
        "    for image in images:\n",
        "      shutil.copy(image, resize_dest_dir)"
      ],
      "metadata": {
        "id": "5Vi2TdyYjCd1"
      },
      "execution_count": 5,
      "outputs": []
    },
    {
      "cell_type": "code",
      "source": [
        "print(len(glob('/content/HAM10000/HAM10000_images/*')))"
      ],
      "metadata": {
        "id": "7CrGYlsr2ytc",
        "outputId": "46cd4bf2-e865-4400-c52e-7e6570d384a0",
        "colab": {
          "base_uri": "https://localhost:8080/"
        }
      },
      "execution_count": 6,
      "outputs": [
        {
          "output_type": "stream",
          "name": "stdout",
          "text": [
            "10015\n"
          ]
        }
      ]
    },
    {
      "cell_type": "code",
      "source": [
        "shutil.rmtree('/content/HAM10000/HAM10000_images_part_1')\n",
        "shutil.rmtree('/content/HAM10000/HAM10000_images_part_2')"
      ],
      "metadata": {
        "id": "d2P03mKonKvR"
      },
      "execution_count": 7,
      "outputs": []
    },
    {
      "cell_type": "code",
      "source": [
        "#Dictionary to match the Image_id with the Path of the Image\n",
        "imgPath = {}\n",
        "for x in glob(os.path.join('/content/HAM10000/HAM10000_images/*.jpg')):\n",
        "    imgPath[os.path.splitext(os.path.basename(x))[0]] = x"
      ],
      "metadata": {
        "id": "L3-uad_LL1My"
      },
      "execution_count": 8,
      "outputs": []
    },
    {
      "cell_type": "code",
      "source": [
        "#Add Resized Image data to DataFrame\n",
        "file_path = '/content/HAM10000/HAM10000_metadata.csv'\n",
        "df = pd.read_csv(file_path)\n",
        "\n",
        "\n",
        "size = (128,128)\n",
        "df['image'] = df['image_id'].map(imgPath.get).map(lambda x: np.asarray(Image.open(x).resize(size)))"
      ],
      "metadata": {
        "id": "qgEf4ge0WxWL"
      },
      "execution_count": 9,
      "outputs": []
    },
    {
      "cell_type": "code",
      "source": [
        "#Adding numerical lable for one-hot encoding\n",
        "numerical_label = LabelEncoder().fit(df['dx']).transform(df['dx'])\n",
        "df['label'] = numerical_label"
      ],
      "metadata": {
        "id": "nJuVIn9ihl-E"
      },
      "execution_count": 10,
      "outputs": []
    },
    {
      "cell_type": "code",
      "source": [
        "x = np.asarray(df['image'].to_list())\n",
        "x = x / 255\n",
        "y = df['label']\n",
        "y = to_categorical(y, num_classes=7)\n",
        "x_train, x_sum, y_train, y_sum = train_test_split(x, y, train_size=0.7, shuffle=True)\n",
        "x_valid, x_test, y_valid, y_test = train_test_split(x_sum, y_sum, test_size=0.5)"
      ],
      "metadata": {
        "id": "O1u4dqRI_isR"
      },
      "execution_count": 11,
      "outputs": []
    },
    {
      "cell_type": "code",
      "source": [
        "print('Train: ',len(x_train))\n",
        "print('Test: ',len(x_test))\n",
        "print('Validation: ',len(x_valid))"
      ],
      "metadata": {
        "id": "TxzDtlqlD4RG",
        "outputId": "533b2ae5-83e8-45d9-e54c-abf0811583eb",
        "colab": {
          "base_uri": "https://localhost:8080/"
        }
      },
      "execution_count": 12,
      "outputs": [
        {
          "output_type": "stream",
          "name": "stdout",
          "text": [
            "Train:  7010\n",
            "Test:  1503\n",
            "Validation:  1502\n"
          ]
        }
      ]
    },
    {
      "cell_type": "markdown",
      "source": [
        "##Claculating Class Weights"
      ],
      "metadata": {
        "id": "1V7tHjkYv-JP"
      }
    },
    {
      "cell_type": "code",
      "source": [
        "Y_train = np.argmax(y_train, axis=1)\n",
        "class_weights = class_weight.compute_class_weight('balanced',classes=np.unique(Y_train),y=Y_train)\n",
        "class_weights = dict(zip(np.unique(Y_train),class_weights))\n",
        "class_weights"
      ],
      "metadata": {
        "id": "yPxiWsmCwDPq",
        "outputId": "d451e6ed-6651-49dc-edb6-ec86e19db1fd",
        "colab": {
          "base_uri": "https://localhost:8080/"
        }
      },
      "execution_count": 21,
      "outputs": [
        {
          "output_type": "execute_result",
          "data": {
            "text/plain": [
              "{0: 4.510939510939511,\n",
              " 1: 2.8130016051364364,\n",
              " 2: 1.295509148031787,\n",
              " 3: 13.00556586270872,\n",
              " 4: 1.3039434523809523,\n",
              " 5: 0.2127078528947688,\n",
              " 6: 9.44743935309973}"
            ]
          },
          "metadata": {},
          "execution_count": 21
        }
      ]
    },
    {
      "cell_type": "markdown",
      "source": [
        "#Build Model"
      ],
      "metadata": {
        "id": "jZ7qIdTvjVsn"
      }
    },
    {
      "cell_type": "code",
      "source": [
        "model = Sequential()\n",
        "\n",
        "# Convolutional Block 1\n",
        "model.add(Conv2D(input_shape=(128,128,3), filters=32, kernel_size=(3,3), padding=\"same\", activation=\"relu\"))\n",
        "model.add(Conv2D(filters=32, kernel_size=(3,3), padding=\"same\", activation=\"relu\"))\n",
        "model.add(MaxPooling2D(pool_size=(2,2), strides=(2,2)))\n",
        "model.add(BatchNormalization())\n",
        "\n",
        "# Convolutional Block 2\n",
        "model.add(Conv2D(filters=64, kernel_size=(3,3), padding=\"same\", activation=\"relu\"))\n",
        "model.add(Conv2D(filters=64, kernel_size=(3,3), padding=\"same\", activation=\"relu\"))\n",
        "model.add(MaxPooling2D(pool_size=(2,2), strides=(2,2)))\n",
        "model.add(BatchNormalization())\n",
        "\n",
        "# Convolutional Block 3\n",
        "model.add(Conv2D(filters=128, kernel_size=(3,3), padding=\"same\", activation=\"relu\"))\n",
        "model.add(Conv2D(filters=128, kernel_size=(3,3), padding=\"same\", activation=\"relu\"))\n",
        "model.add(MaxPooling2D(pool_size=(2,2), strides=(2,2)))\n",
        "model.add(BatchNormalization())\n",
        "\n",
        "model.add(Flatten())\n",
        "model.add(Dense(units=512, activation=\"relu\"))\n",
        "model.add(Dense(units=256, activation=\"relu\"))\n",
        "model.add(Dense(units=32, activation=\"relu\"))\n",
        "model.add(BatchNormalization())\n",
        "\n",
        "model.add(Dense(units=7, activation='softmax', kernel_initializer='glorot_uniform', name='classifier'))"
      ],
      "metadata": {
        "id": "WX1djxIrjQ0E"
      },
      "execution_count": 14,
      "outputs": []
    },
    {
      "cell_type": "code",
      "source": [
        "model.summary()"
      ],
      "metadata": {
        "id": "pfNVjWbsjkyu",
        "outputId": "e381ee09-a519-4b26-d48e-95adeb0b70a5",
        "colab": {
          "base_uri": "https://localhost:8080/"
        }
      },
      "execution_count": 15,
      "outputs": [
        {
          "output_type": "stream",
          "name": "stdout",
          "text": [
            "Model: \"sequential\"\n",
            "_________________________________________________________________\n",
            " Layer (type)                Output Shape              Param #   \n",
            "=================================================================\n",
            " conv2d (Conv2D)             (None, 128, 128, 32)      896       \n",
            "                                                                 \n",
            " conv2d_1 (Conv2D)           (None, 128, 128, 32)      9248      \n",
            "                                                                 \n",
            " max_pooling2d (MaxPooling2  (None, 64, 64, 32)        0         \n",
            " D)                                                              \n",
            "                                                                 \n",
            " batch_normalization (Batch  (None, 64, 64, 32)        128       \n",
            " Normalization)                                                  \n",
            "                                                                 \n",
            " conv2d_2 (Conv2D)           (None, 64, 64, 64)        18496     \n",
            "                                                                 \n",
            " conv2d_3 (Conv2D)           (None, 64, 64, 64)        36928     \n",
            "                                                                 \n",
            " max_pooling2d_1 (MaxPoolin  (None, 32, 32, 64)        0         \n",
            " g2D)                                                            \n",
            "                                                                 \n",
            " batch_normalization_1 (Bat  (None, 32, 32, 64)        256       \n",
            " chNormalization)                                                \n",
            "                                                                 \n",
            " conv2d_4 (Conv2D)           (None, 32, 32, 128)       73856     \n",
            "                                                                 \n",
            " conv2d_5 (Conv2D)           (None, 32, 32, 128)       147584    \n",
            "                                                                 \n",
            " max_pooling2d_2 (MaxPoolin  (None, 16, 16, 128)       0         \n",
            " g2D)                                                            \n",
            "                                                                 \n",
            " batch_normalization_2 (Bat  (None, 16, 16, 128)       512       \n",
            " chNormalization)                                                \n",
            "                                                                 \n",
            " flatten (Flatten)           (None, 32768)             0         \n",
            "                                                                 \n",
            " dense (Dense)               (None, 512)               16777728  \n",
            "                                                                 \n",
            " dense_1 (Dense)             (None, 256)               131328    \n",
            "                                                                 \n",
            " dense_2 (Dense)             (None, 32)                8224      \n",
            "                                                                 \n",
            " batch_normalization_3 (Bat  (None, 32)                128       \n",
            " chNormalization)                                                \n",
            "                                                                 \n",
            " classifier (Dense)          (None, 7)                 231       \n",
            "                                                                 \n",
            "=================================================================\n",
            "Total params: 17205543 (65.63 MB)\n",
            "Trainable params: 17205031 (65.63 MB)\n",
            "Non-trainable params: 512 (2.00 KB)\n",
            "_________________________________________________________________\n"
          ]
        }
      ]
    },
    {
      "cell_type": "code",
      "source": [
        "learning_rate = 0.0005\n",
        "\n",
        "optimizer = Adam(learning_rate=learning_rate)\n",
        "\n",
        "optimizer_name = 'Adam'\n",
        "\n",
        "loss_name = 'categorical_crossentropy'\n",
        "\n",
        "model.compile(optimizer=optimizer,\n",
        "              loss=loss_name,\n",
        "              metrics = ['accuracy'])"
      ],
      "metadata": {
        "id": "C__IcaDckNj1"
      },
      "execution_count": 16,
      "outputs": []
    },
    {
      "cell_type": "code",
      "source": [
        "hist = model.fit(x_train, y_train, epochs=25, validation_data=(x_valid, y_valid), batch_size=16, class_weight=class_weights)"
      ],
      "metadata": {
        "id": "cvYBIVAzmVK2",
        "outputId": "e6b49439-3faf-402b-da1e-c565c698c047",
        "colab": {
          "base_uri": "https://localhost:8080/"
        }
      },
      "execution_count": 23,
      "outputs": [
        {
          "output_type": "stream",
          "name": "stdout",
          "text": [
            "Epoch 1/25\n",
            "439/439 [==============================] - 14s 15ms/step - loss: 1.7145 - accuracy: 0.3257 - val_loss: 2.1100 - val_accuracy: 0.1511\n",
            "Epoch 2/25\n",
            "439/439 [==============================] - 5s 12ms/step - loss: 1.5831 - accuracy: 0.4225 - val_loss: 3.1319 - val_accuracy: 0.1904\n",
            "Epoch 3/25\n",
            "439/439 [==============================] - 5s 12ms/step - loss: 1.7121 - accuracy: 0.4301 - val_loss: 1.5842 - val_accuracy: 0.4035\n",
            "Epoch 4/25\n",
            "439/439 [==============================] - 5s 12ms/step - loss: 1.4566 - accuracy: 0.4023 - val_loss: 1.6385 - val_accuracy: 0.2177\n",
            "Epoch 5/25\n",
            "439/439 [==============================] - 5s 12ms/step - loss: 1.3720 - accuracy: 0.4195 - val_loss: 1.4145 - val_accuracy: 0.4001\n",
            "Epoch 6/25\n",
            "439/439 [==============================] - 5s 12ms/step - loss: 1.3017 - accuracy: 0.4719 - val_loss: 1.2641 - val_accuracy: 0.5879\n",
            "Epoch 7/25\n",
            "439/439 [==============================] - 5s 12ms/step - loss: 1.1675 - accuracy: 0.5244 - val_loss: 1.2066 - val_accuracy: 0.5546\n",
            "Epoch 8/25\n",
            "439/439 [==============================] - 5s 12ms/step - loss: 1.1298 - accuracy: 0.5479 - val_loss: 1.3830 - val_accuracy: 0.4387\n",
            "Epoch 9/25\n",
            "439/439 [==============================] - 5s 12ms/step - loss: 1.0204 - accuracy: 0.5655 - val_loss: 1.2749 - val_accuracy: 0.5186\n",
            "Epoch 10/25\n",
            "439/439 [==============================] - 5s 12ms/step - loss: 0.9963 - accuracy: 0.5779 - val_loss: 1.5141 - val_accuracy: 0.4700\n",
            "Epoch 11/25\n",
            "439/439 [==============================] - 5s 12ms/step - loss: 0.8728 - accuracy: 0.6118 - val_loss: 1.5564 - val_accuracy: 0.4694\n",
            "Epoch 12/25\n",
            "439/439 [==============================] - 5s 12ms/step - loss: 0.7763 - accuracy: 0.6359 - val_loss: 1.3940 - val_accuracy: 0.4814\n",
            "Epoch 13/25\n",
            "439/439 [==============================] - 5s 12ms/step - loss: 0.6569 - accuracy: 0.6692 - val_loss: 1.3088 - val_accuracy: 0.5393\n",
            "Epoch 14/25\n",
            "439/439 [==============================] - 5s 12ms/step - loss: 0.5183 - accuracy: 0.6970 - val_loss: 1.1921 - val_accuracy: 0.5872\n",
            "Epoch 15/25\n",
            "439/439 [==============================] - 5s 12ms/step - loss: 0.4498 - accuracy: 0.7284 - val_loss: 1.2396 - val_accuracy: 0.6025\n",
            "Epoch 16/25\n",
            "439/439 [==============================] - 5s 12ms/step - loss: 0.5201 - accuracy: 0.7210 - val_loss: 1.9819 - val_accuracy: 0.3908\n",
            "Epoch 17/25\n",
            "439/439 [==============================] - 5s 12ms/step - loss: 0.3216 - accuracy: 0.7756 - val_loss: 1.4751 - val_accuracy: 0.5686\n",
            "Epoch 18/25\n",
            "439/439 [==============================] - 5s 12ms/step - loss: 0.3013 - accuracy: 0.8021 - val_loss: 1.4406 - val_accuracy: 0.6192\n",
            "Epoch 19/25\n",
            "439/439 [==============================] - 5s 12ms/step - loss: 0.2169 - accuracy: 0.8358 - val_loss: 1.2256 - val_accuracy: 0.6784\n",
            "Epoch 20/25\n",
            "439/439 [==============================] - 5s 12ms/step - loss: 0.1945 - accuracy: 0.8489 - val_loss: 1.3475 - val_accuracy: 0.6065\n",
            "Epoch 21/25\n",
            "439/439 [==============================] - 5s 12ms/step - loss: 0.1592 - accuracy: 0.8736 - val_loss: 1.1705 - val_accuracy: 0.6651\n",
            "Epoch 22/25\n",
            "439/439 [==============================] - 5s 12ms/step - loss: 0.1335 - accuracy: 0.8953 - val_loss: 1.4321 - val_accuracy: 0.6172\n",
            "Epoch 23/25\n",
            "439/439 [==============================] - 5s 12ms/step - loss: 0.1253 - accuracy: 0.9037 - val_loss: 1.2366 - val_accuracy: 0.6698\n",
            "Epoch 24/25\n",
            "439/439 [==============================] - 5s 12ms/step - loss: 0.0850 - accuracy: 0.9328 - val_loss: 1.3053 - val_accuracy: 0.6778\n",
            "Epoch 25/25\n",
            "439/439 [==============================] - 5s 12ms/step - loss: 0.1384 - accuracy: 0.9058 - val_loss: 1.2735 - val_accuracy: 0.6758\n"
          ]
        }
      ]
    },
    {
      "cell_type": "markdown",
      "source": [
        "#Evaluation"
      ],
      "metadata": {
        "id": "pqZ7IE1MtDQe"
      }
    },
    {
      "cell_type": "code",
      "source": [
        "test_loss, test_accuracy = model.evaluate(x_test, y_test)\n",
        "print('Accuracy: ', test_accuracy)\n",
        "print('Loss: ', test_loss)"
      ],
      "metadata": {
        "colab": {
          "base_uri": "https://localhost:8080/"
        },
        "id": "R4lUJ5vsunT4",
        "outputId": "87c48d12-7bed-4a12-e14e-3cb1a4ebf9be"
      },
      "execution_count": 24,
      "outputs": [
        {
          "output_type": "stream",
          "name": "stdout",
          "text": [
            "47/47 [==============================] - 1s 12ms/step - loss: 1.2457 - accuracy: 0.6773\n",
            "Accuracy:  0.6773120164871216\n",
            "Loss:  1.2456721067428589\n"
          ]
        }
      ]
    },
    {
      "cell_type": "code",
      "source": [
        "fig = plt.figure()\n",
        "plt.plot(hist.history['loss'], color='teal', label='Loss')\n",
        "plt.plot(hist.history['val_loss'], color='orange', label='Val Loss')\n",
        "fig.suptitle('Loss')\n",
        "plt.legend(loc='upper left')\n",
        "plt.show()"
      ],
      "metadata": {
        "id": "yCWM7gCutA13",
        "outputId": "d9d29ff8-e2a7-4df5-b81e-a84f5fd40d45",
        "colab": {
          "base_uri": "https://localhost:8080/",
          "height": 478
        }
      },
      "execution_count": 25,
      "outputs": [
        {
          "output_type": "display_data",
          "data": {
            "text/plain": [
              "<Figure size 640x480 with 1 Axes>"
            ],
            "image/png": "[encoded data removed]"
          },
          "metadata": {}
        }
      ]
    },
    {
      "cell_type": "code",
      "source": [
        "fig = plt.figure()\n",
        "plt.plot(hist.history['accuracy'], color='teal', label='Accuracy')\n",
        "plt.plot(hist.history['val_accuracy'], color='orange', label='Val Accuracy')\n",
        "fig.suptitle('Accuracy')\n",
        "plt.legend(loc='upper left')\n",
        "plt.show()"
      ],
      "metadata": {
        "id": "sTKSygaV5xgN",
        "outputId": "606007d6-921d-4c30-b7ad-3d2593540335",
        "colab": {
          "base_uri": "https://localhost:8080/",
          "height": 478
        }
      },
      "execution_count": 26,
      "outputs": [
        {
          "output_type": "display_data",
          "data": {
            "text/plain": [
              "<Figure size 640x480 with 1 Axes>"
            ],
            "image/png": "[encoded data removed]"
          },
          "metadata": {}
        }
      ]
    },
    {
      "cell_type": "code",
      "source": [
        "Y_pred = model.predict(x_test)\n",
        "Y_pred = np.argmax(Y_pred,axis=1)\n",
        "Y_test = np.argmax(y_test,axis=1)\n",
        "ConfusionMatrixDisplay.from_predictions(Y_test, Y_pred)\n",
        "plt.show()"
      ],
      "metadata": {
        "id": "mFqQIbzzgSXC",
        "outputId": "a1aa20ee-994d-4e02-9704-be58e6807aab",
        "colab": {
          "base_uri": "https://localhost:8080/",
          "height": 466
        }
      },
      "execution_count": 29,
      "outputs": [
        {
          "output_type": "stream",
          "name": "stdout",
          "text": [
            "47/47 [==============================] - 0s 6ms/step\n"
          ]
        },
        {
          "output_type": "display_data",
          "data": {
            "text/plain": [
              "<Figure size 640x480 with 2 Axes>"
            ],
            "image/png": "[encoded data removed]"
          },
          "metadata": {}
        }
      ]
    },
    {
      "cell_type": "code",
      "source": [
        "print(classification_report(Y_test, Y_pred))"
      ],
      "metadata": {
        "id": "V0Z0pvZ0mIcN",
        "outputId": "79e975e0-55d3-4fd7-eda8-9a05088ff881",
        "colab": {
          "base_uri": "https://localhost:8080/"
        }
      },
      "execution_count": 30,
      "outputs": [
        {
          "output_type": "stream",
          "name": "stdout",
          "text": [
            "              precision    recall  f1-score   support\n",
            "\n",
            "           0       0.33      0.35      0.34        51\n",
            "           1       0.49      0.55      0.52        84\n",
            "           2       0.31      0.40      0.35       157\n",
            "           3       0.32      0.39      0.35        18\n",
            "           4       0.36      0.31      0.33       173\n",
            "           5       0.86      0.82      0.84      1000\n",
            "           6       0.35      0.60      0.44        20\n",
            "\n",
            "    accuracy                           0.68      1503\n",
            "   macro avg       0.43      0.49      0.45      1503\n",
            "weighted avg       0.69      0.68      0.68      1503\n",
            "\n"
          ]
        }
      ]
    },
    {
      "cell_type": "code",
      "source": [
        "unique, counts = np.unique(Y_train, return_counts=True)\n",
        "label_count = dict(zip(unique, counts))\n",
        "for i in range(7):\n",
        "  print(i,'  ',label_count.get(i))\n",
        "\n",
        "for i in range(7):\n",
        "  print(i,'  ',label_count.get(i)*class_weights.get(i))"
      ],
      "metadata": {
        "id": "u8um3oklzSVS"
      },
      "execution_count": null,
      "outputs": []
    },
    {
      "cell_type": "markdown",
      "source": [
        "#Save / Load Model"
      ],
      "metadata": {
        "id": "RFaqKLQG3xRy"
      }
    },
    {
      "cell_type": "code",
      "source": [
        "model.save('/content/drive/My Drive/ML-Models/')"
      ],
      "metadata": {
        "id": "ROkOhCYW3wlw"
      },
      "execution_count": null,
      "outputs": []
    },
    {
      "cell_type": "code",
      "source": [
        "model = load_model('/content/drive/My Drive/ML-Models/')"
      ],
      "metadata": {
        "id": "cScZzao3be8w"
      },
      "execution_count": 8,
      "outputs": []
    }
  ]
}