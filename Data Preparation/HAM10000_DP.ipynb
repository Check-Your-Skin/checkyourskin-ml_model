{
  "nbformat": 4,
  "nbformat_minor": 0,
  "metadata": {
    "colab": {
      "provenance": [],
      "machine_shape": "hm",
      "gpuType": "V100",
      "authorship_tag": "ABX9TyOzEElowtjpbMzlhzWfqlCT",
      "include_colab_link": true
    },
    "kernelspec": {
      "name": "python3",
      "display_name": "Python 3"
    },
    "language_info": {
      "name": "python"
    },
    "accelerator": "GPU"
  },
  "cells": [
    {
      "cell_type": "markdown",
      "metadata": {
        "id": "view-in-github",
        "colab_type": "text"
      },
      "source": [
        "<a href=\"https://colab.research.google.com/github/Check-Your-Skin/checkyourskin-ml_model/blob/train-cnn-ham10000/Data%20Preparation/HAM10000_DP.ipynb\" target=\"_parent\"><img src=\"https://colab.research.google.com/assets/colab-badge.svg\" alt=\"Open In Colab\"/></a>"
      ]
    },
    {
      "cell_type": "markdown",
      "source": [
        "#**Import**"
      ],
      "metadata": {
        "id": "7qloLdjeNAzu"
      }
    },
    {
      "cell_type": "code",
      "execution_count": 1,
      "metadata": {
        "id": "AgrahV0gKDDl"
      },
      "outputs": [],
      "source": [
        "import os\n",
        "import io\n",
        "import shutil\n",
        "import zipfile\n",
        "import random\n",
        "\n",
        "import pandas as pd\n",
        "from glob import glob\n",
        "from PIL import Image\n",
        "from google.colab.patches import cv2_imshow\n",
        "from concurrent.futures import ThreadPoolExecutor\n",
        "import cv2\n",
        "\n",
        "from keras.utils import to_categorical\n",
        "from sklearn.model_selection import train_test_split\n",
        "from sklearn.preprocessing import LabelEncoder\n",
        "from sklearn.metrics import ConfusionMatrixDisplay, classification_report\n",
        "from sklearn.utils import class_weight\n",
        "from keras.models import Sequential, load_model\n",
        "from keras.layers import Conv2D, MaxPooling2D, Dense, Flatten, Dropout\n",
        "from keras.layers import Dense, Conv2D, MaxPool2D , Flatten, BatchNormalization\n",
        "from keras import metrics\n",
        "from keras.metrics import Precision, Recall\n",
        "from keras.optimizers import Adam\n",
        "\n",
        "import matplotlib.pyplot as plt\n",
        "import matplotlib.image as pltimg\n",
        "import numpy as np"
      ]
    },
    {
      "cell_type": "code",
      "source": [
        "from google.colab import drive\n",
        "drive.mount('/content/drive')"
      ],
      "metadata": {
        "id": "_0CSFcFCNjYt",
        "outputId": "c116aca8-f148-4631-db5c-6c2b8e0a60b3",
        "colab": {
          "base_uri": "https://localhost:8080/"
        }
      },
      "execution_count": 2,
      "outputs": [
        {
          "output_type": "stream",
          "name": "stdout",
          "text": [
            "Mounted at /content/drive\n"
          ]
        }
      ]
    },
    {
      "cell_type": "code",
      "source": [
        "import zipfile\n",
        "with zipfile.ZipFile('/content/drive/My Drive/archive.zip', 'r') as zip_ref:\n",
        "    zip_ref.extractall('/content/HAM10000/')"
      ],
      "metadata": {
        "id": "wOAXLXN0OpdY"
      },
      "execution_count": 3,
      "outputs": []
    },
    {
      "cell_type": "code",
      "source": [
        "shutil.rmtree('/content/HAM10000/ham10000_images_part_1')\n",
        "shutil.rmtree('/content/HAM10000/ham10000_images_part_2')"
      ],
      "metadata": {
        "id": "GUcnFgeYefAj"
      },
      "execution_count": 4,
      "outputs": []
    },
    {
      "cell_type": "markdown",
      "source": [
        "#Data Preparation"
      ],
      "metadata": {
        "id": "sQmmb_N5pHpL"
      }
    },
    {
      "cell_type": "markdown",
      "source": [
        "###Check Image Size"
      ],
      "metadata": {
        "id": "lTA7SW7QR-F5"
      }
    },
    {
      "cell_type": "code",
      "source": [
        "width = 600\n",
        "height = 450\n",
        "wrong_size = 0\n",
        "data = glob('/content/HAM10000/*')\n",
        "for dir in data:\n",
        "  if os.path.isdir(dir):\n",
        "    images = glob(f'{dir}/*')\n",
        "    for image in images:\n",
        "      img = Image.open(image)\n",
        "      w, h = img.size\n",
        "      if (w != width or h != height):\n",
        "        wrong_size =+ 1\n",
        "        print(f'Path: {image}\\nHeight: {h}\\nWidth: {w}')\n",
        "print(wrong_size)"
      ],
      "metadata": {
        "id": "e1iirA03PX95",
        "outputId": "bb5f6c27-e9cb-49f3-cbfa-1698ae1820e3",
        "colab": {
          "base_uri": "https://localhost:8080/"
        }
      },
      "execution_count": null,
      "outputs": [
        {
          "output_type": "stream",
          "name": "stdout",
          "text": [
            "0\n"
          ]
        }
      ]
    },
    {
      "cell_type": "markdown",
      "source": [
        "###Resize Images\n",
        "\n",
        "\n",
        "\n"
      ],
      "metadata": {
        "id": "SUzHWGYvSKYa"
      }
    },
    {
      "cell_type": "code",
      "source": [
        "def resize_image(image):\n",
        "  img = Image.open(image)\n",
        "  width, height = img.size\n",
        "  global new_height\n",
        "  global new_width\n",
        "  new_height = 250\n",
        "  new_width  = int(new_height * width / height)\n",
        "  img = img.resize((new_width, new_height), Image.Resampling.LANCZOS)\n",
        "  img_name = os.path.basename(image)\n",
        "  img.save(resize_dest_dir + img_name)"
      ],
      "metadata": {
        "id": "wMGGdalTbXK1"
      },
      "execution_count": null,
      "outputs": []
    },
    {
      "cell_type": "code",
      "source": [
        "size = 128\n",
        "resize_dest_dir = '/content/HAM10000/HAM10000_images/'\n",
        "try:\n",
        "  os.mkdir(resize_dest_dir)\n",
        "except:\n",
        "  pass\n",
        "data = glob('/content/HAM10000/*')\n",
        "for dir in data:\n",
        "  if os.path.isdir(dir):\n",
        "    images = glob(f'{dir}/*')\n",
        "    with ThreadPoolExecutor() as executor:\n",
        "      executor.map(resize_image, images)"
      ],
      "metadata": {
        "id": "C9aJ-Q1BbdAo"
      },
      "execution_count": null,
      "outputs": []
    },
    {
      "cell_type": "code",
      "source": [
        "resize_dest_dir = '/content/HAM10000/HAM10000_images/'\n",
        "data = glob('/content/HAM10000/*')\n",
        "try:\n",
        "  os.mkdir(resize_dest_dir)\n",
        "except:\n",
        "  pass\n",
        "for dir in data:\n",
        "  if os.path.isdir(dir):\n",
        "    images = glob(f'{dir}/*')\n",
        "    for image in images:\n",
        "      shutil.copy(image, resize_dest_dir)"
      ],
      "metadata": {
        "id": "5Vi2TdyYjCd1"
      },
      "execution_count": 5,
      "outputs": []
    },
    {
      "cell_type": "code",
      "source": [
        "print(len(glob('/content/HAM10000/HAM10000_images/*')))"
      ],
      "metadata": {
        "id": "7CrGYlsr2ytc",
        "outputId": "46cd4bf2-e865-4400-c52e-7e6570d384a0",
        "colab": {
          "base_uri": "https://localhost:8080/"
        }
      },
      "execution_count": 6,
      "outputs": [
        {
          "output_type": "stream",
          "name": "stdout",
          "text": [
            "10015\n"
          ]
        }
      ]
    },
    {
      "cell_type": "code",
      "source": [
        "shutil.rmtree('/content/HAM10000/HAM10000_images_part_1')\n",
        "shutil.rmtree('/content/HAM10000/HAM10000_images_part_2')"
      ],
      "metadata": {
        "id": "d2P03mKonKvR"
      },
      "execution_count": 7,
      "outputs": []
    },
    {
      "cell_type": "code",
      "source": [
        "#Dictionary to match the Image_id with the Path of the Image\n",
        "imgPath = {}\n",
        "for x in glob(os.path.join('/content/HAM10000/HAM10000_images/*.jpg')):\n",
        "    imgPath[os.path.splitext(os.path.basename(x))[0]] = x"
      ],
      "metadata": {
        "id": "L3-uad_LL1My"
      },
      "execution_count": 8,
      "outputs": []
    },
    {
      "cell_type": "code",
      "source": [
        "#Add Resized Image data to DataFrame\n",
        "file_path = '/content/HAM10000/HAM10000_metadata.csv'\n",
        "df = pd.read_csv(file_path)\n",
        "\n",
        "\n",
        "size = (128,128)\n",
        "df['image'] = df['image_id'].map(imgPath.get).map(lambda x: np.asarray(Image.open(x).resize(size)))"
      ],
      "metadata": {
        "id": "qgEf4ge0WxWL"
      },
      "execution_count": 9,
      "outputs": []
    },
    {
      "cell_type": "code",
      "source": [
        "#Adding numerical lable for one-hot encoding\n",
        "numerical_label = LabelEncoder().fit(df['dx']).transform(df['dx'])\n",
        "df['label'] = numerical_label"
      ],
      "metadata": {
        "id": "nJuVIn9ihl-E"
      },
      "execution_count": 10,
      "outputs": []
    },
    {
      "cell_type": "code",
      "source": [
        "x = np.asarray(df['image'].to_list())\n",
        "x = x / 255\n",
        "y = df['label']\n",
        "y = to_categorical(y, num_classes=7)\n",
        "x_train, x_sum, y_train, y_sum = train_test_split(x, y, train_size=0.7, shuffle=True)\n",
        "x_valid, x_test, y_valid, y_test = train_test_split(x_sum, y_sum, test_size=0.5)"
      ],
      "metadata": {
        "id": "O1u4dqRI_isR"
      },
      "execution_count": 11,
      "outputs": []
    },
    {
      "cell_type": "code",
      "source": [
        "print('Train: ',len(x_train))\n",
        "print('Test: ',len(x_test))\n",
        "print('Validation: ',len(x_valid))"
      ],
      "metadata": {
        "id": "TxzDtlqlD4RG",
        "outputId": "533b2ae5-83e8-45d9-e54c-abf0811583eb",
        "colab": {
          "base_uri": "https://localhost:8080/"
        }
      },
      "execution_count": 12,
      "outputs": [
        {
          "output_type": "stream",
          "name": "stdout",
          "text": [
            "Train:  7010\n",
            "Test:  1503\n",
            "Validation:  1502\n"
          ]
        }
      ]
    },
    {
      "cell_type": "markdown",
      "source": [
        "##Claculating Class Weights"
      ],
      "metadata": {
        "id": "1V7tHjkYv-JP"
      }
    },
    {
      "cell_type": "code",
      "source": [
        "Y_train = np.argmax(y_train, axis=1)\n",
        "class_weights = class_weight.compute_class_weight('balanced',classes=np.unique(Y_train),y=Y_train)\n",
        "class_weights = dict(zip(np.unique(Y_train),class_weights))\n",
        "class_weights"
      ],
      "metadata": {
        "colab": {
          "base_uri": "https://localhost:8080/"
        },
        "id": "yPxiWsmCwDPq",
        "outputId": "d451e6ed-6651-49dc-edb6-ec86e19db1fd"
      },
      "execution_count": 21,
      "outputs": [
        {
          "output_type": "execute_result",
          "data": {
            "text/plain": [
              "{0: 4.510939510939511,\n",
              " 1: 2.8130016051364364,\n",
              " 2: 1.295509148031787,\n",
              " 3: 13.00556586270872,\n",
              " 4: 1.3039434523809523,\n",
              " 5: 0.2127078528947688,\n",
              " 6: 9.44743935309973}"
            ]
          },
          "metadata": {},
          "execution_count": 21
        }
      ]
    },
    {
      "cell_type": "markdown",
      "source": [
        "#Build Model"
      ],
      "metadata": {
        "id": "jZ7qIdTvjVsn"
      }
    },
    {
      "cell_type": "code",
      "source": [
        "model = Sequential()\n",
        "\n",
        "# Convolutional Block 1\n",
        "model.add(Conv2D(input_shape=(128,128,3), filters=32, kernel_size=(3,3), padding=\"same\", activation=\"relu\"))\n",
        "model.add(Conv2D(filters=32, kernel_size=(3,3), padding=\"same\", activation=\"relu\"))\n",
        "model.add(MaxPooling2D(pool_size=(2,2), strides=(2,2)))\n",
        "model.add(BatchNormalization())\n",
        "\n",
        "# Convolutional Block 2\n",
        "model.add(Conv2D(filters=64, kernel_size=(3,3), padding=\"same\", activation=\"relu\"))\n",
        "model.add(Conv2D(filters=64, kernel_size=(3,3), padding=\"same\", activation=\"relu\"))\n",
        "model.add(MaxPooling2D(pool_size=(2,2), strides=(2,2)))\n",
        "model.add(BatchNormalization())\n",
        "\n",
        "# Convolutional Block 3\n",
        "model.add(Conv2D(filters=128, kernel_size=(3,3), padding=\"same\", activation=\"relu\"))\n",
        "model.add(Conv2D(filters=128, kernel_size=(3,3), padding=\"same\", activation=\"relu\"))\n",
        "model.add(MaxPooling2D(pool_size=(2,2), strides=(2,2)))\n",
        "model.add(BatchNormalization())\n",
        "\n",
        "model.add(Flatten())\n",
        "model.add(Dropout(rate=0.2))\n",
        "model.add(Dense(units=512, activation=\"relu\"))\n",
        "model.add(Dropout(rate=0.2))\n",
        "model.add(Dense(units=256, activation=\"relu\"))\n",
        "model.add(Dropout(rate=0.2))\n",
        "model.add(Dense(units=32, activation=\"relu\"))\n",
        "model.add(BatchNormalization())\n",
        "\n",
        "model.add(Dense(units=7, activation='softmax', kernel_initializer='glorot_uniform', name='classifier'))"
      ],
      "metadata": {
        "id": "WX1djxIrjQ0E"
      },
      "execution_count": 40,
      "outputs": []
    },
    {
      "cell_type": "code",
      "source": [
        "model.summary()"
      ],
      "metadata": {
        "id": "pfNVjWbsjkyu",
        "outputId": "beaaa3d9-f771-47bc-a933-723193a5f8a0",
        "colab": {
          "base_uri": "https://localhost:8080/"
        }
      },
      "execution_count": 41,
      "outputs": [
        {
          "output_type": "stream",
          "name": "stdout",
          "text": [
            "Model: \"sequential_1\"\n",
            "_________________________________________________________________\n",
            " Layer (type)                Output Shape              Param #   \n",
            "=================================================================\n",
            " conv2d_6 (Conv2D)           (None, 128, 128, 32)      896       \n",
            "                                                                 \n",
            " conv2d_7 (Conv2D)           (None, 128, 128, 32)      9248      \n",
            "                                                                 \n",
            " max_pooling2d_3 (MaxPoolin  (None, 64, 64, 32)        0         \n",
            " g2D)                                                            \n",
            "                                                                 \n",
            " batch_normalization_4 (Bat  (None, 64, 64, 32)        128       \n",
            " chNormalization)                                                \n",
            "                                                                 \n",
            " conv2d_8 (Conv2D)           (None, 64, 64, 64)        18496     \n",
            "                                                                 \n",
            " conv2d_9 (Conv2D)           (None, 64, 64, 64)        36928     \n",
            "                                                                 \n",
            " max_pooling2d_4 (MaxPoolin  (None, 32, 32, 64)        0         \n",
            " g2D)                                                            \n",
            "                                                                 \n",
            " batch_normalization_5 (Bat  (None, 32, 32, 64)        256       \n",
            " chNormalization)                                                \n",
            "                                                                 \n",
            " conv2d_10 (Conv2D)          (None, 32, 32, 128)       73856     \n",
            "                                                                 \n",
            " conv2d_11 (Conv2D)          (None, 32, 32, 128)       147584    \n",
            "                                                                 \n",
            " max_pooling2d_5 (MaxPoolin  (None, 16, 16, 128)       0         \n",
            " g2D)                                                            \n",
            "                                                                 \n",
            " batch_normalization_6 (Bat  (None, 16, 16, 128)       512       \n",
            " chNormalization)                                                \n",
            "                                                                 \n",
            " flatten_1 (Flatten)         (None, 32768)             0         \n",
            "                                                                 \n",
            " dropout (Dropout)           (None, 32768)             0         \n",
            "                                                                 \n",
            " dense_3 (Dense)             (None, 512)               16777728  \n",
            "                                                                 \n",
            " dropout_1 (Dropout)         (None, 512)               0         \n",
            "                                                                 \n",
            " dense_4 (Dense)             (None, 256)               131328    \n",
            "                                                                 \n",
            " dropout_2 (Dropout)         (None, 256)               0         \n",
            "                                                                 \n",
            " dense_5 (Dense)             (None, 32)                8224      \n",
            "                                                                 \n",
            " batch_normalization_7 (Bat  (None, 32)                128       \n",
            " chNormalization)                                                \n",
            "                                                                 \n",
            " classifier (Dense)          (None, 7)                 231       \n",
            "                                                                 \n",
            "=================================================================\n",
            "Total params: 17205543 (65.63 MB)\n",
            "Trainable params: 17205031 (65.63 MB)\n",
            "Non-trainable params: 512 (2.00 KB)\n",
            "_________________________________________________________________\n"
          ]
        }
      ]
    },
    {
      "cell_type": "code",
      "source": [
        "learning_rate = 0.0005\n",
        "\n",
        "optimizer = Adam(learning_rate=learning_rate)\n",
        "\n",
        "optimizer_name = 'Adam'\n",
        "\n",
        "loss_name = 'categorical_crossentropy'\n",
        "\n",
        "model.compile(optimizer=optimizer,\n",
        "              loss=loss_name,\n",
        "              metrics = ['accuracy'])"
      ],
      "metadata": {
        "id": "C__IcaDckNj1"
      },
      "execution_count": 42,
      "outputs": []
    },
    {
      "cell_type": "code",
      "source": [
        "hist = model.fit(x_train, y_train, epochs=30, validation_data=(x_valid, y_valid), batch_size=8, class_weight=class_weights)"
      ],
      "metadata": {
        "id": "cvYBIVAzmVK2",
        "outputId": "2ba25d89-d41e-4193-808d-140ae8a3cec2",
        "colab": {
          "base_uri": "https://localhost:8080/"
        }
      },
      "execution_count": 43,
      "outputs": [
        {
          "output_type": "stream",
          "name": "stdout",
          "text": [
            "Epoch 1/30\n",
            "877/877 [==============================] - 13s 10ms/step - loss: 2.0425 - accuracy: 0.2476 - val_loss: 1.5778 - val_accuracy: 0.3881\n",
            "Epoch 2/30\n",
            "877/877 [==============================] - 8s 9ms/step - loss: 1.8217 - accuracy: 0.2853 - val_loss: 1.6118 - val_accuracy: 0.2490\n",
            "Epoch 3/30\n",
            "877/877 [==============================] - 8s 9ms/step - loss: 1.7553 - accuracy: 0.3401 - val_loss: 1.6563 - val_accuracy: 0.3096\n",
            "Epoch 4/30\n",
            "877/877 [==============================] - 8s 9ms/step - loss: 1.7988 - accuracy: 0.3241 - val_loss: 1.8130 - val_accuracy: 0.2763\n",
            "Epoch 5/30\n",
            "877/877 [==============================] - 8s 9ms/step - loss: 1.7354 - accuracy: 0.3785 - val_loss: 1.4759 - val_accuracy: 0.4680\n",
            "Epoch 6/30\n",
            "877/877 [==============================] - 8s 9ms/step - loss: 1.7145 - accuracy: 0.3773 - val_loss: 1.3954 - val_accuracy: 0.4188\n",
            "Epoch 7/30\n",
            "877/877 [==============================] - 8s 9ms/step - loss: 1.6048 - accuracy: 0.3752 - val_loss: 1.5220 - val_accuracy: 0.4441\n",
            "Epoch 8/30\n",
            "877/877 [==============================] - 8s 9ms/step - loss: 1.5318 - accuracy: 0.3980 - val_loss: 4.2288 - val_accuracy: 0.0832\n",
            "Epoch 9/30\n",
            "877/877 [==============================] - 8s 9ms/step - loss: 1.4775 - accuracy: 0.4050 - val_loss: 1.7334 - val_accuracy: 0.2317\n",
            "Epoch 10/30\n",
            "877/877 [==============================] - 8s 9ms/step - loss: 1.4934 - accuracy: 0.4184 - val_loss: 1.4970 - val_accuracy: 0.4714\n",
            "Epoch 11/30\n",
            "877/877 [==============================] - 8s 9ms/step - loss: 1.4022 - accuracy: 0.4602 - val_loss: 1.2806 - val_accuracy: 0.5100\n",
            "Epoch 12/30\n",
            "877/877 [==============================] - 8s 9ms/step - loss: 1.3706 - accuracy: 0.4665 - val_loss: 1.4610 - val_accuracy: 0.4441\n",
            "Epoch 13/30\n",
            "877/877 [==============================] - 8s 9ms/step - loss: 1.2957 - accuracy: 0.4892 - val_loss: 1.7675 - val_accuracy: 0.2124\n",
            "Epoch 14/30\n",
            "877/877 [==============================] - 8s 9ms/step - loss: 1.2797 - accuracy: 0.5007 - val_loss: 1.1202 - val_accuracy: 0.5726\n",
            "Epoch 15/30\n",
            "877/877 [==============================] - 8s 9ms/step - loss: 1.2376 - accuracy: 0.5037 - val_loss: 1.3508 - val_accuracy: 0.5126\n",
            "Epoch 16/30\n",
            "877/877 [==============================] - 8s 9ms/step - loss: 1.2235 - accuracy: 0.5205 - val_loss: 1.2517 - val_accuracy: 0.5260\n",
            "Epoch 17/30\n",
            "877/877 [==============================] - 8s 9ms/step - loss: 1.1653 - accuracy: 0.5194 - val_loss: 1.5951 - val_accuracy: 0.4141\n",
            "Epoch 18/30\n",
            "877/877 [==============================] - 8s 9ms/step - loss: 1.1556 - accuracy: 0.5240 - val_loss: 1.0396 - val_accuracy: 0.6312\n",
            "Epoch 19/30\n",
            "877/877 [==============================] - 8s 9ms/step - loss: 1.0526 - accuracy: 0.5539 - val_loss: 1.2774 - val_accuracy: 0.5233\n",
            "Epoch 20/30\n",
            "877/877 [==============================] - 8s 9ms/step - loss: 1.0357 - accuracy: 0.5575 - val_loss: 1.0330 - val_accuracy: 0.6332\n",
            "Epoch 21/30\n",
            "877/877 [==============================] - 8s 9ms/step - loss: 1.0547 - accuracy: 0.5462 - val_loss: 1.0927 - val_accuracy: 0.5759\n",
            "Epoch 22/30\n",
            "877/877 [==============================] - 8s 9ms/step - loss: 0.9769 - accuracy: 0.5680 - val_loss: 1.3270 - val_accuracy: 0.4887\n",
            "Epoch 23/30\n",
            "877/877 [==============================] - 8s 9ms/step - loss: 0.9304 - accuracy: 0.5869 - val_loss: 0.9022 - val_accuracy: 0.6678\n",
            "Epoch 24/30\n",
            "877/877 [==============================] - 8s 9ms/step - loss: 0.8891 - accuracy: 0.5939 - val_loss: 1.2721 - val_accuracy: 0.5286\n",
            "Epoch 25/30\n",
            "877/877 [==============================] - 8s 9ms/step - loss: 0.8778 - accuracy: 0.6009 - val_loss: 1.0012 - val_accuracy: 0.6478\n",
            "Epoch 26/30\n",
            "877/877 [==============================] - 8s 9ms/step - loss: 0.8438 - accuracy: 0.6067 - val_loss: 1.2251 - val_accuracy: 0.5200\n",
            "Epoch 27/30\n",
            "877/877 [==============================] - 8s 9ms/step - loss: 0.7514 - accuracy: 0.6341 - val_loss: 1.0574 - val_accuracy: 0.6178\n",
            "Epoch 28/30\n",
            "877/877 [==============================] - 8s 9ms/step - loss: 0.7733 - accuracy: 0.6171 - val_loss: 1.1313 - val_accuracy: 0.6039\n",
            "Epoch 29/30\n",
            "877/877 [==============================] - 8s 9ms/step - loss: 0.7036 - accuracy: 0.6350 - val_loss: 1.1890 - val_accuracy: 0.5932\n",
            "Epoch 30/30\n",
            "877/877 [==============================] - 8s 9ms/step - loss: 0.6785 - accuracy: 0.6347 - val_loss: 1.0304 - val_accuracy: 0.6238\n"
          ]
        }
      ]
    },
    {
      "cell_type": "markdown",
      "source": [
        "#Evaluation"
      ],
      "metadata": {
        "id": "pqZ7IE1MtDQe"
      }
    },
    {
      "cell_type": "code",
      "source": [
        "test_loss, test_accuracy = model.evaluate(x_test, y_test)\n",
        "print('Accuracy: ', test_accuracy)\n",
        "print('Loss: ', test_loss)"
      ],
      "metadata": {
        "colab": {
          "base_uri": "https://localhost:8080/"
        },
        "id": "R4lUJ5vsunT4",
        "outputId": "dfddaf8e-dcb0-4911-a2da-f0ed810601ed"
      },
      "execution_count": 44,
      "outputs": [
        {
          "output_type": "stream",
          "name": "stdout",
          "text": [
            "47/47 [==============================] - 0s 7ms/step - loss: 0.9987 - accuracy: 0.6354\n",
            "Accuracy:  0.635395884513855\n",
            "Loss:  0.9986700415611267\n"
          ]
        }
      ]
    },
    {
      "cell_type": "code",
      "source": [
        "fig = plt.figure()\n",
        "plt.plot(hist.history['loss'], color='teal', label='Loss')\n",
        "plt.plot(hist.history['val_loss'], color='orange', label='Val Loss')\n",
        "fig.suptitle('Loss')\n",
        "plt.legend(loc='upper left')\n",
        "plt.show()"
      ],
      "metadata": {
        "id": "yCWM7gCutA13",
        "outputId": "6b1ee206-c5c1-4002-fc2e-91590b872819",
        "colab": {
          "base_uri": "https://localhost:8080/",
          "height": 478
        }
      },
      "execution_count": 45,
      "outputs": [
        {
          "output_type": "display_data",
          "data": {
            "text/plain": [
              "<Figure size 640x480 with 1 Axes>"
            ],
            "image/png": "[encoded data removed]"
          },
          "metadata": {}
        }
      ]
    },
    {
      "cell_type": "code",
      "source": [
        "fig = plt.figure()\n",
        "plt.plot(hist.history['accuracy'], color='teal', label='Accuracy')\n",
        "plt.plot(hist.history['val_accuracy'], color='orange', label='Val Accuracy')\n",
        "fig.suptitle('Accuracy')\n",
        "plt.legend(loc='upper left')\n",
        "plt.show()"
      ],
      "metadata": {
        "id": "sTKSygaV5xgN",
        "outputId": "83b15f79-d3c9-40bf-8215-5e7505e10388",
        "colab": {
          "base_uri": "https://localhost:8080/",
          "height": 478
        }
      },
      "execution_count": 46,
      "outputs": [
        {
          "output_type": "display_data",
          "data": {
            "text/plain": [
              "<Figure size 640x480 with 1 Axes>"
            ],
            "image/png": "[encoded data removed]"
          },
          "metadata": {}
        }
      ]
    },
    {
      "cell_type": "code",
      "source": [
        "Y_pred = model.predict(x_test)\n",
        "Y_pred = np.argmax(Y_pred,axis=1)\n",
        "Y_test = np.argmax(y_test,axis=1)\n",
        "ConfusionMatrixDisplay.from_predictions(Y_test, Y_pred)\n",
        "plt.show()"
      ],
      "metadata": {
        "colab": {
          "base_uri": "https://localhost:8080/",
          "height": 470
        },
        "id": "mFqQIbzzgSXC",
        "outputId": "072f9b6b-ed31-4187-9856-5f7513b25fb8"
      },
      "execution_count": 47,
      "outputs": [
        {
          "output_type": "stream",
          "name": "stdout",
          "text": [
            "47/47 [==============================] - 1s 5ms/step\n"
          ]
        },
        {
          "output_type": "display_data",
          "data": {
            "text/plain": [
              "<Figure size 640x480 with 2 Axes>"
            ],
            "image/png": "[encoded data removed]"
          },
          "metadata": {}
        }
      ]
    },
    {
      "cell_type": "code",
      "source": [
        "print(classification_report(Y_test, Y_pred))"
      ],
      "metadata": {
        "colab": {
          "base_uri": "https://localhost:8080/"
        },
        "id": "V0Z0pvZ0mIcN",
        "outputId": "5b619ab7-05c6-4e41-fe86-f135f0ad3f32"
      },
      "execution_count": 48,
      "outputs": [
        {
          "output_type": "stream",
          "name": "stdout",
          "text": [
            "              precision    recall  f1-score   support\n",
            "\n",
            "           0       0.27      0.49      0.35        51\n",
            "           1       0.37      0.57      0.45        84\n",
            "           2       0.43      0.38      0.40       157\n",
            "           3       0.12      0.28      0.17        18\n",
            "           4       0.33      0.58      0.42       173\n",
            "           5       0.91      0.70      0.79      1000\n",
            "           6       0.60      0.60      0.60        20\n",
            "\n",
            "    accuracy                           0.64      1503\n",
            "   macro avg       0.43      0.52      0.46      1503\n",
            "weighted avg       0.73      0.64      0.67      1503\n",
            "\n"
          ]
        }
      ]
    },
    {
      "cell_type": "code",
      "source": [
        "unique, counts = np.unique(Y_train, return_counts=True)\n",
        "label_count = dict(zip(unique, counts))\n",
        "for i in range(7):\n",
        "  print(i,'  ',label_count.get(i))\n",
        "\n",
        "for i in range(7):\n",
        "  print(i,'  ',label_count.get(i)*class_weights.get(i))"
      ],
      "metadata": {
        "id": "u8um3oklzSVS"
      },
      "execution_count": null,
      "outputs": []
    },
    {
      "cell_type": "markdown",
      "source": [
        "#Save / Load Model"
      ],
      "metadata": {
        "id": "RFaqKLQG3xRy"
      }
    },
    {
      "cell_type": "code",
      "source": [
        "model.save('/content/drive/My Drive/ML-Models/')"
      ],
      "metadata": {
        "id": "ROkOhCYW3wlw"
      },
      "execution_count": null,
      "outputs": []
    },
    {
      "cell_type": "code",
      "source": [
        "model = load_model('/content/drive/My Drive/ML-Models/')"
      ],
      "metadata": {
        "id": "cScZzao3be8w"
      },
      "execution_count": 8,
      "outputs": []
    }
  ]
}