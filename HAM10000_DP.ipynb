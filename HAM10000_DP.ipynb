{
  "nbformat": 4,
  "nbformat_minor": 0,
  "metadata": {
    "colab": {
      "provenance": [],
      "machine_shape": "hm",
      "gpuType": "V100",
      "include_colab_link": true
    },
    "kernelspec": {
      "name": "python3",
      "display_name": "Python 3"
    },
    "language_info": {
      "name": "python"
    },
    "accelerator": "GPU"
  },
  "cells": [
    {
      "cell_type": "markdown",
      "metadata": {
        "id": "view-in-github",
        "colab_type": "text"
      },
      "source": [
        "<a href=\"https://colab.research.google.com/github/Check-Your-Skin/checkyourskin-ml_model/blob/train-cnn-ham10000/HAM10000_DP.ipynb\" target=\"_parent\"><img src=\"https://colab.research.google.com/assets/colab-badge.svg\" alt=\"Open In Colab\"/></a>"
      ]
    },
    {
      "cell_type": "markdown",
      "source": [
        "#**Import**"
      ],
      "metadata": {
        "id": "7qloLdjeNAzu"
      }
    },
    {
      "cell_type": "code",
      "execution_count": null,
      "metadata": {
        "id": "AgrahV0gKDDl",
        "colab": {
          "base_uri": "https://localhost:8080/"
        },
        "outputId": "6ba67343-25f0-45d5-84a2-69c8cd8cb399"
      },
      "outputs": [
        {
          "output_type": "stream",
          "name": "stderr",
          "text": [
            "<ipython-input-6-2a78475e07a8>:29: DeprecationWarning: `import kerastuner` is deprecated, please use `import keras_tuner`.\n",
            "  import kerastuner as kt\n"
          ]
        }
      ],
      "source": [
        "import os\n",
        "import io\n",
        "import shutil\n",
        "import zipfile\n",
        "import random\n",
        "\n",
        "import pandas as pd\n",
        "from glob import glob\n",
        "from PIL import Image\n",
        "from google.colab.patches import cv2_imshow\n",
        "from concurrent.futures import ThreadPoolExecutor\n",
        "import cv2\n",
        "\n",
        "from keras.utils import to_categorical\n",
        "from sklearn.model_selection import train_test_split\n",
        "from sklearn.preprocessing import LabelEncoder\n",
        "from sklearn.metrics import ConfusionMatrixDisplay, classification_report\n",
        "from sklearn.utils import class_weight, resample\n",
        "from keras.models import Sequential, load_model\n",
        "from keras.layers import Conv2D, MaxPooling2D, Dense, Flatten, Dropout\n",
        "from keras.layers import Dense, Conv2D, MaxPool2D , Flatten, BatchNormalization\n",
        "from keras import metrics\n",
        "from keras.metrics import Precision, Recall\n",
        "from keras.optimizers import Adam\n",
        "\n",
        "import matplotlib.pyplot as plt\n",
        "import matplotlib.image as pltimg\n",
        "import numpy as np\n",
        "import kerastuner as kt\n",
        "from kerastuner.tuners import RandomSearch"
      ]
    },
    {
      "cell_type": "code",
      "source": [
        "from google.colab import drive\n",
        "drive.mount('/content/drive')"
      ],
      "metadata": {
        "id": "_0CSFcFCNjYt",
        "outputId": "9cb588d0-bdea-4bdb-87ce-cb71156f7ba0",
        "colab": {
          "base_uri": "https://localhost:8080/"
        }
      },
      "execution_count": null,
      "outputs": [
        {
          "output_type": "stream",
          "name": "stdout",
          "text": [
            "Mounted at /content/drive\n"
          ]
        }
      ]
    },
    {
      "cell_type": "code",
      "source": [
        "import zipfile\n",
        "with zipfile.ZipFile('/content/drive/My Drive/archive.zip', 'r') as zip_ref:\n",
        "    zip_ref.extractall('/content/HAM10000/')"
      ],
      "metadata": {
        "id": "wOAXLXN0OpdY"
      },
      "execution_count": null,
      "outputs": []
    },
    {
      "cell_type": "code",
      "source": [
        "shutil.rmtree('/content/HAM10000/ham10000_images_part_1')\n",
        "shutil.rmtree('/content/HAM10000/ham10000_images_part_2')"
      ],
      "metadata": {
        "id": "GUcnFgeYefAj"
      },
      "execution_count": null,
      "outputs": []
    },
    {
      "cell_type": "markdown",
      "source": [
        "#Data Preparation"
      ],
      "metadata": {
        "id": "sQmmb_N5pHpL"
      }
    },
    {
      "cell_type": "markdown",
      "source": [
        "###Check Image Size"
      ],
      "metadata": {
        "id": "lTA7SW7QR-F5"
      }
    },
    {
      "cell_type": "code",
      "source": [
        "width = 600\n",
        "height = 450\n",
        "wrong_size = 0\n",
        "data = glob('/content/HAM10000/*')\n",
        "for dir in data:\n",
        "  if os.path.isdir(dir):\n",
        "    images = glob(f'{dir}/*')\n",
        "    for image in images:\n",
        "      img = Image.open(image)\n",
        "      w, h = img.size\n",
        "      if (w != width or h != height):\n",
        "        wrong_size =+ 1\n",
        "        print(f'Path: {image}\\nHeight: {h}\\nWidth: {w}')\n",
        "print(wrong_size)"
      ],
      "metadata": {
        "id": "e1iirA03PX95",
        "outputId": "fc84e1b7-cdcb-4f23-d6c2-71bfe0dcbb1d",
        "colab": {
          "base_uri": "https://localhost:8080/"
        }
      },
      "execution_count": null,
      "outputs": [
        {
          "output_type": "stream",
          "name": "stdout",
          "text": [
            "0\n"
          ]
        }
      ]
    },
    {
      "cell_type": "markdown",
      "source": [
        "###Resize Images\n",
        "\n",
        "\n",
        "\n"
      ],
      "metadata": {
        "id": "SUzHWGYvSKYa"
      }
    },
    {
      "cell_type": "code",
      "source": [
        "def resize_image(image):\n",
        "  img = Image.open(image)\n",
        "  width, height = img.size\n",
        "  global new_height\n",
        "  global new_width\n",
        "  new_height = 250\n",
        "  new_width  = int(new_height * width / height)\n",
        "  img = img.resize((new_width, new_height), Image.Resampling.LANCZOS)\n",
        "  img_name = os.path.basename(image)\n",
        "  img.save(resize_dest_dir + img_name)"
      ],
      "metadata": {
        "id": "wMGGdalTbXK1"
      },
      "execution_count": null,
      "outputs": []
    },
    {
      "cell_type": "code",
      "source": [
        "size = 128\n",
        "resize_dest_dir = '/content/HAM10000/HAM10000_images/'\n",
        "try:\n",
        "  os.mkdir(resize_dest_dir)\n",
        "except:\n",
        "  pass\n",
        "data = glob('/content/HAM10000/*')\n",
        "for dir in data:\n",
        "  if os.path.isdir(dir):\n",
        "    images = glob(f'{dir}/*')\n",
        "    with ThreadPoolExecutor() as executor:\n",
        "      executor.map(resize_image, images)"
      ],
      "metadata": {
        "id": "C9aJ-Q1BbdAo"
      },
      "execution_count": null,
      "outputs": []
    },
    {
      "cell_type": "code",
      "source": [
        "resize_dest_dir = '/content/HAM10000/HAM10000_images/'\n",
        "data = glob('/content/HAM10000/*')\n",
        "try:\n",
        "  os.mkdir(resize_dest_dir)\n",
        "except:\n",
        "  pass\n",
        "for dir in data:\n",
        "  if os.path.isdir(dir):\n",
        "    images = glob(f'{dir}/*')\n",
        "    for image in images:\n",
        "      shutil.copy(image, resize_dest_dir)"
      ],
      "metadata": {
        "id": "5Vi2TdyYjCd1",
        "colab": {
          "base_uri": "https://localhost:8080/",
          "height": 347
        },
        "outputId": "95d10122-76c4-4d1b-fb90-d9cd5ddffa41"
      },
      "execution_count": null,
      "outputs": [
        {
          "output_type": "error",
          "ename": "SameFileError",
          "evalue": "'/content/HAM10000/HAM10000_images/ISIC_0028026.jpg' and '/content/HAM10000/HAM10000_images/ISIC_0028026.jpg' are the same file",
          "traceback": [
            "\u001b[0;31m---------------------------------------------------------------------------\u001b[0m",
            "\u001b[0;31mSameFileError\u001b[0m                             Traceback (most recent call last)",
            "\u001b[0;32m<ipython-input-16-9a2f184ca22c>\u001b[0m in \u001b[0;36m<cell line: 7>\u001b[0;34m()\u001b[0m\n\u001b[1;32m      9\u001b[0m     \u001b[0mimages\u001b[0m \u001b[0;34m=\u001b[0m \u001b[0mglob\u001b[0m\u001b[0;34m(\u001b[0m\u001b[0;34mf'{dir}/*'\u001b[0m\u001b[0;34m)\u001b[0m\u001b[0;34m\u001b[0m\u001b[0;34m\u001b[0m\u001b[0m\n\u001b[1;32m     10\u001b[0m     \u001b[0;32mfor\u001b[0m \u001b[0mimage\u001b[0m \u001b[0;32min\u001b[0m \u001b[0mimages\u001b[0m\u001b[0;34m:\u001b[0m\u001b[0;34m\u001b[0m\u001b[0;34m\u001b[0m\u001b[0m\n\u001b[0;32m---> 11\u001b[0;31m       \u001b[0mshutil\u001b[0m\u001b[0;34m.\u001b[0m\u001b[0mcopy\u001b[0m\u001b[0;34m(\u001b[0m\u001b[0mimage\u001b[0m\u001b[0;34m,\u001b[0m \u001b[0mresize_dest_dir\u001b[0m\u001b[0;34m)\u001b[0m\u001b[0;34m\u001b[0m\u001b[0;34m\u001b[0m\u001b[0m\n\u001b[0m",
            "\u001b[0;32m/usr/lib/python3.10/shutil.py\u001b[0m in \u001b[0;36mcopy\u001b[0;34m(src, dst, follow_symlinks)\u001b[0m\n\u001b[1;32m    415\u001b[0m     \u001b[0;32mif\u001b[0m \u001b[0mos\u001b[0m\u001b[0;34m.\u001b[0m\u001b[0mpath\u001b[0m\u001b[0;34m.\u001b[0m\u001b[0misdir\u001b[0m\u001b[0;34m(\u001b[0m\u001b[0mdst\u001b[0m\u001b[0;34m)\u001b[0m\u001b[0;34m:\u001b[0m\u001b[0;34m\u001b[0m\u001b[0;34m\u001b[0m\u001b[0m\n\u001b[1;32m    416\u001b[0m         \u001b[0mdst\u001b[0m \u001b[0;34m=\u001b[0m \u001b[0mos\u001b[0m\u001b[0;34m.\u001b[0m\u001b[0mpath\u001b[0m\u001b[0;34m.\u001b[0m\u001b[0mjoin\u001b[0m\u001b[0;34m(\u001b[0m\u001b[0mdst\u001b[0m\u001b[0;34m,\u001b[0m \u001b[0mos\u001b[0m\u001b[0;34m.\u001b[0m\u001b[0mpath\u001b[0m\u001b[0;34m.\u001b[0m\u001b[0mbasename\u001b[0m\u001b[0;34m(\u001b[0m\u001b[0msrc\u001b[0m\u001b[0;34m)\u001b[0m\u001b[0;34m)\u001b[0m\u001b[0;34m\u001b[0m\u001b[0;34m\u001b[0m\u001b[0m\n\u001b[0;32m--> 417\u001b[0;31m     \u001b[0mcopyfile\u001b[0m\u001b[0;34m(\u001b[0m\u001b[0msrc\u001b[0m\u001b[0;34m,\u001b[0m \u001b[0mdst\u001b[0m\u001b[0;34m,\u001b[0m \u001b[0mfollow_symlinks\u001b[0m\u001b[0;34m=\u001b[0m\u001b[0mfollow_symlinks\u001b[0m\u001b[0;34m)\u001b[0m\u001b[0;34m\u001b[0m\u001b[0;34m\u001b[0m\u001b[0m\n\u001b[0m\u001b[1;32m    418\u001b[0m     \u001b[0mcopymode\u001b[0m\u001b[0;34m(\u001b[0m\u001b[0msrc\u001b[0m\u001b[0;34m,\u001b[0m \u001b[0mdst\u001b[0m\u001b[0;34m,\u001b[0m \u001b[0mfollow_symlinks\u001b[0m\u001b[0;34m=\u001b[0m\u001b[0mfollow_symlinks\u001b[0m\u001b[0;34m)\u001b[0m\u001b[0;34m\u001b[0m\u001b[0;34m\u001b[0m\u001b[0m\n\u001b[1;32m    419\u001b[0m     \u001b[0;32mreturn\u001b[0m \u001b[0mdst\u001b[0m\u001b[0;34m\u001b[0m\u001b[0;34m\u001b[0m\u001b[0m\n",
            "\u001b[0;32m/usr/lib/python3.10/shutil.py\u001b[0m in \u001b[0;36mcopyfile\u001b[0;34m(src, dst, follow_symlinks)\u001b[0m\n\u001b[1;32m    232\u001b[0m \u001b[0;34m\u001b[0m\u001b[0m\n\u001b[1;32m    233\u001b[0m     \u001b[0;32mif\u001b[0m \u001b[0m_samefile\u001b[0m\u001b[0;34m(\u001b[0m\u001b[0msrc\u001b[0m\u001b[0;34m,\u001b[0m \u001b[0mdst\u001b[0m\u001b[0;34m)\u001b[0m\u001b[0;34m:\u001b[0m\u001b[0;34m\u001b[0m\u001b[0;34m\u001b[0m\u001b[0m\n\u001b[0;32m--> 234\u001b[0;31m         \u001b[0;32mraise\u001b[0m \u001b[0mSameFileError\u001b[0m\u001b[0;34m(\u001b[0m\u001b[0;34m\"{!r} and {!r} are the same file\"\u001b[0m\u001b[0;34m.\u001b[0m\u001b[0mformat\u001b[0m\u001b[0;34m(\u001b[0m\u001b[0msrc\u001b[0m\u001b[0;34m,\u001b[0m \u001b[0mdst\u001b[0m\u001b[0;34m)\u001b[0m\u001b[0;34m)\u001b[0m\u001b[0;34m\u001b[0m\u001b[0;34m\u001b[0m\u001b[0m\n\u001b[0m\u001b[1;32m    235\u001b[0m \u001b[0;34m\u001b[0m\u001b[0m\n\u001b[1;32m    236\u001b[0m     \u001b[0mfile_size\u001b[0m \u001b[0;34m=\u001b[0m \u001b[0;36m0\u001b[0m\u001b[0;34m\u001b[0m\u001b[0;34m\u001b[0m\u001b[0m\n",
            "\u001b[0;31mSameFileError\u001b[0m: '/content/HAM10000/HAM10000_images/ISIC_0028026.jpg' and '/content/HAM10000/HAM10000_images/ISIC_0028026.jpg' are the same file"
          ]
        }
      ]
    },
    {
      "cell_type": "code",
      "source": [
        "print(len(glob('/content/HAM10000/HAM10000_images/*')))"
      ],
      "metadata": {
        "id": "7CrGYlsr2ytc",
        "outputId": "0deeeff3-b4d4-49ae-fcbe-3d5e0746fef4",
        "colab": {
          "base_uri": "https://localhost:8080/"
        }
      },
      "execution_count": null,
      "outputs": [
        {
          "output_type": "stream",
          "name": "stdout",
          "text": [
            "10015\n"
          ]
        }
      ]
    },
    {
      "cell_type": "code",
      "source": [
        "shutil.rmtree('/content/HAM10000/HAM10000_images_part_1')\n",
        "shutil.rmtree('/content/HAM10000/HAM10000_images_part_2')"
      ],
      "metadata": {
        "id": "d2P03mKonKvR"
      },
      "execution_count": null,
      "outputs": []
    },
    {
      "cell_type": "code",
      "source": [
        "#Dictionary to match the Image_id with the Path of the Image\n",
        "imgPath = {}\n",
        "for x in glob(os.path.join('/content/HAM10000/HAM10000_images/*.jpg')):\n",
        "    imgPath[os.path.splitext(os.path.basename(x))[0]] = x"
      ],
      "metadata": {
        "id": "L3-uad_LL1My"
      },
      "execution_count": null,
      "outputs": []
    },
    {
      "cell_type": "code",
      "source": [
        "#Load Dataframe\n",
        "file_path = '/content/HAM10000/HAM10000_metadata.csv'\n",
        "df = pd.read_csv(file_path)"
      ],
      "metadata": {
        "id": "dEYqXWqR8L7f"
      },
      "execution_count": null,
      "outputs": []
    },
    {
      "cell_type": "code",
      "source": [
        "#Adding numerical lable for one-hot encoding\n",
        "numerical_label = LabelEncoder().fit(df['dx']).transform(df['dx'])\n",
        "df['label'] = numerical_label"
      ],
      "metadata": {
        "id": "nJuVIn9ihl-E"
      },
      "execution_count": null,
      "outputs": []
    },
    {
      "cell_type": "code",
      "source": [
        "dfs_by_label_resampled = {}\n",
        "n_samples = 800\n",
        "\n",
        "for label in range(7):\n",
        "    df_label_resampled = resample(df[df['label'] == label], n_samples=n_samples, replace=True, random_state=42)\n",
        "\n",
        "    # Append the resampled DataFrame to the dictionary\n",
        "    dfs_by_label_resampled[label] = df_label_resampled\n",
        "\n",
        "balanced_df = pd.concat(dfs_by_label_resampled.values())\n",
        "\n",
        "# Shuffle the rows\n",
        "balanced_df = balanced_df.sample(frac=1, random_state=42).reset_index(drop=True)\n",
        "balanced_df['label'].value_counts()"
      ],
      "metadata": {
        "id": "PhRBFDRG7TWV",
        "outputId": "8755190c-970b-424b-f0fa-ab4c6ee82c6a",
        "colab": {
          "base_uri": "https://localhost:8080/"
        }
      },
      "execution_count": null,
      "outputs": [
        {
          "output_type": "execute_result",
          "data": {
            "text/plain": [
              "5    800\n",
              "2    800\n",
              "3    800\n",
              "4    800\n",
              "1    800\n",
              "0    800\n",
              "6    800\n",
              "Name: label, dtype: int64"
            ]
          },
          "metadata": {},
          "execution_count": 22
        }
      ]
    },
    {
      "cell_type": "code",
      "source": [
        "df = balanced_df"
      ],
      "metadata": {
        "id": "NuqcAg1R8taL"
      },
      "execution_count": null,
      "outputs": []
    },
    {
      "cell_type": "code",
      "source": [
        "#Add Resized Image data to DataFrame\n",
        "\n",
        "size = (128,128)\n",
        "df['image'] = df['image_id'].map(imgPath.get).map(lambda x: np.asarray(Image.open(x).resize(size)))"
      ],
      "metadata": {
        "id": "qgEf4ge0WxWL"
      },
      "execution_count": null,
      "outputs": []
    },
    {
      "cell_type": "code",
      "source": [
        "x = np.asarray(df['image'].to_list())\n",
        "x = x / 255\n",
        "y = df['label']\n",
        "y = to_categorical(y, num_classes=7)\n",
        "x_train, x_sum, y_train, y_sum = train_test_split(x, y, train_size=0.7, shuffle=True)\n",
        "x_valid, x_test, y_valid, y_test = train_test_split(x_sum, y_sum, test_size=0.5)"
      ],
      "metadata": {
        "id": "O1u4dqRI_isR"
      },
      "execution_count": null,
      "outputs": []
    },
    {
      "cell_type": "code",
      "source": [
        "print('Train: ',len(x_train))\n",
        "print('Test: ',len(x_test))\n",
        "print('Validation: ',len(x_valid))"
      ],
      "metadata": {
        "id": "TxzDtlqlD4RG",
        "outputId": "7370cfa5-b1e8-4ee8-f674-911094d27159",
        "colab": {
          "base_uri": "https://localhost:8080/"
        }
      },
      "execution_count": null,
      "outputs": [
        {
          "output_type": "stream",
          "name": "stdout",
          "text": [
            "Train:  3919\n",
            "Test:  841\n",
            "Validation:  840\n"
          ]
        }
      ]
    },
    {
      "cell_type": "markdown",
      "source": [
        "##Claculating Class Weights"
      ],
      "metadata": {
        "id": "1V7tHjkYv-JP"
      }
    },
    {
      "cell_type": "code",
      "source": [
        "Y_train = np.argmax(y_train, axis=1)\n",
        "class_weights = class_weight.compute_class_weight('balanced',classes=np.unique(Y_train),y=Y_train)\n",
        "class_weights = dict(zip(np.unique(Y_train),class_weights))\n",
        "class_weights"
      ],
      "metadata": {
        "colab": {
          "base_uri": "https://localhost:8080/"
        },
        "id": "yPxiWsmCwDPq",
        "outputId": "d34a55f9-2660-42de-e216-8f0b24a23dcb"
      },
      "execution_count": null,
      "outputs": [
        {
          "output_type": "execute_result",
          "data": {
            "text/plain": [
              "{0: 0.9787712287712288,\n",
              " 1: 1.0087516087516089,\n",
              " 2: 1.0253793825222397,\n",
              " 3: 1.0123998966675278,\n",
              " 4: 0.9979628214922333,\n",
              " 5: 1.0160746694322011,\n",
              " 6: 0.9636095402016228}"
            ]
          },
          "metadata": {},
          "execution_count": 27
        }
      ]
    },
    {
      "cell_type": "markdown",
      "source": [
        "#Build Model"
      ],
      "metadata": {
        "id": "jZ7qIdTvjVsn"
      }
    },
    {
      "cell_type": "markdown",
      "source": [
        "## With Hyperparametersearch"
      ],
      "metadata": {
        "id": "j1pAltLvgm7k"
      }
    },
    {
      "cell_type": "code",
      "source": [
        "model = Sequential()\n",
        "\n",
        "# Convolutional Block 1\n",
        "model.add(Conv2D(input_shape=(128,128,3), filters=32, kernel_size=(3,3), padding=\"same\", activation=\"relu\"))\n",
        "model.add(Conv2D(filters=32, kernel_size=(3,3), padding=\"same\", activation=\"relu\"))\n",
        "model.add(MaxPooling2D(pool_size=(2,2), strides=(2,2)))\n",
        "model.add(BatchNormalization())\n",
        "\n",
        "# Convolutional Block 2\n",
        "model.add(Conv2D(filters=64, kernel_size=(3,3), padding=\"same\", activation=\"relu\"))\n",
        "model.add(Conv2D(filters=64, kernel_size=(3,3), padding=\"same\", activation=\"relu\"))\n",
        "model.add(MaxPooling2D(pool_size=(2,2), strides=(2,2)))\n",
        "model.add(BatchNormalization())\n",
        "\n",
        "# Convolutional Block 3\n",
        "model.add(Conv2D(filters=128, kernel_size=(3,3), padding=\"same\", activation=\"relu\"))\n",
        "model.add(Conv2D(filters=128, kernel_size=(3,3), padding=\"same\", activation=\"relu\"))\n",
        "model.add(MaxPooling2D(pool_size=(2,2), strides=(2,2)))\n",
        "model.add(BatchNormalization())\n",
        "\n",
        "model.add(Flatten())\n",
        "model.add(Dropout(rate=0.6))\n",
        "model.add(Dense(units=512, activation=\"relu\"))\n",
        "model.add(Dropout(rate=0.6))\n",
        "model.add(Dense(units=256, activation=\"relu\"))\n",
        "model.add(Dropout(rate=0.6))\n",
        "model.add(Dense(units=32, activation=\"relu\"))\n",
        "model.add(BatchNormalization())\n",
        "\n",
        "model.add(Dense(units=7, activation='softmax', kernel_initializer='glorot_uniform', name='classifier'))"
      ],
      "metadata": {
        "id": "WX1djxIrjQ0E"
      },
      "execution_count": null,
      "outputs": []
    },
    {
      "cell_type": "code",
      "source": [
        "model.summary()"
      ],
      "metadata": {
        "id": "pfNVjWbsjkyu",
        "outputId": "2cbbf592-219e-422f-bed7-055d5a46c748",
        "colab": {
          "base_uri": "https://localhost:8080/"
        }
      },
      "execution_count": null,
      "outputs": [
        {
          "output_type": "stream",
          "name": "stdout",
          "text": [
            "Model: \"sequential_2\"\n",
            "_________________________________________________________________\n",
            " Layer (type)                Output Shape              Param #   \n",
            "=================================================================\n",
            " conv2d_12 (Conv2D)          (None, 128, 128, 32)      896       \n",
            "                                                                 \n",
            " conv2d_13 (Conv2D)          (None, 128, 128, 32)      9248      \n",
            "                                                                 \n",
            " max_pooling2d_6 (MaxPoolin  (None, 64, 64, 32)        0         \n",
            " g2D)                                                            \n",
            "                                                                 \n",
            " batch_normalization_8 (Bat  (None, 64, 64, 32)        128       \n",
            " chNormalization)                                                \n",
            "                                                                 \n",
            " conv2d_14 (Conv2D)          (None, 64, 64, 64)        18496     \n",
            "                                                                 \n",
            " conv2d_15 (Conv2D)          (None, 64, 64, 64)        36928     \n",
            "                                                                 \n",
            " max_pooling2d_7 (MaxPoolin  (None, 32, 32, 64)        0         \n",
            " g2D)                                                            \n",
            "                                                                 \n",
            " batch_normalization_9 (Bat  (None, 32, 32, 64)        256       \n",
            " chNormalization)                                                \n",
            "                                                                 \n",
            " conv2d_16 (Conv2D)          (None, 32, 32, 128)       73856     \n",
            "                                                                 \n",
            " conv2d_17 (Conv2D)          (None, 32, 32, 128)       147584    \n",
            "                                                                 \n",
            " max_pooling2d_8 (MaxPoolin  (None, 16, 16, 128)       0         \n",
            " g2D)                                                            \n",
            "                                                                 \n",
            " batch_normalization_10 (Ba  (None, 16, 16, 128)       512       \n",
            " tchNormalization)                                               \n",
            "                                                                 \n",
            " flatten_2 (Flatten)         (None, 32768)             0         \n",
            "                                                                 \n",
            " dropout_6 (Dropout)         (None, 32768)             0         \n",
            "                                                                 \n",
            " dense_6 (Dense)             (None, 512)               16777728  \n",
            "                                                                 \n",
            " dropout_7 (Dropout)         (None, 512)               0         \n",
            "                                                                 \n",
            " dense_7 (Dense)             (None, 256)               131328    \n",
            "                                                                 \n",
            " dropout_8 (Dropout)         (None, 256)               0         \n",
            "                                                                 \n",
            " dense_8 (Dense)             (None, 32)                8224      \n",
            "                                                                 \n",
            " batch_normalization_11 (Ba  (None, 32)                128       \n",
            " tchNormalization)                                               \n",
            "                                                                 \n",
            " classifier (Dense)          (None, 7)                 231       \n",
            "                                                                 \n",
            "=================================================================\n",
            "Total params: 17205543 (65.63 MB)\n",
            "Trainable params: 17205031 (65.63 MB)\n",
            "Non-trainable params: 512 (2.00 KB)\n",
            "_________________________________________________________________\n"
          ]
        }
      ]
    },
    {
      "cell_type": "code",
      "source": [
        "learning_rate = 0.0005\n",
        "\n",
        "optimizer = Adam(learning_rate=learning_rate)\n",
        "\n",
        "optimizer_name = 'Adam'\n",
        "\n",
        "loss_name = 'categorical_crossentropy'\n",
        "\n",
        "model.compile(optimizer=optimizer,\n",
        "              loss=loss_name,\n",
        "              metrics = [\n",
        "                    metrics.Precision(),\n",
        "                    metrics.Recall(),\n",
        "                    metrics.FalsePositives(),\n",
        "                    metrics.FalseNegatives(),\n",
        "                    metrics.TruePositives(),\n",
        "                    metrics.TrueNegatives(),\n",
        "                    metrics.AUC()\n",
        "                ])"
      ],
      "metadata": {
        "id": "C__IcaDckNj1"
      },
      "execution_count": null,
      "outputs": []
    },
    {
      "cell_type": "code",
      "source": [
        "hist = model.fit(x_train, y_train, epochs=30, validation_data=(x_valid, y_valid), batch_size=8, class_weight=class_weights)"
      ],
      "metadata": {
        "id": "cvYBIVAzmVK2",
        "outputId": "84c66172-7d16-4fcf-844b-8b2c2c9c9b94",
        "colab": {
          "base_uri": "https://localhost:8080/"
        }
      },
      "execution_count": null,
      "outputs": [
        {
          "output_type": "stream",
          "name": "stdout",
          "text": [
            "Epoch 1/30\n",
            "490/490 [==============================] - 6s 13ms/step - loss: 2.0942 - precision_2: 0.2934 - recall_2: 0.0681 - false_positives_2: 643.0000 - false_negatives_2: 3652.0000 - true_positives_2: 267.0000 - true_negatives_2: 22871.0000 - auc_2: 0.6118 - val_loss: 1.7531 - val_precision_2: 0.4222 - val_recall_2: 0.0452 - val_false_positives_2: 52.0000 - val_false_negatives_2: 802.0000 - val_true_positives_2: 38.0000 - val_true_negatives_2: 4988.0000 - val_auc_2: 0.7030\n",
            "Epoch 2/30\n",
            "490/490 [==============================] - 5s 10ms/step - loss: 1.8510 - precision_2: 0.3980 - recall_2: 0.0508 - false_positives_2: 301.0000 - false_negatives_2: 3720.0000 - true_positives_2: 199.0000 - true_negatives_2: 23213.0000 - auc_2: 0.6713 - val_loss: 1.6307 - val_precision_2: 0.5253 - val_recall_2: 0.0619 - val_false_positives_2: 47.0000 - val_false_negatives_2: 788.0000 - val_true_positives_2: 52.0000 - val_true_negatives_2: 4993.0000 - val_auc_2: 0.7576\n",
            "Epoch 3/30\n",
            "490/490 [==============================] - 6s 11ms/step - loss: 1.6984 - precision_2: 0.5241 - recall_2: 0.0832 - false_positives_2: 296.0000 - false_negatives_2: 3593.0000 - true_positives_2: 326.0000 - true_negatives_2: 23218.0000 - auc_2: 0.7318 - val_loss: 1.8951 - val_precision_2: 0.4571 - val_recall_2: 0.1333 - val_false_positives_2: 133.0000 - val_false_negatives_2: 728.0000 - val_true_positives_2: 112.0000 - val_true_negatives_2: 4907.0000 - val_auc_2: 0.6857\n",
            "Epoch 4/30\n",
            "490/490 [==============================] - 5s 11ms/step - loss: 1.6131 - precision_2: 0.6171 - recall_2: 0.1324 - false_positives_2: 322.0000 - false_negatives_2: 3400.0000 - true_positives_2: 519.0000 - true_negatives_2: 23192.0000 - auc_2: 0.7644 - val_loss: 1.3971 - val_precision_2: 0.7672 - val_recall_2: 0.1726 - val_false_positives_2: 44.0000 - val_false_negatives_2: 695.0000 - val_true_positives_2: 145.0000 - val_true_negatives_2: 4996.0000 - val_auc_2: 0.8352\n",
            "Epoch 5/30\n",
            "490/490 [==============================] - 5s 11ms/step - loss: 1.4789 - precision_2: 0.6835 - recall_2: 0.1796 - false_positives_2: 326.0000 - false_negatives_2: 3215.0000 - true_positives_2: 704.0000 - true_negatives_2: 23188.0000 - auc_2: 0.8075 - val_loss: 1.3673 - val_precision_2: 0.6949 - val_recall_2: 0.2250 - val_false_positives_2: 83.0000 - val_false_negatives_2: 651.0000 - val_true_positives_2: 189.0000 - val_true_negatives_2: 4957.0000 - val_auc_2: 0.8382\n",
            "Epoch 6/30\n",
            "490/490 [==============================] - 5s 11ms/step - loss: 1.4267 - precision_2: 0.6680 - recall_2: 0.2126 - false_positives_2: 414.0000 - false_negatives_2: 3086.0000 - true_positives_2: 833.0000 - true_negatives_2: 23100.0000 - auc_2: 0.8231 - val_loss: 1.5929 - val_precision_2: 0.5722 - val_recall_2: 0.2643 - val_false_positives_2: 166.0000 - val_false_negatives_2: 618.0000 - val_true_positives_2: 222.0000 - val_true_negatives_2: 4874.0000 - val_auc_2: 0.7953\n",
            "Epoch 7/30\n",
            "490/490 [==============================] - 5s 11ms/step - loss: 1.3761 - precision_2: 0.7090 - recall_2: 0.2381 - false_positives_2: 383.0000 - false_negatives_2: 2986.0000 - true_positives_2: 933.0000 - true_negatives_2: 23131.0000 - auc_2: 0.8377 - val_loss: 1.6881 - val_precision_2: 0.4980 - val_recall_2: 0.3036 - val_false_positives_2: 257.0000 - val_false_negatives_2: 585.0000 - val_true_positives_2: 255.0000 - val_true_negatives_2: 4783.0000 - val_auc_2: 0.7952\n",
            "Epoch 8/30\n",
            "490/490 [==============================] - 5s 11ms/step - loss: 1.3007 - precision_2: 0.7220 - recall_2: 0.2730 - false_positives_2: 412.0000 - false_negatives_2: 2849.0000 - true_positives_2: 1070.0000 - true_negatives_2: 23102.0000 - auc_2: 0.8561 - val_loss: 1.4340 - val_precision_2: 0.5966 - val_recall_2: 0.3381 - val_false_positives_2: 192.0000 - val_false_negatives_2: 556.0000 - val_true_positives_2: 284.0000 - val_true_negatives_2: 4848.0000 - val_auc_2: 0.8320\n",
            "Epoch 9/30\n",
            "490/490 [==============================] - 5s 11ms/step - loss: 1.2837 - precision_2: 0.7099 - recall_2: 0.2991 - false_positives_2: 479.0000 - false_negatives_2: 2747.0000 - true_positives_2: 1172.0000 - true_negatives_2: 23035.0000 - auc_2: 0.8603 - val_loss: 2.2443 - val_precision_2: 0.4419 - val_recall_2: 0.2810 - val_false_positives_2: 298.0000 - val_false_negatives_2: 604.0000 - val_true_positives_2: 236.0000 - val_true_negatives_2: 4742.0000 - val_auc_2: 0.7150\n",
            "Epoch 10/30\n",
            "490/490 [==============================] - 5s 11ms/step - loss: 1.1974 - precision_2: 0.7282 - recall_2: 0.3465 - false_positives_2: 507.0000 - false_negatives_2: 2561.0000 - true_positives_2: 1358.0000 - true_negatives_2: 23007.0000 - auc_2: 0.8800 - val_loss: 1.0519 - val_precision_2: 0.7317 - val_recall_2: 0.4286 - val_false_positives_2: 132.0000 - val_false_negatives_2: 480.0000 - val_true_positives_2: 360.0000 - val_true_negatives_2: 4908.0000 - val_auc_2: 0.9081\n",
            "Epoch 11/30\n",
            "490/490 [==============================] - 5s 11ms/step - loss: 1.1565 - precision_2: 0.7267 - recall_2: 0.3976 - false_positives_2: 586.0000 - false_negatives_2: 2361.0000 - true_positives_2: 1558.0000 - true_negatives_2: 22928.0000 - auc_2: 0.8881 - val_loss: 0.9853 - val_precision_2: 0.7743 - val_recall_2: 0.4940 - val_false_positives_2: 121.0000 - val_false_negatives_2: 425.0000 - val_true_positives_2: 415.0000 - val_true_negatives_2: 4919.0000 - val_auc_2: 0.9191\n",
            "Epoch 12/30\n",
            "490/490 [==============================] - 5s 10ms/step - loss: 1.0531 - precision_2: 0.7615 - recall_2: 0.4481 - false_positives_2: 550.0000 - false_negatives_2: 2163.0000 - true_positives_2: 1756.0000 - true_negatives_2: 22964.0000 - auc_2: 0.9086 - val_loss: 1.1573 - val_precision_2: 0.6980 - val_recall_2: 0.4155 - val_false_positives_2: 151.0000 - val_false_negatives_2: 491.0000 - val_true_positives_2: 349.0000 - val_true_negatives_2: 4889.0000 - val_auc_2: 0.8864\n",
            "Epoch 13/30\n",
            "490/490 [==============================] - 5s 11ms/step - loss: 0.9878 - precision_2: 0.7689 - recall_2: 0.5085 - false_positives_2: 599.0000 - false_negatives_2: 1926.0000 - true_positives_2: 1993.0000 - true_negatives_2: 22915.0000 - auc_2: 0.9190 - val_loss: 0.8451 - val_precision_2: 0.7902 - val_recall_2: 0.5786 - val_false_positives_2: 129.0000 - val_false_negatives_2: 354.0000 - val_true_positives_2: 486.0000 - val_true_negatives_2: 4911.0000 - val_auc_2: 0.9415\n",
            "Epoch 14/30\n",
            "490/490 [==============================] - 5s 11ms/step - loss: 0.9278 - precision_2: 0.7799 - recall_2: 0.5397 - false_positives_2: 597.0000 - false_negatives_2: 1804.0000 - true_positives_2: 2115.0000 - true_negatives_2: 22917.0000 - auc_2: 0.9290 - val_loss: 0.9055 - val_precision_2: 0.7492 - val_recall_2: 0.5476 - val_false_positives_2: 154.0000 - val_false_negatives_2: 380.0000 - val_true_positives_2: 460.0000 - val_true_negatives_2: 4886.0000 - val_auc_2: 0.9320\n",
            "Epoch 15/30\n",
            "490/490 [==============================] - 5s 11ms/step - loss: 0.8576 - precision_2: 0.8040 - recall_2: 0.5902 - false_positives_2: 564.0000 - false_negatives_2: 1606.0000 - true_positives_2: 2313.0000 - true_negatives_2: 22950.0000 - auc_2: 0.9385 - val_loss: 1.1317 - val_precision_2: 0.7217 - val_recall_2: 0.4321 - val_false_positives_2: 140.0000 - val_false_negatives_2: 477.0000 - val_true_positives_2: 363.0000 - val_true_negatives_2: 4900.0000 - val_auc_2: 0.8920\n",
            "Epoch 16/30\n",
            "490/490 [==============================] - 5s 11ms/step - loss: 0.7584 - precision_2: 0.8248 - recall_2: 0.6320 - false_positives_2: 526.0000 - false_negatives_2: 1442.0000 - true_positives_2: 2477.0000 - true_negatives_2: 22988.0000 - auc_2: 0.9527 - val_loss: 0.6980 - val_precision_2: 0.8401 - val_recall_2: 0.6881 - val_false_positives_2: 110.0000 - val_false_negatives_2: 262.0000 - val_true_positives_2: 578.0000 - val_true_negatives_2: 4930.0000 - val_auc_2: 0.9588\n",
            "Epoch 17/30\n",
            "490/490 [==============================] - 5s 10ms/step - loss: 0.7212 - precision_2: 0.8331 - recall_2: 0.6622 - false_positives_2: 520.0000 - false_negatives_2: 1324.0000 - true_positives_2: 2595.0000 - true_negatives_2: 22994.0000 - auc_2: 0.9563 - val_loss: 0.6733 - val_precision_2: 0.8430 - val_recall_2: 0.6583 - val_false_positives_2: 103.0000 - val_false_negatives_2: 287.0000 - val_true_positives_2: 553.0000 - val_true_negatives_2: 4937.0000 - val_auc_2: 0.9631\n",
            "Epoch 18/30\n",
            "490/490 [==============================] - 5s 11ms/step - loss: 0.6576 - precision_2: 0.8479 - recall_2: 0.7012 - false_positives_2: 493.0000 - false_negatives_2: 1171.0000 - true_positives_2: 2748.0000 - true_negatives_2: 23021.0000 - auc_2: 0.9631 - val_loss: 0.9638 - val_precision_2: 0.7375 - val_recall_2: 0.5250 - val_false_positives_2: 157.0000 - val_false_negatives_2: 399.0000 - val_true_positives_2: 441.0000 - val_true_negatives_2: 4883.0000 - val_auc_2: 0.9234\n",
            "Epoch 19/30\n",
            "490/490 [==============================] - 5s 11ms/step - loss: 0.5990 - precision_2: 0.8602 - recall_2: 0.7288 - false_positives_2: 464.0000 - false_negatives_2: 1063.0000 - true_positives_2: 2856.0000 - true_negatives_2: 23050.0000 - auc_2: 0.9698 - val_loss: 0.8390 - val_precision_2: 0.7870 - val_recall_2: 0.6202 - val_false_positives_2: 141.0000 - val_false_negatives_2: 319.0000 - val_true_positives_2: 521.0000 - val_true_negatives_2: 4899.0000 - val_auc_2: 0.9417\n",
            "Epoch 20/30\n",
            "490/490 [==============================] - 6s 12ms/step - loss: 0.5384 - precision_2: 0.8792 - recall_2: 0.7599 - false_positives_2: 409.0000 - false_negatives_2: 941.0000 - true_positives_2: 2978.0000 - true_negatives_2: 23105.0000 - auc_2: 0.9751 - val_loss: 0.6078 - val_precision_2: 0.8531 - val_recall_2: 0.7607 - val_false_positives_2: 110.0000 - val_false_negatives_2: 201.0000 - val_true_positives_2: 639.0000 - val_true_negatives_2: 4930.0000 - val_auc_2: 0.9676\n",
            "Epoch 21/30\n",
            "490/490 [==============================] - 6s 12ms/step - loss: 0.4926 - precision_2: 0.8854 - recall_2: 0.7808 - false_positives_2: 396.0000 - false_negatives_2: 859.0000 - true_positives_2: 3060.0000 - true_negatives_2: 23118.0000 - auc_2: 0.9786 - val_loss: 0.7210 - val_precision_2: 0.8291 - val_recall_2: 0.6988 - val_false_positives_2: 121.0000 - val_false_negatives_2: 253.0000 - val_true_positives_2: 587.0000 - val_true_negatives_2: 4919.0000 - val_auc_2: 0.9538\n",
            "Epoch 22/30\n",
            "490/490 [==============================] - 6s 12ms/step - loss: 0.4710 - precision_2: 0.8889 - recall_2: 0.7918 - false_positives_2: 388.0000 - false_negatives_2: 816.0000 - true_positives_2: 3103.0000 - true_negatives_2: 23126.0000 - auc_2: 0.9809 - val_loss: 0.7554 - val_precision_2: 0.8020 - val_recall_2: 0.6845 - val_false_positives_2: 142.0000 - val_false_negatives_2: 265.0000 - val_true_positives_2: 575.0000 - val_true_negatives_2: 4898.0000 - val_auc_2: 0.9528\n",
            "Epoch 23/30\n",
            "490/490 [==============================] - 6s 12ms/step - loss: 0.4167 - precision_2: 0.9070 - recall_2: 0.8283 - false_positives_2: 333.0000 - false_negatives_2: 673.0000 - true_positives_2: 3246.0000 - true_negatives_2: 23181.0000 - auc_2: 0.9843 - val_loss: 0.5933 - val_precision_2: 0.8602 - val_recall_2: 0.7250 - val_false_positives_2: 99.0000 - val_false_negatives_2: 231.0000 - val_true_positives_2: 609.0000 - val_true_negatives_2: 4941.0000 - val_auc_2: 0.9703\n",
            "Epoch 24/30\n",
            "490/490 [==============================] - 6s 12ms/step - loss: 0.3810 - precision_2: 0.9108 - recall_2: 0.8339 - false_positives_2: 320.0000 - false_negatives_2: 651.0000 - true_positives_2: 3268.0000 - true_negatives_2: 23194.0000 - auc_2: 0.9868 - val_loss: 0.7649 - val_precision_2: 0.7882 - val_recall_2: 0.7131 - val_false_positives_2: 161.0000 - val_false_negatives_2: 241.0000 - val_true_positives_2: 599.0000 - val_true_negatives_2: 4879.0000 - val_auc_2: 0.9550\n",
            "Epoch 25/30\n",
            "490/490 [==============================] - 5s 11ms/step - loss: 0.3480 - precision_2: 0.9248 - recall_2: 0.8533 - false_positives_2: 272.0000 - false_negatives_2: 575.0000 - true_positives_2: 3344.0000 - true_negatives_2: 23242.0000 - auc_2: 0.9887 - val_loss: 0.6944 - val_precision_2: 0.8071 - val_recall_2: 0.7071 - val_false_positives_2: 142.0000 - val_false_negatives_2: 246.0000 - val_true_positives_2: 594.0000 - val_true_negatives_2: 4898.0000 - val_auc_2: 0.9611\n",
            "Epoch 26/30\n",
            "490/490 [==============================] - 5s 10ms/step - loss: 0.3146 - precision_2: 0.9290 - recall_2: 0.8709 - false_positives_2: 261.0000 - false_negatives_2: 506.0000 - true_positives_2: 3413.0000 - true_negatives_2: 23253.0000 - auc_2: 0.9905 - val_loss: 0.5000 - val_precision_2: 0.8710 - val_recall_2: 0.8119 - val_false_positives_2: 101.0000 - val_false_negatives_2: 158.0000 - val_true_positives_2: 682.0000 - val_true_negatives_2: 4939.0000 - val_auc_2: 0.9783\n",
            "Epoch 27/30\n",
            "490/490 [==============================] - 5s 10ms/step - loss: 0.3191 - precision_2: 0.9291 - recall_2: 0.8722 - false_positives_2: 261.0000 - false_negatives_2: 501.0000 - true_positives_2: 3418.0000 - true_negatives_2: 23253.0000 - auc_2: 0.9893 - val_loss: 0.5803 - val_precision_2: 0.8613 - val_recall_2: 0.7833 - val_false_positives_2: 106.0000 - val_false_negatives_2: 182.0000 - val_true_positives_2: 658.0000 - val_true_negatives_2: 4934.0000 - val_auc_2: 0.9704\n",
            "Epoch 28/30\n",
            "490/490 [==============================] - 5s 10ms/step - loss: 0.2686 - precision_2: 0.9382 - recall_2: 0.8916 - false_positives_2: 230.0000 - false_negatives_2: 425.0000 - true_positives_2: 3494.0000 - true_negatives_2: 23284.0000 - auc_2: 0.9930 - val_loss: 0.5571 - val_precision_2: 0.8697 - val_recall_2: 0.8024 - val_false_positives_2: 101.0000 - val_false_negatives_2: 166.0000 - val_true_positives_2: 674.0000 - val_true_negatives_2: 4939.0000 - val_auc_2: 0.9728\n",
            "Epoch 29/30\n",
            "490/490 [==============================] - 5s 11ms/step - loss: 0.2870 - precision_2: 0.9356 - recall_2: 0.8867 - false_positives_2: 239.0000 - false_negatives_2: 444.0000 - true_positives_2: 3475.0000 - true_negatives_2: 23275.0000 - auc_2: 0.9914 - val_loss: 0.5837 - val_precision_2: 0.8673 - val_recall_2: 0.7857 - val_false_positives_2: 101.0000 - val_false_negatives_2: 180.0000 - val_true_positives_2: 660.0000 - val_true_negatives_2: 4939.0000 - val_auc_2: 0.9682\n",
            "Epoch 30/30\n",
            "490/490 [==============================] - 6s 11ms/step - loss: 0.2815 - precision_2: 0.9367 - recall_2: 0.8946 - false_positives_2: 237.0000 - false_negatives_2: 413.0000 - true_positives_2: 3506.0000 - true_negatives_2: 23277.0000 - auc_2: 0.9910 - val_loss: 0.7804 - val_precision_2: 0.7935 - val_recall_2: 0.7321 - val_false_positives_2: 160.0000 - val_false_negatives_2: 225.0000 - val_true_positives_2: 615.0000 - val_true_negatives_2: 4880.0000 - val_auc_2: 0.9521\n"
          ]
        }
      ]
    },
    {
      "cell_type": "markdown",
      "source": [
        "#Evaluation"
      ],
      "metadata": {
        "id": "pqZ7IE1MtDQe"
      }
    },
    {
      "cell_type": "code",
      "source": [
        "test_data = model.evaluate(x_test, y_test)"
      ],
      "metadata": {
        "colab": {
          "base_uri": "https://localhost:8080/"
        },
        "id": "R4lUJ5vsunT4",
        "outputId": "e633085b-dc70-49dd-e3f8-54a0b6e31cb6"
      },
      "execution_count": null,
      "outputs": [
        {
          "output_type": "stream",
          "name": "stdout",
          "text": [
            "27/27 [==============================] - 0s 8ms/step - loss: 0.8010 - precision_2: 0.7804 - recall_2: 0.7182 - false_positives_2: 170.0000 - false_negatives_2: 237.0000 - true_positives_2: 604.0000 - true_negatives_2: 4876.0000 - auc_2: 0.9507\n"
          ]
        }
      ]
    },
    {
      "cell_type": "code",
      "source": [
        "fig = plt.figure()\n",
        "plt.plot(hist.history['loss'], color='teal', label='Loss')\n",
        "plt.plot(hist.history['val_loss'], color='orange', label='Val Loss')\n",
        "fig.suptitle('Loss')\n",
        "plt.legend(loc='upper left')\n",
        "plt.show()"
      ],
      "metadata": {
        "id": "yCWM7gCutA13",
        "outputId": "83857ae0-324b-44c0-9d7c-a8bc6ff54c97",
        "colab": {
          "base_uri": "https://localhost:8080/",
          "height": 478
        }
      },
      "execution_count": null,
      "outputs": [
        {
          "output_type": "display_data",
          "data": {
            "text/plain": [
              "<Figure size 640x480 with 1 Axes>"
            ],
            "image/png": "[encoded data removed]"
          },
          "metadata": {}
        }
      ]
    },
    {
      "cell_type": "code",
      "source": [
        "fig = plt.figure()\n",
        "plt.plot(hist.history['precision'], color='teal', label='Precision')\n",
        "plt.plot(hist.history['val_precision'], color='orange', label='Val Precision')\n",
        "fig.suptitle('Precision')\n",
        "plt.legend(loc='upper left')\n",
        "plt.show()"
      ],
      "metadata": {
        "id": "sTKSygaV5xgN",
        "outputId": "36e65cc1-b85d-4e22-b32b-0e37b0abd4e9",
        "colab": {
          "base_uri": "https://localhost:8080/",
          "height": 234
        }
      },
      "execution_count": null,
      "outputs": [
        {
          "output_type": "error",
          "ename": "KeyError",
          "evalue": "'precision'",
          "traceback": [
            "\u001b[0;31m---------------------------------------------------------------------------\u001b[0m",
            "\u001b[0;31mKeyError\u001b[0m                                  Traceback (most recent call last)",
            "\u001b[0;32m<ipython-input-49-25feff460e99>\u001b[0m in \u001b[0;36m<cell line: 2>\u001b[0;34m()\u001b[0m\n\u001b[1;32m      1\u001b[0m \u001b[0mfig\u001b[0m \u001b[0;34m=\u001b[0m \u001b[0mplt\u001b[0m\u001b[0;34m.\u001b[0m\u001b[0mfigure\u001b[0m\u001b[0;34m(\u001b[0m\u001b[0;34m)\u001b[0m\u001b[0;34m\u001b[0m\u001b[0;34m\u001b[0m\u001b[0m\n\u001b[0;32m----> 2\u001b[0;31m \u001b[0mplt\u001b[0m\u001b[0;34m.\u001b[0m\u001b[0mplot\u001b[0m\u001b[0;34m(\u001b[0m\u001b[0mhist\u001b[0m\u001b[0;34m.\u001b[0m\u001b[0mhistory\u001b[0m\u001b[0;34m[\u001b[0m\u001b[0;34m'precision'\u001b[0m\u001b[0;34m]\u001b[0m\u001b[0;34m,\u001b[0m \u001b[0mcolor\u001b[0m\u001b[0;34m=\u001b[0m\u001b[0;34m'teal'\u001b[0m\u001b[0;34m,\u001b[0m \u001b[0mlabel\u001b[0m\u001b[0;34m=\u001b[0m\u001b[0;34m'Precision'\u001b[0m\u001b[0;34m)\u001b[0m\u001b[0;34m\u001b[0m\u001b[0;34m\u001b[0m\u001b[0m\n\u001b[0m\u001b[1;32m      3\u001b[0m \u001b[0mplt\u001b[0m\u001b[0;34m.\u001b[0m\u001b[0mplot\u001b[0m\u001b[0;34m(\u001b[0m\u001b[0mhist\u001b[0m\u001b[0;34m.\u001b[0m\u001b[0mhistory\u001b[0m\u001b[0;34m[\u001b[0m\u001b[0;34m'val_precision'\u001b[0m\u001b[0;34m]\u001b[0m\u001b[0;34m,\u001b[0m \u001b[0mcolor\u001b[0m\u001b[0;34m=\u001b[0m\u001b[0;34m'orange'\u001b[0m\u001b[0;34m,\u001b[0m \u001b[0mlabel\u001b[0m\u001b[0;34m=\u001b[0m\u001b[0;34m'Val Precision'\u001b[0m\u001b[0;34m)\u001b[0m\u001b[0;34m\u001b[0m\u001b[0;34m\u001b[0m\u001b[0m\n\u001b[1;32m      4\u001b[0m \u001b[0mfig\u001b[0m\u001b[0;34m.\u001b[0m\u001b[0msuptitle\u001b[0m\u001b[0;34m(\u001b[0m\u001b[0;34m'Precision'\u001b[0m\u001b[0;34m)\u001b[0m\u001b[0;34m\u001b[0m\u001b[0;34m\u001b[0m\u001b[0m\n\u001b[1;32m      5\u001b[0m \u001b[0mplt\u001b[0m\u001b[0;34m.\u001b[0m\u001b[0mlegend\u001b[0m\u001b[0;34m(\u001b[0m\u001b[0mloc\u001b[0m\u001b[0;34m=\u001b[0m\u001b[0;34m'upper left'\u001b[0m\u001b[0;34m)\u001b[0m\u001b[0;34m\u001b[0m\u001b[0;34m\u001b[0m\u001b[0m\n",
            "\u001b[0;31mKeyError\u001b[0m: 'precision'"
          ]
        },
        {
          "output_type": "display_data",
          "data": {
            "text/plain": [
              "<Figure size 640x480 with 0 Axes>"
            ]
          },
          "metadata": {}
        }
      ]
    },
    {
      "cell_type": "code",
      "source": [
        "fig = plt.figure()\n",
        "plt.plot(hist.history['false_negatives'], color='teal', label='False_Negative')\n",
        "plt.plot(hist.history['val_false_negatives'], color='cyan', label='Val_False_Negative')\n",
        "plt.plot(hist.history['false_positives'], color='orange', label='False_Positive')\n",
        "plt.plot(hist.history['val_false_positives'], color='magenta', label='Val_False_Positive')\n",
        "fig.suptitle('FN & FP')\n",
        "plt.legend(loc='upper left')\n",
        "plt.show()"
      ],
      "metadata": {
        "id": "bJxfyaYKACPl",
        "outputId": "7df2966c-0640-4a7f-cc71-df500e7fb0d1",
        "colab": {
          "base_uri": "https://localhost:8080/",
          "height": 234
        }
      },
      "execution_count": null,
      "outputs": [
        {
          "output_type": "error",
          "ename": "KeyError",
          "evalue": "'false_negatives'",
          "traceback": [
            "\u001b[0;31m---------------------------------------------------------------------------\u001b[0m",
            "\u001b[0;31mKeyError\u001b[0m                                  Traceback (most recent call last)",
            "\u001b[0;32m<ipython-input-50-4a1a897af277>\u001b[0m in \u001b[0;36m<cell line: 2>\u001b[0;34m()\u001b[0m\n\u001b[1;32m      1\u001b[0m \u001b[0mfig\u001b[0m \u001b[0;34m=\u001b[0m \u001b[0mplt\u001b[0m\u001b[0;34m.\u001b[0m\u001b[0mfigure\u001b[0m\u001b[0;34m(\u001b[0m\u001b[0;34m)\u001b[0m\u001b[0;34m\u001b[0m\u001b[0;34m\u001b[0m\u001b[0m\n\u001b[0;32m----> 2\u001b[0;31m \u001b[0mplt\u001b[0m\u001b[0;34m.\u001b[0m\u001b[0mplot\u001b[0m\u001b[0;34m(\u001b[0m\u001b[0mhist\u001b[0m\u001b[0;34m.\u001b[0m\u001b[0mhistory\u001b[0m\u001b[0;34m[\u001b[0m\u001b[0;34m'false_negatives'\u001b[0m\u001b[0;34m]\u001b[0m\u001b[0;34m,\u001b[0m \u001b[0mcolor\u001b[0m\u001b[0;34m=\u001b[0m\u001b[0;34m'teal'\u001b[0m\u001b[0;34m,\u001b[0m \u001b[0mlabel\u001b[0m\u001b[0;34m=\u001b[0m\u001b[0;34m'False_Negative'\u001b[0m\u001b[0;34m)\u001b[0m\u001b[0;34m\u001b[0m\u001b[0;34m\u001b[0m\u001b[0m\n\u001b[0m\u001b[1;32m      3\u001b[0m \u001b[0mplt\u001b[0m\u001b[0;34m.\u001b[0m\u001b[0mplot\u001b[0m\u001b[0;34m(\u001b[0m\u001b[0mhist\u001b[0m\u001b[0;34m.\u001b[0m\u001b[0mhistory\u001b[0m\u001b[0;34m[\u001b[0m\u001b[0;34m'val_false_negatives'\u001b[0m\u001b[0;34m]\u001b[0m\u001b[0;34m,\u001b[0m \u001b[0mcolor\u001b[0m\u001b[0;34m=\u001b[0m\u001b[0;34m'cyan'\u001b[0m\u001b[0;34m,\u001b[0m \u001b[0mlabel\u001b[0m\u001b[0;34m=\u001b[0m\u001b[0;34m'Val_False_Negative'\u001b[0m\u001b[0;34m)\u001b[0m\u001b[0;34m\u001b[0m\u001b[0;34m\u001b[0m\u001b[0m\n\u001b[1;32m      4\u001b[0m \u001b[0mplt\u001b[0m\u001b[0;34m.\u001b[0m\u001b[0mplot\u001b[0m\u001b[0;34m(\u001b[0m\u001b[0mhist\u001b[0m\u001b[0;34m.\u001b[0m\u001b[0mhistory\u001b[0m\u001b[0;34m[\u001b[0m\u001b[0;34m'false_positives'\u001b[0m\u001b[0;34m]\u001b[0m\u001b[0;34m,\u001b[0m \u001b[0mcolor\u001b[0m\u001b[0;34m=\u001b[0m\u001b[0;34m'orange'\u001b[0m\u001b[0;34m,\u001b[0m \u001b[0mlabel\u001b[0m\u001b[0;34m=\u001b[0m\u001b[0;34m'False_Positive'\u001b[0m\u001b[0;34m)\u001b[0m\u001b[0;34m\u001b[0m\u001b[0;34m\u001b[0m\u001b[0m\n\u001b[1;32m      5\u001b[0m \u001b[0mplt\u001b[0m\u001b[0;34m.\u001b[0m\u001b[0mplot\u001b[0m\u001b[0;34m(\u001b[0m\u001b[0mhist\u001b[0m\u001b[0;34m.\u001b[0m\u001b[0mhistory\u001b[0m\u001b[0;34m[\u001b[0m\u001b[0;34m'val_false_positives'\u001b[0m\u001b[0;34m]\u001b[0m\u001b[0;34m,\u001b[0m \u001b[0mcolor\u001b[0m\u001b[0;34m=\u001b[0m\u001b[0;34m'magenta'\u001b[0m\u001b[0;34m,\u001b[0m \u001b[0mlabel\u001b[0m\u001b[0;34m=\u001b[0m\u001b[0;34m'Val_False_Positive'\u001b[0m\u001b[0;34m)\u001b[0m\u001b[0;34m\u001b[0m\u001b[0;34m\u001b[0m\u001b[0m\n",
            "\u001b[0;31mKeyError\u001b[0m: 'false_negatives'"
          ]
        },
        {
          "output_type": "display_data",
          "data": {
            "text/plain": [
              "<Figure size 640x480 with 0 Axes>"
            ]
          },
          "metadata": {}
        }
      ]
    },
    {
      "cell_type": "code",
      "source": [
        "Y_pred = model.predict(x_test)\n",
        "Y_pred = np.argmax(Y_pred,axis=1)\n",
        "Y_test = np.argmax(y_test,axis=1)\n",
        "ConfusionMatrixDisplay.from_predictions(Y_test, Y_pred)\n",
        "plt.show()"
      ],
      "metadata": {
        "colab": {
          "base_uri": "https://localhost:8080/",
          "height": 467
        },
        "id": "mFqQIbzzgSXC",
        "outputId": "a98d92f3-930d-4ef2-d430-6485cb02b6aa"
      },
      "execution_count": null,
      "outputs": [
        {
          "output_type": "stream",
          "name": "stdout",
          "text": [
            "27/27 [==============================] - 0s 6ms/step\n"
          ]
        },
        {
          "output_type": "display_data",
          "data": {
            "text/plain": [
              "<Figure size 640x480 with 2 Axes>"
            ],
            "image/png": "[encoded data removed]"
          },
          "metadata": {}
        }
      ]
    },
    {
      "cell_type": "code",
      "source": [
        "print(classification_report(Y_test, Y_pred))"
      ],
      "metadata": {
        "colab": {
          "base_uri": "https://localhost:8080/"
        },
        "id": "V0Z0pvZ0mIcN",
        "outputId": "5ba43a39-7652-4df5-d9c1-97efb660e864"
      },
      "execution_count": null,
      "outputs": [
        {
          "output_type": "stream",
          "name": "stdout",
          "text": [
            "              precision    recall  f1-score   support\n",
            "\n",
            "           0       0.74      0.79      0.77       117\n",
            "           1       0.64      0.88      0.74       120\n",
            "           2       0.88      0.35      0.50       130\n",
            "           3       0.97      0.93      0.95       123\n",
            "           4       0.76      0.55      0.64       128\n",
            "           5       0.52      0.81      0.63       120\n",
            "           6       0.98      0.97      0.98       103\n",
            "\n",
            "    accuracy                           0.75       841\n",
            "   macro avg       0.79      0.76      0.74       841\n",
            "weighted avg       0.78      0.75      0.74       841\n",
            "\n"
          ]
        }
      ]
    },
    {
      "cell_type": "code",
      "source": [
        "unique, counts = np.unique(Y_train, return_counts=True)\n",
        "label_count = dict(zip(unique, counts))\n",
        "for i in range(7):\n",
        "  print(i,'  ',label_count.get(i))\n",
        "\n",
        "for i in range(7):\n",
        "  print(i,'  ',label_count.get(i)*class_weights.get(i))"
      ],
      "metadata": {
        "id": "u8um3oklzSVS"
      },
      "execution_count": null,
      "outputs": []
    },
    {
      "cell_type": "markdown",
      "source": [
        "#Save / Load Model"
      ],
      "metadata": {
        "id": "RFaqKLQG3xRy"
      }
    },
    {
      "cell_type": "code",
      "source": [
        "model.save('/content/drive/My Drive/ML-Models/resampling.keras')"
      ],
      "metadata": {
        "id": "ROkOhCYW3wlw"
      },
      "execution_count": null,
      "outputs": []
    },
    {
      "cell_type": "code",
      "source": [
        "model = load_model('/content/drive/My Drive/ML-Models/')"
      ],
      "metadata": {
        "id": "cScZzao3be8w"
      },
      "execution_count": null,
      "outputs": []
    }
  ]
}